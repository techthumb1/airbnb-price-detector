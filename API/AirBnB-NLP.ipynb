{
 "cells": [
  {
   "cell_type": "code",
   "execution_count": 5,
   "metadata": {},
   "outputs": [],
   "source": [
    "import sys\n",
    "\n",
    "if not sys.warnoptions:\n",
    "    import warnings\n",
    "    warnings.simplefilter(\"ignore\")"
   ]
  },
  {
   "cell_type": "code",
   "execution_count": 2,
   "metadata": {},
   "outputs": [],
   "source": [
    "# Import required packages\n",
    "import numpy as np\n",
    "import pandas as pd\n",
    "import matplotlib.pyplot as plt\n",
    "import seaborn as sns\n",
    "import geopandas as gpd\n",
    "%matplotlib inline\n",
    "\n",
    "import numpy as np\n",
    "import pandas as pd\n",
    "import seaborn as sns\n",
    "import matplotlib.pyplot as plt\n",
    "\n",
    "from sklearn.model_selection import train_test_split\n",
    "from sklearn.feature_extraction.text import CountVectorizer, TfidfVectorizer\n",
    "from sklearn.metrics.pairwise import cosine_similarity\n",
    "from sklearn.neighbors import NearestNeighbors\n",
    "from sklearn.decomposition import PCA\n",
    "\n",
    "from bs4 import BeautifulSoup\n",
    "from gensim.summarization import summarize\n",
    "import textwrap\n",
    "\n",
    "from pprint import pprint\n",
    "\n",
    "import gensim\n",
    "import gensim.corpora as corpora\n",
    "from gensim.utils import simple_preprocess\n",
    "from gensim.models import CoherenceModel\n",
    "\n",
    "import spacy\n",
    "\n",
    "import pyLDAvis\n",
    "import pyLDAvis.gensim \n",
    "import spacy\n",
    "nlp = spacy.load(\"en_core_web_lg\", disable=['parser', 'tagger', 'ner'])"
   ]
  },
  {
   "cell_type": "code",
   "execution_count": 6,
   "metadata": {},
   "outputs": [
    {
     "name": "stdout",
     "output_type": "stream",
     "text": [
      "Gensim Version: {'3.8.1'}\n"
     ]
    }
   ],
   "source": [
    "print(f'Gensim Version:',{gensim.__version__}) "
   ]
  },
  {
   "cell_type": "code",
   "execution_count": 10,
   "metadata": {},
   "outputs": [
    {
     "name": "stdout",
     "output_type": "stream",
     "text": [
      "(847727, 6)\n"
     ]
    },
    {
     "data": {
      "text/html": [
       "<div>\n",
       "<style scoped>\n",
       "    .dataframe tbody tr th:only-of-type {\n",
       "        vertical-align: middle;\n",
       "    }\n",
       "\n",
       "    .dataframe tbody tr th {\n",
       "        vertical-align: top;\n",
       "    }\n",
       "\n",
       "    .dataframe thead th {\n",
       "        text-align: right;\n",
       "    }\n",
       "</style>\n",
       "<table border=\"1\" class=\"dataframe\">\n",
       "  <thead>\n",
       "    <tr style=\"text-align: right;\">\n",
       "      <th></th>\n",
       "      <th>listing_id</th>\n",
       "      <th>id</th>\n",
       "      <th>date</th>\n",
       "      <th>reviewer_id</th>\n",
       "      <th>reviewer_name</th>\n",
       "      <th>comments</th>\n",
       "    </tr>\n",
       "  </thead>\n",
       "  <tbody>\n",
       "    <tr>\n",
       "      <th>0</th>\n",
       "      <td>2595</td>\n",
       "      <td>17857</td>\n",
       "      <td>2009-11-21</td>\n",
       "      <td>50679</td>\n",
       "      <td>Jean</td>\n",
       "      <td>Notre séjour de trois nuits.\\r\\nNous avons app...</td>\n",
       "    </tr>\n",
       "    <tr>\n",
       "      <th>1</th>\n",
       "      <td>2595</td>\n",
       "      <td>19176</td>\n",
       "      <td>2009-12-05</td>\n",
       "      <td>53267</td>\n",
       "      <td>Cate</td>\n",
       "      <td>Great experience.</td>\n",
       "    </tr>\n",
       "  </tbody>\n",
       "</table>\n",
       "</div>"
      ],
      "text/plain": [
       "   listing_id     id        date  reviewer_id reviewer_name  \\\n",
       "0        2595  17857  2009-11-21        50679          Jean   \n",
       "1        2595  19176  2009-12-05        53267          Cate   \n",
       "\n",
       "                                            comments  \n",
       "0  Notre séjour de trois nuits.\\r\\nNous avons app...  \n",
       "1                                  Great experience.  "
      ]
     },
     "execution_count": 10,
     "metadata": {},
     "output_type": "execute_result"
    }
   ],
   "source": [
    "df = pd.read_csv('/Users/jasonrobinson/Downloads/reviews.csv')\n",
    "print(df.shape)\n",
    "df.head(2)"
   ]
  },
  {
   "cell_type": "code",
   "execution_count": 11,
   "metadata": {},
   "outputs": [],
   "source": [
    "df.dropna(subset=['comments'],how='any',axis=0,inplace=True)"
   ]
  },
  {
   "cell_type": "code",
   "execution_count": 12,
   "metadata": {},
   "outputs": [],
   "source": [
    "import re\n",
    "import string\n",
    "\n",
    "num = lambda x: re.sub('\\w*\\d\\w*', ' ', x)\n",
    "lower = lambda x: re.sub('[%s]' % re.escape(string.punctuation), ' ', x.lower())"
   ]
  },
  {
   "cell_type": "code",
   "execution_count": 13,
   "metadata": {},
   "outputs": [],
   "source": [
    "#df['comments'] = df['comments'].map(num).map(lower)"
   ]
  },
  {
   "cell_type": "code",
   "execution_count": 14,
   "metadata": {},
   "outputs": [],
   "source": [
    "df['clean_comments'] = df['comments'].apply(lambda x: re.sub('\\s+', ' ', x))\n",
    "\n",
    "# 2. Remove Emails\n",
    "df['clean_comments'] = df['clean_comments'].apply(lambda x: re.sub('From: \\S+@\\S+', '', x))\n",
    "\n",
    "# 3. Remove non-alphanumeric characters\n",
    "df['clean_comments'] = df['clean_comments'].apply(lambda x: re.sub('[^a-zA-Z]', ' ', x))\n",
    "\n",
    "# 4. Remove extra whitespace and lowercase text\n",
    "df['clean_comments'] = df['clean_comments'].apply(lambda x: ' '.join(x.lower().split()))"
   ]
  },
  {
   "cell_type": "code",
   "execution_count": 16,
   "metadata": {},
   "outputs": [
    {
     "data": {
      "text/html": [
       "<div>\n",
       "<style scoped>\n",
       "    .dataframe tbody tr th:only-of-type {\n",
       "        vertical-align: middle;\n",
       "    }\n",
       "\n",
       "    .dataframe tbody tr th {\n",
       "        vertical-align: top;\n",
       "    }\n",
       "\n",
       "    .dataframe thead th {\n",
       "        text-align: right;\n",
       "    }\n",
       "</style>\n",
       "<table border=\"1\" class=\"dataframe\">\n",
       "  <thead>\n",
       "    <tr style=\"text-align: right;\">\n",
       "      <th></th>\n",
       "      <th>listing_id</th>\n",
       "      <th>id</th>\n",
       "      <th>date</th>\n",
       "      <th>reviewer_id</th>\n",
       "      <th>reviewer_name</th>\n",
       "      <th>comments</th>\n",
       "      <th>clean_comments</th>\n",
       "    </tr>\n",
       "  </thead>\n",
       "  <tbody>\n",
       "    <tr>\n",
       "      <th>239951</th>\n",
       "      <td>5261913</td>\n",
       "      <td>583289127</td>\n",
       "      <td>2019-12-28</td>\n",
       "      <td>159497601</td>\n",
       "      <td>Anaël</td>\n",
       "      <td>Very well located between Times Square and Cen...</td>\n",
       "      <td>very well located between times square and cen...</td>\n",
       "    </tr>\n",
       "    <tr>\n",
       "      <th>528897</th>\n",
       "      <td>18439203</td>\n",
       "      <td>263284631</td>\n",
       "      <td>2018-05-11</td>\n",
       "      <td>157778927</td>\n",
       "      <td>Karlien</td>\n",
       "      <td>Very nice and clean appartment and also a very...</td>\n",
       "      <td>very nice and clean appartment and also a very...</td>\n",
       "    </tr>\n",
       "  </tbody>\n",
       "</table>\n",
       "</div>"
      ],
      "text/plain": [
       "        listing_id         id        date  reviewer_id reviewer_name  \\\n",
       "239951     5261913  583289127  2019-12-28    159497601         Anaël   \n",
       "528897    18439203  263284631  2018-05-11    157778927       Karlien   \n",
       "\n",
       "                                                 comments  \\\n",
       "239951  Very well located between Times Square and Cen...   \n",
       "528897  Very nice and clean appartment and also a very...   \n",
       "\n",
       "                                           clean_comments  \n",
       "239951  very well located between times square and cen...  \n",
       "528897  very nice and clean appartment and also a very...  "
      ]
     },
     "execution_count": 16,
     "metadata": {},
     "output_type": "execute_result"
    }
   ],
   "source": [
    "df.sample(2)"
   ]
  },
  {
   "cell_type": "code",
   "execution_count": 32,
   "metadata": {},
   "outputs": [
    {
     "name": "stdout",
     "output_type": "stream",
     "text": [
      "(847031, 50)\n"
     ]
    }
   ],
   "source": [
    "#vectorizer = TfidfVectorizer(min_df=53, max_features=50, stop_words='english',ngram_range=(1,1))\n",
    "#feature_matrix = vectorizer.fit_transform(df['comments'])\n",
    "#print(feature_matrix.shape)"
   ]
  },
  {
   "cell_type": "code",
   "execution_count": 17,
   "metadata": {},
   "outputs": [
    {
     "name": "stderr",
     "output_type": "stream",
     "text": [
      "100%|██████████| 847031/847031 [01:28<00:00, 9531.06it/s] \n"
     ]
    }
   ],
   "source": [
    "# create our tokens in the form of lemmas\n",
    "from tqdm import tqdm\n",
    "tqdm.pandas()\n",
    "\n",
    "df['lemmas'] = df['clean_comments'].progress_apply(lambda x: [token.lemma_ for token in nlp(x) if (token.is_stop != True) and (token.is_punct != True) and (len(token) > 2)])"
   ]
  },
  {
   "cell_type": "code",
   "execution_count": 18,
   "metadata": {},
   "outputs": [
    {
     "data": {
      "text/html": [
       "<div>\n",
       "<style scoped>\n",
       "    .dataframe tbody tr th:only-of-type {\n",
       "        vertical-align: middle;\n",
       "    }\n",
       "\n",
       "    .dataframe tbody tr th {\n",
       "        vertical-align: top;\n",
       "    }\n",
       "\n",
       "    .dataframe thead th {\n",
       "        text-align: right;\n",
       "    }\n",
       "</style>\n",
       "<table border=\"1\" class=\"dataframe\">\n",
       "  <thead>\n",
       "    <tr style=\"text-align: right;\">\n",
       "      <th></th>\n",
       "      <th>listing_id</th>\n",
       "      <th>id</th>\n",
       "      <th>date</th>\n",
       "      <th>reviewer_id</th>\n",
       "      <th>reviewer_name</th>\n",
       "      <th>comments</th>\n",
       "      <th>clean_comments</th>\n",
       "      <th>lemmas</th>\n",
       "    </tr>\n",
       "  </thead>\n",
       "  <tbody>\n",
       "    <tr>\n",
       "      <th>0</th>\n",
       "      <td>2595</td>\n",
       "      <td>17857</td>\n",
       "      <td>2009-11-21</td>\n",
       "      <td>50679</td>\n",
       "      <td>Jean</td>\n",
       "      <td>Notre séjour de trois nuits.\\r\\nNous avons app...</td>\n",
       "      <td>notre s jour de trois nuits nous avons appr ci...</td>\n",
       "      <td>[notre, jour, trois, nuits, nous, avons, appr,...</td>\n",
       "    </tr>\n",
       "    <tr>\n",
       "      <th>1</th>\n",
       "      <td>2595</td>\n",
       "      <td>19176</td>\n",
       "      <td>2009-12-05</td>\n",
       "      <td>53267</td>\n",
       "      <td>Cate</td>\n",
       "      <td>Great experience.</td>\n",
       "      <td>great experience</td>\n",
       "      <td>[great, experience]</td>\n",
       "    </tr>\n",
       "  </tbody>\n",
       "</table>\n",
       "</div>"
      ],
      "text/plain": [
       "   listing_id     id        date  reviewer_id reviewer_name  \\\n",
       "0        2595  17857  2009-11-21        50679          Jean   \n",
       "1        2595  19176  2009-12-05        53267          Cate   \n",
       "\n",
       "                                            comments  \\\n",
       "0  Notre séjour de trois nuits.\\r\\nNous avons app...   \n",
       "1                                  Great experience.   \n",
       "\n",
       "                                      clean_comments  \\\n",
       "0  notre s jour de trois nuits nous avons appr ci...   \n",
       "1                                   great experience   \n",
       "\n",
       "                                              lemmas  \n",
       "0  [notre, jour, trois, nuits, nous, avons, appr,...  \n",
       "1                                [great, experience]  "
      ]
     },
     "execution_count": 18,
     "metadata": {},
     "output_type": "execute_result"
    }
   ],
   "source": [
    "df.head(2)"
   ]
  },
  {
   "cell_type": "code",
   "execution_count": 35,
   "metadata": {},
   "outputs": [],
   "source": [
    "#X_train, y_train = train_test_split(df, df['comments'], train_size=0.8,\n",
    "#                                                    stratify=df['comments'], random_state=42)"
   ]
  },
  {
   "cell_type": "code",
   "execution_count": 19,
   "metadata": {},
   "outputs": [],
   "source": [
    "# Two main inputs of a LDA model dictionary and corpus.\n",
    "\n",
    "id2word = corpora.Dictionary(df['lemmas'])\n",
    "corpus = [id2word.doc2bow(text) for text in df['lemmas']]"
   ]
  },
  {
   "cell_type": "code",
   "execution_count": 20,
   "metadata": {},
   "outputs": [],
   "source": [
    "# Filter out extreme outliers to reduce our dictionary size.\n",
    "id2word.filter_extremes(no_below=2, no_above=0.5)"
   ]
  },
  {
   "cell_type": "code",
   "execution_count": 21,
   "metadata": {},
   "outputs": [
    {
     "data": {
      "text/plain": [
       "71400"
      ]
     },
     "execution_count": 21,
     "metadata": {},
     "output_type": "execute_result"
    }
   ],
   "source": [
    "len(id2word.keys())"
   ]
  },
  {
   "cell_type": "code",
   "execution_count": 39,
   "metadata": {},
   "outputs": [
    {
     "data": {
      "text/plain": [
       "['great', 'compliment', 'jennifer']"
      ]
     },
     "execution_count": 39,
     "metadata": {},
     "output_type": "execute_result"
    }
   ],
   "source": [
    "df.lemmas.iloc[5][:3]"
   ]
  },
  {
   "cell_type": "code",
   "execution_count": 40,
   "metadata": {},
   "outputs": [
    {
     "data": {
      "text/plain": [
       "[('able', 1),\n",
       " ('agr', 1),\n",
       " ('appartement', 1),\n",
       " ('appr', 1),\n",
       " ('arrivant', 1),\n",
       " ('aussi', 1),\n",
       " ('avait', 1),\n",
       " ('avons', 2),\n",
       " ('bien', 3),\n",
       " ('bruit', 1),\n",
       " ('castle', 1),\n",
       " ('caution', 1),\n",
       " ('ces', 1),\n",
       " ('cier', 1),\n",
       " ('correcte', 1),\n",
       " ('court', 1),\n",
       " ('difficile', 1),\n",
       " ('donc', 1),\n",
       " ('douche', 1),\n",
       " ('est', 5),\n",
       " ('famille', 1),\n",
       " ('habitu', 1),\n",
       " ('ile', 1),\n",
       " ('jean', 1),\n",
       " ('jennifer', 1),\n",
       " ('jour', 2),\n",
       " ('les', 2),\n",
       " ('liquide', 1),\n",
       " ('manquait', 1),\n",
       " ('midtown', 1),\n",
       " ('notre', 2),\n",
       " ('nous', 3),\n",
       " ('nuit', 1),\n",
       " ('nuits', 1),\n",
       " ('pas', 1),\n",
       " ('pass', 1),\n",
       " ('personne', 1),\n",
       " ('personnes', 1),\n",
       " ('petits', 2),\n",
       " ('possession', 1),\n",
       " ('possibilit', 1),\n",
       " ('pour', 4),\n",
       " ('premi', 1),\n",
       " ('propre', 1),\n",
       " ('qui', 1),\n",
       " ('rapide', 1),\n",
       " ('recevoir', 1),\n",
       " ('remboursement', 1),\n",
       " ('reprendrai', 1),\n",
       " ('revenir', 1),\n",
       " ('savon', 1),\n",
       " ('situ', 1),\n",
       " ('soign', 1),\n",
       " ('soucis', 1),\n",
       " ('sur', 1),\n",
       " ('surlendemain', 1),\n",
       " ('tail', 1),\n",
       " ('tait', 1),\n",
       " ('tro', 1),\n",
       " ('trois', 1),\n",
       " ('une', 2),\n",
       " ('union', 1),\n",
       " ('vacances', 1),\n",
       " ('vaisselle', 1)]"
      ]
     },
     "execution_count": 40,
     "metadata": {},
     "output_type": "execute_result"
    }
   ],
   "source": [
    "[(id2word[word_id], word_count) for word_id, word_count in corpus[0]]"
   ]
  },
  {
   "cell_type": "code",
   "execution_count": 26,
   "metadata": {},
   "outputs": [],
   "source": [
    "### Re-create DTM\n",
    "corpus = [id2word.doc2bow(text) for text in df['lemmas']]"
   ]
  },
  {
   "cell_type": "code",
   "execution_count": 27,
   "metadata": {},
   "outputs": [
    {
     "name": "stdout",
     "output_type": "stream",
     "text": [
      "CPU times: user 33min 15s, sys: 38.1 s, total: 33min 53s\n",
      "Wall time: 33min 54s\n"
     ]
    }
   ],
   "source": [
    "%%time\n",
    "# Train our model\n",
    "comment_lda = gensim.models.ldamodel.LdaModel(corpus=corpus,\n",
    "                                              id2word=id2word,\n",
    "                                              num_topics=20, \n",
    "                                              chunksize=100,\n",
    "                                              passes=2,\n",
    "                                              per_word_topics=True)\n",
    "\n",
    "\n",
    "comment_lda.save('comment_lda2.model')"
   ]
  },
  {
   "cell_type": "code",
   "execution_count": 23,
   "metadata": {
    "collapsed": true
   },
   "outputs": [
    {
     "ename": "KeyboardInterrupt",
     "evalue": "",
     "output_type": "error",
     "traceback": [
      "\u001b[0;31m---------------------------------------------------------------------------\u001b[0m",
      "\u001b[0;31mFull\u001b[0m                                      Traceback (most recent call last)",
      "\u001b[0;32m/opt/anaconda3/envs/NNs/lib/python3.8/site-packages/gensim/models/ldamulticore.py\u001b[0m in \u001b[0;36mupdate\u001b[0;34m(self, corpus, chunks_as_numpy)\u001b[0m\n\u001b[1;32m    291\u001b[0m                     \u001b[0;32mtry\u001b[0m\u001b[0;34m:\u001b[0m\u001b[0;34m\u001b[0m\u001b[0;34m\u001b[0m\u001b[0m\n\u001b[0;32m--> 292\u001b[0;31m                         \u001b[0mjob_queue\u001b[0m\u001b[0;34m.\u001b[0m\u001b[0mput\u001b[0m\u001b[0;34m(\u001b[0m\u001b[0;34m(\u001b[0m\u001b[0mchunk_no\u001b[0m\u001b[0;34m,\u001b[0m \u001b[0mchunk\u001b[0m\u001b[0;34m,\u001b[0m \u001b[0mself\u001b[0m\u001b[0;34m)\u001b[0m\u001b[0;34m,\u001b[0m \u001b[0mblock\u001b[0m\u001b[0;34m=\u001b[0m\u001b[0;32mFalse\u001b[0m\u001b[0;34m)\u001b[0m\u001b[0;34m\u001b[0m\u001b[0;34m\u001b[0m\u001b[0m\n\u001b[0m\u001b[1;32m    293\u001b[0m                         \u001b[0mqueue_size\u001b[0m\u001b[0;34m[\u001b[0m\u001b[0;36m0\u001b[0m\u001b[0;34m]\u001b[0m \u001b[0;34m+=\u001b[0m \u001b[0;36m1\u001b[0m\u001b[0;34m\u001b[0m\u001b[0;34m\u001b[0m\u001b[0m\n",
      "\u001b[0;32m/opt/anaconda3/envs/NNs/lib/python3.8/multiprocessing/queues.py\u001b[0m in \u001b[0;36mput\u001b[0;34m(self, obj, block, timeout)\u001b[0m\n\u001b[1;32m     83\u001b[0m         \u001b[0;32mif\u001b[0m \u001b[0;32mnot\u001b[0m \u001b[0mself\u001b[0m\u001b[0;34m.\u001b[0m\u001b[0m_sem\u001b[0m\u001b[0;34m.\u001b[0m\u001b[0macquire\u001b[0m\u001b[0;34m(\u001b[0m\u001b[0mblock\u001b[0m\u001b[0;34m,\u001b[0m \u001b[0mtimeout\u001b[0m\u001b[0;34m)\u001b[0m\u001b[0;34m:\u001b[0m\u001b[0;34m\u001b[0m\u001b[0;34m\u001b[0m\u001b[0m\n\u001b[0;32m---> 84\u001b[0;31m             \u001b[0;32mraise\u001b[0m \u001b[0mFull\u001b[0m\u001b[0;34m\u001b[0m\u001b[0;34m\u001b[0m\u001b[0m\n\u001b[0m\u001b[1;32m     85\u001b[0m \u001b[0;34m\u001b[0m\u001b[0m\n",
      "\u001b[0;31mFull\u001b[0m: ",
      "\nDuring handling of the above exception, another exception occurred:\n",
      "\u001b[0;31mKeyboardInterrupt\u001b[0m                         Traceback (most recent call last)",
      "\u001b[0;32m<timed exec>\u001b[0m in \u001b[0;36m<module>\u001b[0;34m\u001b[0m\n",
      "\u001b[0;32m/opt/anaconda3/envs/NNs/lib/python3.8/site-packages/gensim/models/ldamulticore.py\u001b[0m in \u001b[0;36m__init__\u001b[0;34m(self, corpus, num_topics, id2word, workers, chunksize, passes, batch, alpha, eta, decay, offset, eval_every, iterations, gamma_threshold, random_state, minimum_probability, minimum_phi_value, per_word_topics, dtype)\u001b[0m\n\u001b[1;32m    177\u001b[0m             \u001b[0;32mraise\u001b[0m \u001b[0mNotImplementedError\u001b[0m\u001b[0;34m(\u001b[0m\u001b[0;34m\"auto-tuning alpha not implemented in multicore LDA; use plain LdaModel.\"\u001b[0m\u001b[0;34m)\u001b[0m\u001b[0;34m\u001b[0m\u001b[0;34m\u001b[0m\u001b[0m\n\u001b[1;32m    178\u001b[0m \u001b[0;34m\u001b[0m\u001b[0m\n\u001b[0;32m--> 179\u001b[0;31m         super(LdaMulticore, self).__init__(\n\u001b[0m\u001b[1;32m    180\u001b[0m             \u001b[0mcorpus\u001b[0m\u001b[0;34m=\u001b[0m\u001b[0mcorpus\u001b[0m\u001b[0;34m,\u001b[0m \u001b[0mnum_topics\u001b[0m\u001b[0;34m=\u001b[0m\u001b[0mnum_topics\u001b[0m\u001b[0;34m,\u001b[0m\u001b[0;34m\u001b[0m\u001b[0;34m\u001b[0m\u001b[0m\n\u001b[1;32m    181\u001b[0m             \u001b[0mid2word\u001b[0m\u001b[0;34m=\u001b[0m\u001b[0mid2word\u001b[0m\u001b[0;34m,\u001b[0m \u001b[0mchunksize\u001b[0m\u001b[0;34m=\u001b[0m\u001b[0mchunksize\u001b[0m\u001b[0;34m,\u001b[0m \u001b[0mpasses\u001b[0m\u001b[0;34m=\u001b[0m\u001b[0mpasses\u001b[0m\u001b[0;34m,\u001b[0m \u001b[0malpha\u001b[0m\u001b[0;34m=\u001b[0m\u001b[0malpha\u001b[0m\u001b[0;34m,\u001b[0m \u001b[0meta\u001b[0m\u001b[0;34m=\u001b[0m\u001b[0meta\u001b[0m\u001b[0;34m,\u001b[0m\u001b[0;34m\u001b[0m\u001b[0;34m\u001b[0m\u001b[0m\n",
      "\u001b[0;32m/opt/anaconda3/envs/NNs/lib/python3.8/site-packages/gensim/models/ldamodel.py\u001b[0m in \u001b[0;36m__init__\u001b[0;34m(self, corpus, num_topics, id2word, distributed, chunksize, passes, update_every, alpha, eta, decay, offset, eval_every, iterations, gamma_threshold, minimum_probability, random_state, ns_conf, minimum_phi_value, per_word_topics, callbacks, dtype)\u001b[0m\n\u001b[1;32m    517\u001b[0m         \u001b[0;32mif\u001b[0m \u001b[0mcorpus\u001b[0m \u001b[0;32mis\u001b[0m \u001b[0;32mnot\u001b[0m \u001b[0;32mNone\u001b[0m\u001b[0;34m:\u001b[0m\u001b[0;34m\u001b[0m\u001b[0;34m\u001b[0m\u001b[0m\n\u001b[1;32m    518\u001b[0m             \u001b[0muse_numpy\u001b[0m \u001b[0;34m=\u001b[0m \u001b[0mself\u001b[0m\u001b[0;34m.\u001b[0m\u001b[0mdispatcher\u001b[0m \u001b[0;32mis\u001b[0m \u001b[0;32mnot\u001b[0m \u001b[0;32mNone\u001b[0m\u001b[0;34m\u001b[0m\u001b[0;34m\u001b[0m\u001b[0m\n\u001b[0;32m--> 519\u001b[0;31m             \u001b[0mself\u001b[0m\u001b[0;34m.\u001b[0m\u001b[0mupdate\u001b[0m\u001b[0;34m(\u001b[0m\u001b[0mcorpus\u001b[0m\u001b[0;34m,\u001b[0m \u001b[0mchunks_as_numpy\u001b[0m\u001b[0;34m=\u001b[0m\u001b[0muse_numpy\u001b[0m\u001b[0;34m)\u001b[0m\u001b[0;34m\u001b[0m\u001b[0;34m\u001b[0m\u001b[0m\n\u001b[0m\u001b[1;32m    520\u001b[0m \u001b[0;34m\u001b[0m\u001b[0m\n\u001b[1;32m    521\u001b[0m     \u001b[0;32mdef\u001b[0m \u001b[0minit_dir_prior\u001b[0m\u001b[0;34m(\u001b[0m\u001b[0mself\u001b[0m\u001b[0;34m,\u001b[0m \u001b[0mprior\u001b[0m\u001b[0;34m,\u001b[0m \u001b[0mname\u001b[0m\u001b[0;34m)\u001b[0m\u001b[0;34m:\u001b[0m\u001b[0;34m\u001b[0m\u001b[0;34m\u001b[0m\u001b[0m\n",
      "\u001b[0;32m/opt/anaconda3/envs/NNs/lib/python3.8/site-packages/gensim/models/ldamulticore.py\u001b[0m in \u001b[0;36mupdate\u001b[0;34m(self, corpus, chunks_as_numpy)\u001b[0m\n\u001b[1;32m    301\u001b[0m                         \u001b[0;31m# in case the input job queue is full, keep clearing the\u001b[0m\u001b[0;34m\u001b[0m\u001b[0;34m\u001b[0m\u001b[0;34m\u001b[0m\u001b[0m\n\u001b[1;32m    302\u001b[0m                         \u001b[0;31m# result queue, to make sure we don't deadlock\u001b[0m\u001b[0;34m\u001b[0m\u001b[0;34m\u001b[0m\u001b[0;34m\u001b[0m\u001b[0m\n\u001b[0;32m--> 303\u001b[0;31m                         \u001b[0mprocess_result_queue\u001b[0m\u001b[0;34m(\u001b[0m\u001b[0;34m)\u001b[0m\u001b[0;34m\u001b[0m\u001b[0;34m\u001b[0m\u001b[0m\n\u001b[0m\u001b[1;32m    304\u001b[0m \u001b[0;34m\u001b[0m\u001b[0m\n\u001b[1;32m    305\u001b[0m                 \u001b[0mprocess_result_queue\u001b[0m\u001b[0;34m(\u001b[0m\u001b[0;34m)\u001b[0m\u001b[0;34m\u001b[0m\u001b[0;34m\u001b[0m\u001b[0m\n",
      "\u001b[0;32m/opt/anaconda3/envs/NNs/lib/python3.8/site-packages/gensim/models/ldamulticore.py\u001b[0m in \u001b[0;36mprocess_result_queue\u001b[0;34m(force)\u001b[0m\n\u001b[1;32m    266\u001b[0m             \"\"\"\n\u001b[1;32m    267\u001b[0m             \u001b[0mmerged_new\u001b[0m \u001b[0;34m=\u001b[0m \u001b[0;32mFalse\u001b[0m\u001b[0;34m\u001b[0m\u001b[0;34m\u001b[0m\u001b[0m\n\u001b[0;32m--> 268\u001b[0;31m             \u001b[0;32mwhile\u001b[0m \u001b[0;32mnot\u001b[0m \u001b[0mresult_queue\u001b[0m\u001b[0;34m.\u001b[0m\u001b[0mempty\u001b[0m\u001b[0;34m(\u001b[0m\u001b[0;34m)\u001b[0m\u001b[0;34m:\u001b[0m\u001b[0;34m\u001b[0m\u001b[0;34m\u001b[0m\u001b[0m\n\u001b[0m\u001b[1;32m    269\u001b[0m                 \u001b[0mother\u001b[0m\u001b[0;34m.\u001b[0m\u001b[0mmerge\u001b[0m\u001b[0;34m(\u001b[0m\u001b[0mresult_queue\u001b[0m\u001b[0;34m.\u001b[0m\u001b[0mget\u001b[0m\u001b[0;34m(\u001b[0m\u001b[0;34m)\u001b[0m\u001b[0;34m)\u001b[0m\u001b[0;34m\u001b[0m\u001b[0;34m\u001b[0m\u001b[0m\n\u001b[1;32m    270\u001b[0m                 \u001b[0mqueue_size\u001b[0m\u001b[0;34m[\u001b[0m\u001b[0;36m0\u001b[0m\u001b[0;34m]\u001b[0m \u001b[0;34m-=\u001b[0m \u001b[0;36m1\u001b[0m\u001b[0;34m\u001b[0m\u001b[0;34m\u001b[0m\u001b[0m\n",
      "\u001b[0;32m/opt/anaconda3/envs/NNs/lib/python3.8/multiprocessing/queues.py\u001b[0m in \u001b[0;36mempty\u001b[0;34m(self)\u001b[0m\n\u001b[1;32m    121\u001b[0m \u001b[0;34m\u001b[0m\u001b[0m\n\u001b[1;32m    122\u001b[0m     \u001b[0;32mdef\u001b[0m \u001b[0mempty\u001b[0m\u001b[0;34m(\u001b[0m\u001b[0mself\u001b[0m\u001b[0;34m)\u001b[0m\u001b[0;34m:\u001b[0m\u001b[0;34m\u001b[0m\u001b[0;34m\u001b[0m\u001b[0m\n\u001b[0;32m--> 123\u001b[0;31m         \u001b[0;32mreturn\u001b[0m \u001b[0;32mnot\u001b[0m \u001b[0mself\u001b[0m\u001b[0;34m.\u001b[0m\u001b[0m_poll\u001b[0m\u001b[0;34m(\u001b[0m\u001b[0;34m)\u001b[0m\u001b[0;34m\u001b[0m\u001b[0;34m\u001b[0m\u001b[0m\n\u001b[0m\u001b[1;32m    124\u001b[0m \u001b[0;34m\u001b[0m\u001b[0m\n\u001b[1;32m    125\u001b[0m     \u001b[0;32mdef\u001b[0m \u001b[0mfull\u001b[0m\u001b[0;34m(\u001b[0m\u001b[0mself\u001b[0m\u001b[0;34m)\u001b[0m\u001b[0;34m:\u001b[0m\u001b[0;34m\u001b[0m\u001b[0;34m\u001b[0m\u001b[0m\n",
      "\u001b[0;32m/opt/anaconda3/envs/NNs/lib/python3.8/multiprocessing/connection.py\u001b[0m in \u001b[0;36mpoll\u001b[0;34m(self, timeout)\u001b[0m\n\u001b[1;32m    255\u001b[0m         \u001b[0mself\u001b[0m\u001b[0;34m.\u001b[0m\u001b[0m_check_closed\u001b[0m\u001b[0;34m(\u001b[0m\u001b[0;34m)\u001b[0m\u001b[0;34m\u001b[0m\u001b[0;34m\u001b[0m\u001b[0m\n\u001b[1;32m    256\u001b[0m         \u001b[0mself\u001b[0m\u001b[0;34m.\u001b[0m\u001b[0m_check_readable\u001b[0m\u001b[0;34m(\u001b[0m\u001b[0;34m)\u001b[0m\u001b[0;34m\u001b[0m\u001b[0;34m\u001b[0m\u001b[0m\n\u001b[0;32m--> 257\u001b[0;31m         \u001b[0;32mreturn\u001b[0m \u001b[0mself\u001b[0m\u001b[0;34m.\u001b[0m\u001b[0m_poll\u001b[0m\u001b[0;34m(\u001b[0m\u001b[0mtimeout\u001b[0m\u001b[0;34m)\u001b[0m\u001b[0;34m\u001b[0m\u001b[0;34m\u001b[0m\u001b[0m\n\u001b[0m\u001b[1;32m    258\u001b[0m \u001b[0;34m\u001b[0m\u001b[0m\n\u001b[1;32m    259\u001b[0m     \u001b[0;32mdef\u001b[0m \u001b[0m__enter__\u001b[0m\u001b[0;34m(\u001b[0m\u001b[0mself\u001b[0m\u001b[0;34m)\u001b[0m\u001b[0;34m:\u001b[0m\u001b[0;34m\u001b[0m\u001b[0;34m\u001b[0m\u001b[0m\n",
      "\u001b[0;32m/opt/anaconda3/envs/NNs/lib/python3.8/multiprocessing/connection.py\u001b[0m in \u001b[0;36m_poll\u001b[0;34m(self, timeout)\u001b[0m\n\u001b[1;32m    422\u001b[0m \u001b[0;34m\u001b[0m\u001b[0m\n\u001b[1;32m    423\u001b[0m     \u001b[0;32mdef\u001b[0m \u001b[0m_poll\u001b[0m\u001b[0;34m(\u001b[0m\u001b[0mself\u001b[0m\u001b[0;34m,\u001b[0m \u001b[0mtimeout\u001b[0m\u001b[0;34m)\u001b[0m\u001b[0;34m:\u001b[0m\u001b[0;34m\u001b[0m\u001b[0;34m\u001b[0m\u001b[0m\n\u001b[0;32m--> 424\u001b[0;31m         \u001b[0mr\u001b[0m \u001b[0;34m=\u001b[0m \u001b[0mwait\u001b[0m\u001b[0;34m(\u001b[0m\u001b[0;34m[\u001b[0m\u001b[0mself\u001b[0m\u001b[0;34m]\u001b[0m\u001b[0;34m,\u001b[0m \u001b[0mtimeout\u001b[0m\u001b[0;34m)\u001b[0m\u001b[0;34m\u001b[0m\u001b[0;34m\u001b[0m\u001b[0m\n\u001b[0m\u001b[1;32m    425\u001b[0m         \u001b[0;32mreturn\u001b[0m \u001b[0mbool\u001b[0m\u001b[0;34m(\u001b[0m\u001b[0mr\u001b[0m\u001b[0;34m)\u001b[0m\u001b[0;34m\u001b[0m\u001b[0;34m\u001b[0m\u001b[0m\n\u001b[1;32m    426\u001b[0m \u001b[0;34m\u001b[0m\u001b[0m\n",
      "\u001b[0;32m/opt/anaconda3/envs/NNs/lib/python3.8/multiprocessing/connection.py\u001b[0m in \u001b[0;36mwait\u001b[0;34m(object_list, timeout)\u001b[0m\n\u001b[1;32m    934\u001b[0m                 \u001b[0;32melse\u001b[0m\u001b[0;34m:\u001b[0m\u001b[0;34m\u001b[0m\u001b[0;34m\u001b[0m\u001b[0m\n\u001b[1;32m    935\u001b[0m                     \u001b[0;32mif\u001b[0m \u001b[0mtimeout\u001b[0m \u001b[0;32mis\u001b[0m \u001b[0;32mnot\u001b[0m \u001b[0;32mNone\u001b[0m\u001b[0;34m:\u001b[0m\u001b[0;34m\u001b[0m\u001b[0;34m\u001b[0m\u001b[0m\n\u001b[0;32m--> 936\u001b[0;31m                         \u001b[0mtimeout\u001b[0m \u001b[0;34m=\u001b[0m \u001b[0mdeadline\u001b[0m \u001b[0;34m-\u001b[0m \u001b[0mtime\u001b[0m\u001b[0;34m.\u001b[0m\u001b[0mmonotonic\u001b[0m\u001b[0;34m(\u001b[0m\u001b[0;34m)\u001b[0m\u001b[0;34m\u001b[0m\u001b[0;34m\u001b[0m\u001b[0m\n\u001b[0m\u001b[1;32m    937\u001b[0m                         \u001b[0;32mif\u001b[0m \u001b[0mtimeout\u001b[0m \u001b[0;34m<\u001b[0m \u001b[0;36m0\u001b[0m\u001b[0;34m:\u001b[0m\u001b[0;34m\u001b[0m\u001b[0;34m\u001b[0m\u001b[0m\n\u001b[1;32m    938\u001b[0m                             \u001b[0;32mreturn\u001b[0m \u001b[0mready\u001b[0m\u001b[0;34m\u001b[0m\u001b[0;34m\u001b[0m\u001b[0m\n",
      "\u001b[0;31mKeyboardInterrupt\u001b[0m: "
     ]
    }
   ],
   "source": [
    "%%time\n",
    "#lda_multicore = gensim.models.ldamulticore.LdaMulticore(corpus=corpus,\n",
    "#                                                        id2word=id2word,\n",
    "#                                                        num_topics=20, \n",
    "#                                                        chunksize=100,\n",
    "#                                                        passes=5,\n",
    "#                                                        per_word_topics=True,\n",
    "#                                                        workers=6)\n",
    "#\n",
    "#\n",
    "#lda_multicore.save('lda_multicore.model')"
   ]
  },
  {
   "cell_type": "code",
   "execution_count": 30,
   "metadata": {},
   "outputs": [],
   "source": [
    "## from gensim import models\n",
    "#comment_lda =  models.LdaModel.load('comment_lda2.model')"
   ]
  },
  {
   "cell_type": "code",
   "execution_count": 29,
   "metadata": {},
   "outputs": [
    {
     "name": "stdout",
     "output_type": "stream",
     "text": [
      "[(0,\n",
      "  '0.202*\"quick\" + 0.166*\"responsive\" + 0.156*\"respond\" + 0.101*\"issue\" + '\n",
      "  '0.077*\"quickly\" + 0.058*\"list\" + 0.049*\"service\" + 0.041*\"message\" + '\n",
      "  '0.029*\"entire\" + 0.022*\"backyard\"'),\n",
      " (1,\n",
      "  '0.073*\"stay\" + 0.068*\"place\" + 0.043*\"home\" + 0.036*\"feel\" + 0.030*\"clean\" '\n",
      "  '+ 0.030*\"well\" + 0.028*\"cozy\" + 0.028*\"like\" + 0.027*\"host\" + '\n",
      "  '0.026*\"definitely\"'),\n",
      " (2,\n",
      "  '0.344*\"airbnb\" + 0.123*\"shower\" + 0.105*\"take\" + 0.072*\"care\" + '\n",
      "  '0.055*\"wrong\" + 0.044*\"point\" + 0.042*\"hide\" + 0.041*\"fine\" + 0.039*\"ideal\" '\n",
      "  '+ 0.022*\"chair\"'),\n",
      " (3,\n",
      "  '0.159*\"muy\" + 0.094*\"que\" + 0.080*\"con\" + 0.057*\"todo\" + 0.054*\"para\" + '\n",
      "  '0.052*\"una\" + 0.035*\"ubicaci\" + 0.032*\"est\" + 0.031*\"bien\" + 0.030*\"por\"'),\n",
      " (4,\n",
      "  '0.077*\"bedroom\" + 0.055*\"kitchen\" + 0.051*\"area\" + 0.050*\"value\" + '\n",
      "  '0.049*\"private\" + 0.045*\"cool\" + 0.044*\"pretty\" + 0.040*\"door\" + '\n",
      "  '0.037*\"bathroom\" + 0.035*\"travel\"'),\n",
      " (5,\n",
      "  '0.196*\"awesome\" + 0.192*\"excellent\" + 0.137*\"don\" + 0.071*\"host\" + '\n",
      "  '0.042*\"win\" + 0.039*\"expectation\" + 0.039*\"wouldn\" + 0.028*\"las\" + '\n",
      "  '0.028*\"gracious\" + 0.027*\"business\"'),\n",
      " (6,\n",
      "  '0.047*\"book\" + 0.045*\"room\" + 0.028*\"apartment\" + 0.026*\"night\" + '\n",
      "  '0.024*\"work\" + 0.018*\"live\" + 0.018*\"build\" + 0.018*\"didn\" + 0.017*\"food\" + '\n",
      "  '0.017*\"store\"'),\n",
      " (7,\n",
      "  '0.091*\"bed\" + 0.061*\"provide\" + 0.058*\"hospitality\" + 0.056*\"comfy\" + '\n",
      "  '0.056*\"give\" + 0.053*\"overall\" + 0.048*\"person\" + 0.039*\"towel\" + '\n",
      "  '0.036*\"decorate\" + 0.033*\"eat\"'),\n",
      " (8,\n",
      "  '0.517*\"check\" + 0.051*\"excelente\" + 0.041*\"flexible\" + 0.038*\"internet\" + '\n",
      "  '0.032*\"prompt\" + 0.030*\"cerca\" + 0.026*\"metro\" + 0.025*\"unique\" + '\n",
      "  '0.022*\"fue\" + 0.021*\"nos\"'),\n",
      " (9,\n",
      "  '0.104*\"stay\" + 0.087*\"place\" + 0.081*\"recommend\" + 0.077*\"host\" + '\n",
      "  '0.061*\"great\" + 0.053*\"amaze\" + 0.053*\"clean\" + 0.050*\"definitely\" + '\n",
      "  '0.038*\"highly\" + 0.033*\"location\"'),\n",
      " (10,\n",
      "  '0.143*\"term\" + 0.122*\"instruction\" + 0.086*\"talk\" + 0.068*\"able\" + '\n",
      "  '0.055*\"son\" + 0.046*\"est\" + 0.044*\"pass\" + 0.042*\"les\" + 0.031*\"pour\" + '\n",
      "  '0.028*\"union\"'),\n",
      " (11,\n",
      "  '0.295*\"spot\" + 0.192*\"amenity\" + 0.085*\"photo\" + 0.051*\"neighbor\" + '\n",
      "  '0.049*\"public\" + 0.048*\"easily\" + 0.047*\"outstanding\" + 0.043*\"accessible\" '\n",
      "  '+ 0.039*\"bright\" + 0.030*\"probably\"'),\n",
      " (12,\n",
      "  '0.059*\"great\" + 0.055*\"apartment\" + 0.047*\"location\" + 0.047*\"close\" + '\n",
      "  '0.041*\"walk\" + 0.040*\"park\" + 0.038*\"restaurant\" + 0.037*\"easy\" + '\n",
      "  '0.035*\"place\" + 0.035*\"clean\"'),\n",
      " (13,\n",
      "  '0.066*\"new\" + 0.056*\"time\" + 0.038*\"york\" + 0.038*\"exactly\" + 0.037*\"away\" '\n",
      "  '+ 0.036*\"minute\" + 0.033*\"hotel\" + 0.030*\"station\" + 0.026*\"central\" + '\n",
      "  '0.025*\"square\"'),\n",
      " (14,\n",
      "  '0.206*\"nice\" + 0.121*\"clean\" + 0.118*\"place\" + 0.109*\"good\" + 0.084*\"room\" '\n",
      "  '+ 0.058*\"stay\" + 0.046*\"host\" + 0.040*\"house\" + 0.036*\"comfortable\" + '\n",
      "  '0.019*\"area\"'),\n",
      " (15,\n",
      "  '0.400*\"space\" + 0.145*\"love\" + 0.138*\"beautiful\" + 0.092*\"stylish\" + '\n",
      "  '0.075*\"family\" + 0.054*\"coffee\" + 0.034*\"communicative\" + 0.018*\"quiet\" + '\n",
      "  '0.017*\"ask\" + 0.007*\"fan\"'),\n",
      " (16,\n",
      "  '0.420*\"great\" + 0.157*\"place\" + 0.154*\"location\" + 0.107*\"stay\" + '\n",
      "  '0.067*\"communication\" + 0.032*\"perfect\" + 0.027*\"fast\" + 0.009*\"reply\" + '\n",
      "  '0.009*\"experience\" + 0.004*\"people\"'),\n",
      " (17,\n",
      "  '0.199*\"super\" + 0.124*\"convenient\" + 0.090*\"host\" + 0.087*\"cute\" + '\n",
      "  '0.075*\"small\" + 0.049*\"day\" + 0.048*\"smell\" + 0.045*\"apt\" + 0.043*\"studio\" '\n",
      "  '+ 0.038*\"arrival\"'),\n",
      " (18,\n",
      "  '0.178*\"help\" + 0.121*\"cook\" + 0.116*\"thoughtful\" + 0.091*\"offer\" + '\n",
      "  '0.067*\"simple\" + 0.050*\"dry\" + 0.040*\"send\" + 0.035*\"sit\" + '\n",
      "  '0.031*\"renovate\" + 0.031*\"breakfast\"'),\n",
      " (19,\n",
      "  '0.436*\"light\" + 0.284*\"large\" + 0.073*\"fill\" + 0.047*\"habitaci\" + '\n",
      "  '0.025*\"mejor\" + 0.018*\"estaba\" + 0.011*\"cuando\" + 0.006*\"sido\" + '\n",
      "  '0.006*\"ser\" + 0.002*\"ayudar\"')]\n"
     ]
    }
   ],
   "source": [
    "pprint(comment_lda.print_topics())"
   ]
  },
  {
   "cell_type": "code",
   "execution_count": 32,
   "metadata": {},
   "outputs": [
    {
     "data": {
      "text/plain": [
       "[(0, 0.016666787),\n",
       " (1, 0.016666789),\n",
       " (2, 0.016666787),\n",
       " (3, 0.016666787),\n",
       " (4, 0.016666787),\n",
       " (5, 0.016666787),\n",
       " (6, 0.016666787),\n",
       " (7, 0.016666787),\n",
       " (8, 0.016666787),\n",
       " (9, 0.016666787),\n",
       " (10, 0.016666787),\n",
       " (11, 0.016666787),\n",
       " (12, 0.016666787),\n",
       " (13, 0.016666787),\n",
       " (14, 0.016666787),\n",
       " (15, 0.016666787),\n",
       " (16, 0.683331),\n",
       " (17, 0.016666787),\n",
       " (18, 0.016666787),\n",
       " (19, 0.016666787)]"
      ]
     },
     "execution_count": 32,
     "metadata": {},
     "output_type": "execute_result"
    }
   ],
   "source": [
    "doc_lda = comment_lda[corpus]\n",
    "doc_lda[1][0]"
   ]
  },
  {
   "cell_type": "code",
   "execution_count": 33,
   "metadata": {},
   "outputs": [
    {
     "data": {
      "text/html": [
       "\n",
       "<link rel=\"stylesheet\" type=\"text/css\" href=\"https://cdn.rawgit.com/bmabey/pyLDAvis/files/ldavis.v1.0.0.css\">\n",
       "\n",
       "\n",
       "<div id=\"ldavis_el108661402835175375202932859437\"></div>\n",
       "<script type=\"text/javascript\">\n",
       "\n",
       "var ldavis_el108661402835175375202932859437_data = {\"mdsDat\": {\"x\": [-0.29049925665699905, -0.2856102455786401, -0.06880865556715857, -0.3494036307168071, -0.016623142426358838, -0.24787142060344072, 0.17266944261214423, 0.06081240613707333, 0.15197677692461134, -0.26482241045985017, 0.10114387653649878, 0.035662325197601756, 0.1383638470409288, 0.12575432966857447, 0.1361592963621108, 0.09230720494808964, 0.14096278020415007, 0.06992476609816901, 0.14021194587671462, 0.1576897644025874], \"y\": [-0.00801953002228984, -0.08164637468172899, -0.2528813383679927, 0.10969657397734263, -0.27266464703059534, 0.07460427374884117, 0.03940622952625821, -0.21770252184141428, 0.05184958889330425, 0.11945996639316403, -0.08893701753457253, 0.15381269059434174, -0.0059304287686321455, 0.028921712559546033, 0.052437459373799365, -0.04267412938695982, 0.03806563597929585, 0.17325243366391105, 0.05104046005925747, 0.07790896286512423], \"topics\": [1, 2, 3, 4, 5, 6, 7, 8, 9, 10, 11, 12, 13, 14, 15, 16, 17, 18, 19, 20], \"cluster\": [1, 1, 1, 1, 1, 1, 1, 1, 1, 1, 1, 1, 1, 1, 1, 1, 1, 1, 1, 1], \"Freq\": [15.127697781810955, 15.066296234275232, 11.55745240111593, 9.411896273927535, 8.28811300074669, 5.506690552915283, 4.086379551873558, 3.722653754822273, 3.7110774687487815, 3.4012021193620274, 3.3403381993608434, 2.6883367574397394, 2.3331156271703692, 2.0443881506047075, 1.9871111339701848, 1.9326915769904913, 1.8716078688575666, 1.7471733115664512, 1.401452951571789, 0.7743252828696143]}, \"tinfo\": {\"Term\": [\"great\", \"check\", \"place\", \"nice\", \"stay\", \"location\", \"space\", \"host\", \"clean\", \"airbnb\", \"super\", \"good\", \"room\", \"muy\", \"term\", \"recommend\", \"spot\", \"love\", \"beautiful\", \"light\", \"quick\", \"instruction\", \"awesome\", \"new\", \"bed\", \"excellent\", \"definitely\", \"help\", \"responsive\", \"apartment\", \"home\", \"feel\", \"cozy\", \"picture\", \"expect\", \"sure\", \"touch\", \"make\", \"communicate\", \"have\", \"truly\", \"peaceful\", \"literally\", \"hear\", \"gorgeous\", \"town\", \"fun\", \"favorite\", \"totally\", \"husband\", \"calm\", \"boyfriend\", \"hang\", \"prepare\", \"fall\", \"wake\", \"energy\", \"condition\", \"interest\", \"worry\", \"future\", \"welcome\", \"well\", \"weekend\", \"come\", \"like\", \"look\", \"friend\", \"experience\", \"stay\", \"definitely\", \"place\", \"thank\", \"love\", \"beautiful\", \"warm\", \"clean\", \"host\", \"amaze\", \"super\", \"comfortable\", \"need\", \"nyc\", \"time\", \"recommend\", \"enjoy\", \"away\", \"apartment\", \"nice\", \"restaurant\", \"near\", \"distance\", \"nearby\", \"local\", \"bar\", \"bus\", \"furnish\", \"rend\", \"cafe\", \"flat\", \"brownstone\", \"addition\", \"additional\", \"neighbourhood\", \"sunny\", \"college\", \"brilliant\", \"saturday\", \"knowledge\", \"orient\", \"whilst\", \"intrusive\", \"corner\", \"ave\", \"access\", \"neighborhood\", \"quiet\", \"explore\", \"street\", \"subway\", \"locate\", \"close\", \"park\", \"walk\", \"train\", \"easy\", \"safe\", \"lot\", \"plenty\", \"city\", \"apartment\", \"short\", \"block\", \"location\", \"manhattan\", \"great\", \"right\", \"clean\", \"perfect\", \"place\", \"need\", \"comfortable\", \"stay\", \"good\", \"food\", \"store\", \"floor\", \"bite\", \"fantastic\", \"relax\", \"know\", \"tell\", \"window\", \"air\", \"noise\", \"problem\", \"open\", \"extra\", \"wifi\", \"keep\", \"let\", \"option\", \"hour\", \"grocery\", \"star\", \"bring\", \"early\", \"late\", \"heat\", \"huge\", \"2\", \"cold\", \"end\", \"morning\", \"didn\", \"work\", \"leave\", \"book\", \"live\", \"sleep\", \"night\", \"guest\", \"get\", \"room\", \"thing\", \"build\", \"day\", \"kitchen\", \"people\", \"apartment\", \"bathroom\", \"little\", \"go\", \"need\", \"time\", \"like\", \"check\", \"highly\", \"worth\", \"month\", \"hospitable\", \"gem\", \"charm\", \"organize\", \"bag\", \"invite\", \"promptly\", \"roof\", \"attention\", \"treat\", \"district\", \"plug\", \"ear\", \"responsible\", \"lift\", \"plentiful\", \"theatre\", \"definetely\", \"recommend\", \"helpful\", \"wonderful\", \"amaze\", \"extremely\", \"accommodate\", \"question\", \"answer\", \"definitely\", \"friendly\", \"thank\", \"host\", \"stay\", \"enjoy\", \"place\", \"clean\", \"lovely\", \"great\", \"spacious\", \"location\", \"apartment\", \"need\", \"perfect\", \"comfortable\", \"well\", \"easy\", \"time\", \"new\", \"york\", \"exactly\", \"station\", \"central\", \"square\", \"min\", \"use\", \"soon\", \"plus\", \"plan\", \"set\", \"step\", \"incredibly\", \"advertise\", \"supply\", \"airport\", \"group\", \"center\", \"miss\", \"description\", \"midtown\", \"pleasure\", \"ride\", \"daughter\", \"decide\", \"empire\", \"anytime\", \"jfk\", \"part\", \"hotel\", \"describe\", \"ask\", \"car\", \"away\", \"minute\", \"time\", \"big\", \"available\", \"visit\", \"trip\", \"park\", \"close\", \"walk\", \"book\", \"block\", \"manhattan\", \"perfect\", \"come\", \"want\", \"house\", \"happy\", \"pleasant\", \"forward\", \"tidy\", \"year\", \"hand\", \"kid\", \"common\", \"half\", \"necessity\", \"whatsoever\", \"indicate\", \"ago\", \"nice\", \"good\", \"room\", \"kind\", \"people\", \"clean\", \"share\", \"comfortable\", \"area\", \"bathroom\", \"bed\", \"place\", \"guest\", \"host\", \"adult\", \"stay\", \"look\", \"safe\", \"experience\", \"term\", \"instruction\", \"talk\", \"son\", \"pass\", \"les\", \"pour\", \"union\", \"appartement\", \"pas\", \"nous\", \"une\", \"des\", \"jour\", \"qui\", \"chambre\", \"propre\", \"court\", \"sur\", \"situ\", \"merci\", \"quartier\", \"tait\", \"notre\", \"tro\", \"nuit\", \"avons\", \"agr\", \"proximit\", \"profit\", \"able\", \"est\", \"bien\", \"que\", \"bedroom\", \"private\", \"pretty\", \"travel\", \"outside\", \"transportation\", \"sweet\", \"equip\", \"different\", \"detail\", \"williamsburg\", \"fully\", \"surprise\", \"recommendation\", \"style\", \"sound\", \"begin\", \"dinner\", \"wife\", \"child\", \"layout\", \"personally\", \"finish\", \"avenue\", \"cosy\", \"red\", \"freeze\", \"assist\", \"connection\", \"compare\", \"cool\", \"stop\", \"value\", \"door\", \"neat\", \"share\", \"kitchen\", \"area\", \"brooklyn\", \"bathroom\", \"high\", \"quiet\", \"spacious\", \"especially\", \"muy\", \"con\", \"todo\", \"para\", \"una\", \"ubicaci\", \"por\", \"del\", \"solo\", \"los\", \"pero\", \"como\", \"modo\", \"casa\", \"gracias\", \"anfitri\", \"siempre\", \"estuvo\", \"alojamiento\", \"departamento\", \"todos\", \"perfecto\", \"estancia\", \"perfecta\", \"seguro\", \"recomendable\", \"unos\", \"incre\", \"lindo\", \"ble\", \"que\", \"bien\", \"est\", \"manhattan\", \"communication\", \"fast\", \"reply\", \"toiletry\", \"great\", \"location\", \"perfect\", \"place\", \"stay\", \"experience\", \"people\", \"hotel\", \"price\", \"view\", \"response\", \"affordable\", \"absolutely\", \"getaway\", \"modern\", \"def\", \"couple\", \"staff\", \"prime\", \"complaint\", \"skill\", \"hostess\", \"chill\", \"melissa\", \"return\", \"gather\", \"sonder\", \"future\", \"wait\", \"cleanliness\", \"shop\", \"week\", \"far\", \"couldn\", \"attentive\", \"process\", \"provide\", \"hospitality\", \"comfy\", \"give\", \"towel\", \"decorate\", \"eat\", \"size\", \"wish\", \"include\", \"sheet\", \"hope\", \"show\", \"nicely\", \"smooth\", \"accommodation\", \"head\", \"choice\", \"dine\", \"fit\", \"personal\", \"microwave\", \"self\", \"soap\", \"information\", \"greet\", \"stave\", \"shampoo\", \"centrally\", \"bike\", \"person\", \"overall\", \"bed\", \"arrive\", \"trip\", \"door\", \"able\", \"convenient\", \"cute\", \"smell\", \"apt\", \"studio\", \"arrival\", \"reservation\", \"cancel\", \"upstairs\", \"noisy\", \"post\", \"elevator\", \"mattress\", \"automate\", \"luggage\", \"functional\", \"commute\", \"heavy\", \"parent\", \"airy\", \"flexibility\", \"library\", \"super\", \"small\", \"day\", \"host\", \"response\", \"refund\", \"money\", \"bad\", \"price\", \"view\", \"shop\", \"excelente\", \"flexible\", \"internet\", \"prompt\", \"cerca\", \"unique\", \"fue\", \"nos\", \"lady\", \"volver\", \"sin\", \"mucho\", \"hill\", \"cocina\", \"duda\", \"figure\", \"estad\", \"pendiente\", \"espacio\", \"amos\", \"anfitriona\", \"lugares\", \"van\", \"nuestra\", \"interaction\", \"clinton\", \"comer\", \"bamos\", \"llegada\", \"tiempo\", \"check\", \"metro\", \"meet\", \"quick\", \"responsive\", \"respond\", \"issue\", \"quickly\", \"list\", \"service\", \"message\", \"entire\", \"backyard\", \"accurate\", \"vibe\", \"text\", \"bath\", \"maintain\", \"dans\", \"logement\", \"hesitation\", \"sympa\", \"tage\", \"toujours\", \"organise\", \"lumineux\", \"aider\", \"spacieux\", \"car\", \"response\", \"attentive\", \"customer\", \"refund\", \"view\", \"price\", \"absolutely\", \"airbnb\", \"shower\", \"take\", \"care\", \"wrong\", \"point\", \"hide\", \"fine\", \"ideal\", \"chair\", \"busy\", \"numb\", \"general\", \"landlord\", \"zona\", \"steep\", \"vista\", \"suitcase\", \"problema\", \"che\", \"tutto\", \"alla\", \"stato\", \"soggiorno\", \"cucina\", \"giorno\", \"bene\", \"tranquilla\", \"arrivo\", \"nostro\", \"space\", \"stylish\", \"family\", \"coffee\", \"communicative\", \"fan\", \"anticipate\", \"filter\", \"brief\", \"apartament\", \"love\", \"beautiful\", \"ask\", \"quiet\", \"view\", \"absolutely\", \"modern\", \"shop\", \"decor\", \"outdoor\", \"response\", \"sparkle\", \"justice\", \"vibes\", \"getaway\", \"design\", \"incredible\", \"price\", \"balcony\", \"melissa\", \"couple\", \"wait\", \"attentive\", \"far\", \"week\", \"couldn\", \"help\", \"cook\", \"thoughtful\", \"offer\", \"simple\", \"dry\", \"send\", \"sit\", \"renovate\", \"breakfast\", \"hair\", \"necessary\", \"suggestion\", \"transport\", \"useful\", \"careful\", \"recently\", \"advice\", \"confortable\", \"broadway\", \"bagel\", \"ticket\", \"recommande\", \"mes\", \"brunch\", \"mon\", \"sont\", \"accueil\", \"suis\", \"esp\", \"etc\", \"awesome\", \"excellent\", \"don\", \"win\", \"expectation\", \"wouldn\", \"las\", \"gracious\", \"business\", \"case\", \"hesitate\", \"temperature\", \"apartamento\", \"communicator\", \"generous\", \"buen\", \"tiene\", \"pizza\", \"story\", \"cual\", \"advance\", \"fotos\", \"tal\", \"rain\", \"majority\", \"transition\", \"history\", \"news\", \"host\", \"exceed\", \"nyc\", \"spot\", \"amenity\", \"photo\", \"neighbor\", \"public\", \"easily\", \"outstanding\", \"accessible\", \"bright\", \"probably\", \"site\", \"transit\", \"negative\", \"overnight\", \"accurately\", \"december\", \"sufficient\", \"scene\", \"occasionally\", \"november\", \"metro\", \"chill\", \"shop\", \"absolutely\", \"getaway\", \"view\", \"bad\", \"price\", \"sparkle\", \"low\", \"couple\", \"modern\", \"far\", \"unit\", \"response\", \"light\", \"large\", \"fill\", \"habitaci\", \"mejor\", \"estaba\", \"cuando\", \"sido\", \"ser\", \"ayudar\", \"punto\", \"tica\", \"simp\", \"natural\", \"sleeper\", \"view\", \"doesn\", \"closet\", \"turn\", \"ton\", \"wall\", \"encanto\", \"design\", \"plant\", \"lamp\", \"face\", \"beautifully\", \"deben\", \"lead\", \"unit\", \"incredible\", \"decor\", \"shop\", \"bueno\", \"say\", \"price\", \"moda\", \"water\", \"recomiendo\", \"response\", \"far\", \"limpio\", \"lugar\", \"buena\", \"absolutely\"], \"Freq\": [575240.0, 267652.0, 707474.0, 257940.0, 633100.0, 305983.0, 153915.0, 357631.0, 428112.0, 135855.0, 154622.0, 161633.0, 195685.0, 117273.0, 116254.0, 193156.0, 82251.0, 99775.0, 95726.0, 67180.0, 81972.0, 99202.0, 68136.0, 109193.0, 112029.0, 66696.0, 173091.0, 66252.0, 67575.0, 321038.0, 130616.4909783988, 108700.97183121665, 85490.4090152143, 55248.75637733522, 46717.857779232676, 43375.98417064051, 31116.3063807925, 23892.2443971334, 22425.891938600173, 19349.243302528448, 16692.03454279927, 13404.03771251846, 13112.359885022293, 11959.251939594486, 10013.057190978718, 9912.815751928043, 8785.773915635657, 8729.298513553114, 8152.467793362905, 7861.454860436395, 7599.391815411069, 5905.741399888741, 5405.1675710115205, 4970.550722943046, 4499.076365729517, 4367.864081574103, 4319.62314300808, 4260.078646444628, 4189.843990404017, 4069.280879074208, 21238.992776002135, 35030.17708719757, 89576.7039087559, 15013.308172828323, 73809.95598638318, 84643.76071565002, 53037.03538679443, 17979.777683257158, 38856.37139060278, 219555.86016237875, 78728.07392227733, 204009.7087043094, 42776.71028106166, 44138.7730804984, 42480.642327776804, 17185.341473387256, 91387.10602732675, 81030.80910057017, 48720.963019001334, 48135.33453157068, 48410.024968407306, 50315.880444375485, 31672.791607401818, 43347.43223860399, 40788.508768675245, 29730.60724499966, 29412.654521664426, 35382.376434942526, 31752.534115663217, 113326.9206365045, 57336.61972173715, 56029.025066903734, 34214.97107697597, 28599.022823775187, 25989.13108083424, 19762.08701409411, 11449.428886757172, 9384.34987505076, 8880.164149543429, 7717.587592699941, 5699.021384314619, 4875.074266075709, 4460.691786417605, 3968.183804316618, 3232.0795112582887, 1631.4504623642267, 1179.9540515149163, 806.6550147329307, 771.5980599000032, 589.6023164144922, 350.0296389175057, 301.28447590215586, 20422.873333650758, 4976.510946125921, 39153.55369220508, 83086.70717524194, 104433.32765771454, 12435.231252131442, 53352.017786823424, 81711.49457968083, 50621.6664101862, 139861.43314152394, 119561.70450963602, 123760.54808140175, 53134.25374259098, 111935.49715182646, 46715.03192991986, 71578.18725310352, 24048.951694536012, 53061.55036109692, 165521.06003781813, 29413.692571307573, 38458.2662017851, 140126.23332614868, 43749.963179074955, 176049.31798970918, 38111.06066414939, 105120.02404677401, 52365.98933983441, 105239.17184887853, 51937.249282074124, 48597.87869339601, 73259.46411467787, 42737.12312725517, 40185.58201511046, 39111.57903158482, 32867.99755226082, 29229.809073343837, 26838.420610701658, 25930.194011013897, 25302.83833076195, 23714.882737916265, 23516.469650402083, 22590.159366449414, 20348.771703266262, 20210.08872940803, 19889.72746275673, 19720.551020830677, 19466.964068786256, 19095.57623767826, 18246.231878218918, 16921.869642628644, 16736.626427469833, 16688.541726875315, 16416.113143108043, 16078.533194375475, 15647.266443542807, 15082.411453247876, 15011.61616314378, 14957.400438408537, 14951.409655958476, 14857.31390480621, 14725.267253393997, 14532.625486142197, 40396.17150712554, 55535.803711259, 35705.48733907564, 108650.28645857066, 41532.197716531584, 29944.251631856598, 60494.67709593853, 33394.68967393893, 36854.814027602406, 104017.53174369047, 34720.88147479137, 41025.884532437354, 38240.34626290926, 37803.04055499997, 28616.15853907575, 64585.328090829134, 32217.871331852908, 28706.005288165063, 26497.27788069786, 37738.109722769615, 35428.69520468892, 30780.903583037183, 27890.29966461455, 71080.86555675315, 17077.14818997124, 12909.742807670427, 11329.415530954668, 7530.793660840106, 6559.011051809087, 5520.743926972106, 4613.055772049551, 4231.185549616665, 3616.9338086555285, 3568.2995621387413, 3446.7736646964095, 2186.0359528987788, 2046.7822751946294, 1814.8326285662124, 1036.091745865366, 927.7816952332051, 475.33637925825934, 428.92009408625364, 164.1433200162323, 67.4643394818128, 152364.63293192565, 46003.77503862112, 40177.81678923682, 99638.58335286133, 23060.87579382309, 29231.356881704785, 26316.409214494695, 13524.038792888776, 94360.58783158158, 29569.764858722618, 42773.1753274328, 143332.39492798754, 194876.27980111947, 33955.32537826582, 162278.98721782956, 99378.98682120327, 19396.63005347101, 114733.98810778829, 28183.6859996181, 61878.004260843205, 55546.34504912054, 39045.42185977234, 31900.543610595974, 27990.97632316903, 16293.739756086485, 16041.759339325137, 16460.181856775715, 109190.20106293196, 62842.9209914107, 62221.02361403121, 49214.69448828573, 43574.395800364415, 41084.7457467896, 37672.061010546015, 37369.535678559696, 27823.031992212877, 27645.358433282112, 23235.109350792554, 22857.742663393317, 20011.007387730162, 17847.53900167388, 14775.284702582041, 13476.506279658677, 12076.552379772893, 11491.028518366049, 10917.428021246571, 10659.662711670038, 10023.753020532713, 9957.976830627817, 9729.585021856055, 9169.943098522741, 8587.406411827258, 7748.485532827341, 7429.7952173605845, 6843.758523081166, 5651.759888452256, 5118.866652164231, 54149.335143544005, 24123.69978247189, 32197.527103831835, 12384.53769288159, 60770.13036270667, 58628.99477345159, 92923.6828154291, 29942.64088424191, 20960.727804905975, 23833.072480214865, 21829.426769926, 36564.79956325741, 36916.688897798456, 33938.40124232551, 30582.74843488109, 22310.97530184605, 23616.769094214906, 27237.186458689852, 24963.766090582405, 21106.166593397105, 43671.39305734931, 13009.620662790685, 10759.684075988695, 9952.790657546402, 8296.678781895067, 8062.796956887428, 6910.909942911385, 5714.61780257802, 5257.0214860455635, 3787.6984665829123, 3081.5579518611357, 1627.8556097883056, 747.5546225356497, 276.0149478950446, 226184.77865570443, 118893.67710665394, 91665.21424882014, 16169.015614709268, 14694.437543161794, 132206.48252254358, 4980.23823703887, 38915.62932422123, 20952.729440925435, 14321.008262733632, 20562.67884263889, 129681.35616236828, 5691.853646354429, 50603.64455611889, 231.09738701205197, 63540.30811046052, 7781.092500162766, 5985.461733314811, 5867.872004868074, 116252.17161670761, 99200.587441445, 70072.103935805, 45032.4361770527, 35540.28162841003, 34288.99167889429, 25135.43190762419, 23052.250530805482, 20712.742215240338, 15048.176984055137, 13850.246969696575, 10138.854009633145, 9628.153266559948, 9406.894174992896, 9292.385991922847, 9198.452338797779, 8258.99241184539, 6810.143672807905, 6016.102552203527, 5617.363347166347, 5539.465079032617, 5427.2665909681655, 5082.938455639224, 4978.27846081166, 4865.2514046765355, 4808.485596746431, 4663.509652272648, 4436.625079359612, 3683.5929683089003, 3180.598021847299, 54940.12688674179, 37075.79654366215, 17267.717424521266, 5319.92860660199, 56973.303018465296, 36409.86468828924, 32261.016387439235, 25973.2054622231, 22601.937428940044, 19598.543248786493, 16918.787632972606, 16782.2031961788, 15961.575210638257, 15747.842808147023, 15486.799294658927, 11048.949221963734, 9849.547524553334, 9079.517503964507, 8636.83772375081, 7218.8967895929145, 6642.010472802859, 6520.214120220968, 6013.989646290443, 5935.034117811713, 4587.593304471297, 3891.280604385096, 3461.1268687333077, 3245.910002721758, 3128.2163555904417, 2895.5107507116654, 2872.8825956914648, 2759.2771714397936, 2517.047552059011, 2345.015988444884, 33459.753955525564, 11846.464403592603, 37227.76305403262, 29738.79528173863, 9158.30406911572, 14233.53829525264, 40601.21450729492, 37755.0582893737, 24321.422731014663, 27095.65160523557, 8707.701632957125, 12548.629096803841, 8468.830245916497, 7048.825890224205, 117270.69865054468, 58943.944066428296, 41942.927484868196, 39876.08577090788, 38170.446424451926, 25484.07745543647, 22054.18946783039, 22048.54507927419, 20034.987493287048, 18482.67339007431, 14040.017095089568, 13658.252928201659, 12649.529880538546, 10132.107146912002, 9970.388196009519, 9853.112789347666, 9803.180231924001, 9390.929491816098, 8438.430329186613, 8025.5257750084365, 7223.060097716302, 6037.2311246956115, 6034.656431011937, 4947.335444579145, 4925.811142883952, 4370.195339704334, 4239.253087718644, 3946.0332897388853, 3920.98382332726, 3910.0717971197064, 69431.18775377629, 22985.963205683358, 23467.5361122832, 7714.456715409877, 45199.66694152447, 18562.759382484575, 6140.118869575896, 2265.826881398752, 284453.9846407794, 103976.38314034892, 21507.034174129807, 106261.8745050951, 72600.46536676012, 6055.64767793767, 2991.24177226687, 2726.5573695914823, 0.051414978380607275, 0.05140358040314402, 0.05139518214644715, 0.051371535309187887, 0.05137751071449654, 0.05137153050194307, 0.05137420813730664, 0.05136831926240471, 0.05137368414762149, 0.0513714583932708, 0.05136767509159911, 0.051368352913118434, 0.05136547337347251, 0.05136641559345682, 0.05136731935548258, 0.05136783853792292, 0.05136927109687865, 0.05136506956490781, 0.051367617404661295, 151.09477941738191, 0.05136977585758453, 0.051368564431890425, 0.05137204487713858, 0.05136981431554308, 0.05136934801279574, 0.05136915091575821, 0.05136875672168314, 0.0513686653840316, 40496.8589425604, 38597.72588580604, 37334.27912908467, 36975.98001916046, 25720.260179572535, 24160.779956066854, 21925.788668764406, 21630.329466707124, 17247.57324863599, 15370.517205245364, 15008.200717510934, 13930.117703670683, 12990.40402333637, 11318.0597410977, 11260.031775598649, 9949.867840749639, 9056.780990859623, 8336.01378236249, 8185.382535530998, 8144.436470382113, 7837.745071061542, 7472.250943916228, 6906.501795450933, 5786.665775509158, 5425.362914523518, 5415.776777792449, 5250.082839451632, 5249.43864809297, 4688.931521721077, 4567.589013607646, 32051.595627618568, 35337.389878948314, 60209.62690038927, 13612.951542459543, 20445.493857974565, 9704.058403610303, 7739.405330656285, 66214.18960631722, 46321.60943577986, 25765.130471058732, 24142.266751942865, 23027.262372196587, 20420.563993776486, 13778.090822822856, 13450.748223290693, 11024.064568282056, 10368.352426886042, 9217.658065872234, 8215.08594228807, 7014.20985996427, 5784.116720468471, 5603.924199572812, 4190.945679245633, 3542.0271946617427, 2543.9194314370748, 2496.963713499309, 1885.6943442262539, 698.2312642676851, 152.434744668228, 106484.32172042051, 40311.28152400322, 26078.131736263356, 48230.9053999689, 0.10926629411823846, 0.10924687013412303, 0.10924740968923735, 0.10924332882872483, 0.10926308718502378, 0.10926443227312567, 0.10925514584566516, 23629.687670671785, 18808.15266264398, 17662.016166811973, 14987.650996226022, 13923.026103917691, 11436.102265422662, 10194.680016442442, 9973.65306484528, 9488.055075741137, 8266.183232679612, 7074.161287547673, 5899.039776219829, 5343.796491606066, 4741.857335621768, 3551.077389327097, 3382.023345399139, 3355.923864699757, 2612.14398958072, 2413.5268290798945, 2345.939357291953, 2282.716710720007, 2271.414240354538, 2160.1283782945334, 1708.0382081778514, 1394.1334294886565, 1252.233495514626, 1122.1307135379616, 1028.5803441836033, 904.5451382214115, 900.1138583956259, 239759.48388445424, 12142.90441841674, 1881.1938522332737, 81969.18003002537, 67572.42666927817, 63480.19470065211, 41172.8280801345, 31429.403193006587, 23465.145705396717, 19758.432577999156, 16515.873064217398, 11919.75954549257, 8938.395610145435, 8067.042009672096, 7954.363377132052, 5919.038729897742, 5079.829247648, 3678.685495423522, 1124.915935544573, 475.3707924671644, 396.74660102884417, 205.22839437736877, 167.4685499135038, 146.95249222495326, 142.98586724624803, 96.13711778867285, 83.76237246559714, 60.9686767401104, 892.3058678442817, 0.08347191167546805, 0.08340846916264541, 0.08340119910606582, 0.08340446427456143, 0.08342384723940084, 0.08341729378617249, 0.08340910485916668, 135852.30967056716, 48560.62224594622, 41698.21841684922, 28454.20619950249, 21863.95606749585, 17509.744294374592, 16699.062773186815, 16023.443546713037, 15455.29045624459, 8665.038485567373, 7950.672579504433, 7947.126794852041, 5239.936042146931, 3133.255137365274, 2586.822738833845, 2132.9888083625156, 1674.1128472130833, 1484.199487404509, 1010.8419299101575, 411.51887252825617, 174.30342434645266, 67.1286251491647, 53.58156711052247, 31.822808697774246, 28.4459505023812, 15.031299722430242, 11.407315007716402, 9.031699168524721, 7.749961731153573, 4.858924200056825, 153912.5891185132, 35447.91577226637, 28811.552033846056, 20912.320198052745, 13260.65423652997, 2758.027737217212, 894.8298493782958, 450.2816926861044, 395.3445107897024, 256.2088749964899, 55634.001206033136, 53242.29086831587, 6491.025126324698, 7052.79170902165, 0.0690783467102367, 0.06905328101483933, 0.06903700033212701, 0.06904548486241299, 0.0690317391584854, 0.06902997450730551, 0.06904213584949265, 0.06902930798271124, 0.06902554375774857, 0.06902460953065333, 0.06902733572551019, 0.0690266418843342, 0.06902808419984965, 0.06904287886051576, 0.06902593711652551, 0.06902598628637263, 0.06903120921679981, 0.06902894740383239, 0.06902951012541607, 0.06903016026006129, 0.06902889823398527, 0.06902829726918716, 66249.36895917525, 45081.82356200267, 43215.54625050882, 33834.95486613456, 25046.202767933075, 18603.68099982649, 14921.163350317565, 12888.490009939394, 11726.060300354196, 11524.520641294552, 10318.761059614902, 7379.721992588819, 7085.39452328018, 5864.715246988914, 4745.923650458191, 4605.619230665632, 3824.546346347814, 3675.3348376666245, 3587.6772110447137, 3418.8121339305667, 3199.9239524472137, 1711.6578902665879, 931.7600662564333, 906.6574113583935, 768.5513321133895, 702.8677493180743, 652.32130276773, 443.68152643154934, 443.0834210816763, 435.6864181785729, 10051.95406441068, 68133.40537849114, 66693.79553372304, 47578.77366702119, 14743.586014688244, 13453.440413258328, 13399.73100973762, 9795.997567892471, 9758.818915122714, 9517.349935315284, 7382.358420212475, 6352.28860344723, 5366.1169410492885, 4814.752056832783, 4552.176526944709, 4331.520847292713, 4325.307574042885, 4011.1757294889608, 3354.623780211534, 3206.9598195267986, 1988.1886928573936, 1759.8821356036676, 1635.5962790560104, 1491.859472171034, 1337.0581449291014, 1201.1355908111425, 802.8775121246941, 722.0606163451889, 463.92546808541886, 24560.865888411237, 0.12475739314954354, 1907.3538330924034, 82248.4257302739, 53544.08924501097, 23583.211390466826, 14084.670993775442, 13627.499598815293, 13501.155057965085, 13068.113529325181, 11862.81969666135, 11003.564867100742, 8402.072936165774, 4477.310975285028, 3432.7341509988814, 3228.3003882556345, 2869.379141693429, 1719.1303008840582, 1168.8477128628483, 757.7224585457022, 579.7903327414002, 400.96261866647546, 120.01382611074041, 7787.36939478351, 0.10238360947591596, 0.1024034809390328, 0.10239451184164514, 0.10238110573494909, 0.10241159432748242, 0.10238166828434354, 0.10240331455118373, 0.10238055903201644, 0.10237817413951318, 0.1023852654311757, 0.10238391848192137, 0.10238402148392317, 0.10238440179900674, 0.10238653314812095, 67177.79497797534, 43739.758037946485, 11297.992561246749, 7188.066785162923, 3841.588003937717, 2831.277534431926, 1664.0143365186875, 977.9699192644048, 942.1977848896216, 341.487413186156, 298.7822150772678, 216.9454532473865, 105.03529694839155, 0.18792225434062712, 0.18779673656967474, 0.1878613866269231, 0.18780085161936416, 0.18779841761125, 0.18779417998561238, 0.18779636884183015, 0.18780402108316752, 0.18779176348834795, 0.18779288418273143, 0.18778691298296935, 0.18778323570452346, 0.18779066030481417, 0.18779160589070026, 0.18778547709329046, 0.1877851443871454, 0.18780792600266003, 0.18779512557149844, 0.18779337448652422, 0.18782070892297187, 0.18779363714927036, 0.18780388099636958, 0.18781986840218423, 0.18780407361571674, 0.18780141196655592, 0.18781489532085743, 0.18780834626305384, 0.18779897795844175, 0.1878196057394381, 0.18784200211625843, 0.1878126364212407, 0.1877988378716438], \"Total\": [575240.0, 267652.0, 707474.0, 257940.0, 633100.0, 305983.0, 153915.0, 357631.0, 428112.0, 135855.0, 154622.0, 161633.0, 195685.0, 117273.0, 116254.0, 193156.0, 82251.0, 99775.0, 95726.0, 67180.0, 81972.0, 99202.0, 68136.0, 109193.0, 112029.0, 66696.0, 173091.0, 66252.0, 67575.0, 321038.0, 130619.73460092468, 108704.21545374254, 85493.65263774019, 55251.9999998611, 46721.101401758555, 43379.22779316639, 31119.550003318396, 23895.488019659297, 22429.13556112607, 19352.486925054345, 16695.278165325166, 13407.281335044354, 13115.603507548187, 11962.495562128548, 10016.300813504611, 9916.059374453936, 8789.01753816155, 8732.542136079008, 8155.711415888795, 7864.698482962286, 7602.6354379369595, 5908.985022414632, 5408.411193537411, 4973.794345468937, 4502.319988305234, 4371.107704108161, 4322.866765551481, 4263.322268978686, 4193.087612929908, 4072.524501600099, 21393.279815255435, 39155.38954069843, 105873.6204397161, 16925.050342884955, 98776.82064651603, 115427.81801698572, 78007.39330312001, 23074.061365137102, 61855.467400792244, 633100.4274936272, 173091.83852873265, 707474.0125462014, 85555.61564582368, 99775.94889087822, 95726.10780043935, 24072.84812307808, 428112.76722023566, 357631.8235013875, 148362.72314673642, 154622.79064871243, 163917.47477960392, 179039.6110515378, 77700.90694843022, 188162.9339331687, 193156.31847547463, 78780.31081281562, 91789.88630425477, 321038.05935509613, 257940.48221769076, 113330.11007091949, 57339.809156152136, 56032.21450131872, 34218.16051139095, 28602.212258190197, 25992.32051524925, 19765.2764485301, 11452.618321172176, 9387.53930957758, 8883.353583958433, 7720.777027114941, 5702.21081872962, 4878.263700574621, 4463.881220963067, 3971.373238731619, 3235.2689456732896, 1634.639896900483, 1183.1434859299175, 809.8444494373409, 774.787494684438, 592.791750834957, 353.21907344751895, 304.47391031715733, 22082.34237445197, 5500.922635445967, 43925.07452741022, 97626.38052524063, 124037.75621643047, 14902.163076574932, 64072.26955738584, 98609.2360209779, 62436.440902463335, 181220.3399281081, 156129.548454333, 163573.65477786472, 68565.72615895284, 154731.6376295587, 60907.09802487121, 101193.86688635577, 30986.97659967019, 81860.78806246887, 321038.05935509613, 42443.86273125708, 60772.2858850707, 305983.69195141364, 75296.5875033507, 575240.3619623499, 68584.77255113826, 428112.76722023566, 133013.6797543475, 707474.0125462014, 179039.6110515378, 163917.47477960392, 633100.4274936272, 161633.91549212133, 40188.818673569374, 39114.81569004373, 32871.23421070909, 29233.04573179212, 26841.657269156593, 25933.43066947287, 25306.074989210236, 23718.11939636455, 23519.706308867877, 22593.3960248977, 20352.008361714546, 20213.325387856316, 19892.964121205016, 19723.78767929994, 19470.20072734793, 19098.812896126543, 18249.468536667202, 16925.10630107693, 16739.863085918118, 16691.778385334248, 16419.349801556327, 16081.769852823758, 15650.50310199109, 15085.648111696159, 15014.852821592063, 14960.637096856819, 14954.646314406758, 14860.550563254492, 14728.50391184228, 14535.86214459048, 43106.29545842927, 62419.38452408019, 39250.12561436067, 139236.1264989246, 47836.14250056729, 33076.51269645707, 75868.05834424213, 39089.70580253883, 44822.3733681497, 195685.9084747561, 45060.82995800899, 60286.619801229914, 74688.56772990154, 78407.3790573978, 46304.94897405992, 321038.05935509613, 73637.58101872224, 55458.229700538475, 46796.68234539553, 179039.6110515378, 188162.9339331687, 115427.81801698572, 267652.82340480085, 71084.12527177663, 17080.4079050029, 12913.002522702081, 11332.675245978155, 7534.053375863589, 6562.270766843218, 5524.0036419955895, 4616.3154871892475, 4234.445264659551, 3620.1935236905706, 3571.559277254636, 3450.033379934698, 2189.2956679222625, 2050.041990351481, 1818.0923436962275, 1039.3514609496779, 931.0414103534875, 478.59609439415453, 432.17980918420045, 167.40303503971637, 70.72405453887392, 193156.31847547463, 64898.23967365996, 58937.61892902193, 148362.72314673642, 35455.434194015994, 46774.08427031431, 46162.71170241149, 24615.530489301076, 173091.83852873265, 54691.54471915175, 85555.61564582368, 357631.8235013875, 633100.4274936272, 78780.31081281562, 707474.0125462014, 428112.76722023566, 46677.19151905806, 575240.3619623499, 81826.24284935328, 305983.69195141364, 321038.05935509613, 179039.6110515378, 133013.6797543475, 163917.47477960392, 105873.6204397161, 154731.6376295587, 188162.9339331687, 109193.38257263215, 62846.102501110894, 62224.20512373141, 49217.875997985924, 43577.57731006461, 41087.9272564898, 37675.24252024621, 37372.71718825989, 27826.213501913084, 27648.539943074727, 23238.29086049276, 22860.924173093525, 20014.18889743037, 17850.720511374086, 14778.466212282248, 13479.687789358884, 12079.7338894731, 11494.210028066256, 10920.609530946778, 10662.844221378413, 10026.93453023292, 9961.158340328024, 9732.766531556263, 9173.124608222948, 8590.587921527465, 7751.6670425469465, 7432.976727060788, 6846.940032781369, 5654.941398173441, 5122.048161900636, 56879.02266017485, 27239.041742762052, 38691.66472169693, 13279.941682516672, 91789.88630425477, 88311.53113573801, 188162.9339331687, 50197.69238903254, 32837.37207283174, 48797.944253229034, 42277.99673104798, 156129.548454333, 181220.3399281081, 163573.65477786472, 139236.1264989246, 60772.2858850707, 75296.5875033507, 133013.6797543475, 98776.82064651603, 60130.56750332859, 43674.645443822155, 13012.873049263535, 10762.936462461545, 9956.043044029944, 8299.931168367917, 8066.049343402084, 6914.162329403635, 5717.870189059036, 5260.273872518413, 3790.9508530856865, 3084.810338410861, 1631.10799629187, 750.8070090665384, 279.26733439489493, 257940.48221769076, 161633.91549212133, 195685.9084747561, 35726.07716696372, 46304.94897405992, 428112.76722023566, 19216.916255419008, 163917.47477960392, 98945.11595727553, 73637.58101872224, 112029.27941400382, 707474.0125462014, 39089.70580253883, 357631.8235013875, 2179.216877716705, 633100.4274936272, 78007.39330312001, 60907.09802487121, 61855.467400792244, 116254.58325984523, 99202.99908458261, 70074.51557894262, 45034.84782019031, 35542.69327154764, 34291.403322031896, 25137.843550761812, 23054.662173943103, 20715.15385837796, 15050.588627192757, 13852.658612834195, 10141.265652770766, 9630.564909697569, 9409.305818130517, 9294.797635060468, 9200.8639819354, 8261.40405498301, 6812.555315945524, 6018.514195341146, 5619.774990303966, 5541.876722170236, 5429.678234105784, 5085.350098776843, 4980.690103949279, 4867.663047814154, 4810.89723988405, 4665.921295410267, 4439.036722497231, 3686.004611446519, 3183.009665109133, 86254.86094307872, 60545.393072684004, 40255.741046943265, 74753.17677711693, 56976.51691779557, 36413.078587619515, 32264.230286769525, 25976.41936155339, 22605.151328270334, 19601.757148116783, 16922.001532302897, 16785.417095509092, 15964.789109968544, 15751.05670747731, 15490.013193989214, 11052.163121294021, 9852.761423883621, 9082.731403294794, 8640.051623081097, 7222.1106889232005, 6645.224372180508, 6523.428019551254, 6017.203545620729, 5938.248017141999, 4590.8072038015835, 3894.4945037153825, 3464.340768063594, 3249.1239020520443, 3131.430254920728, 2898.724650041952, 2876.0964950411526, 2762.49107077008, 2520.2614513892977, 2348.2298877751705, 37981.86133857707, 13799.92906725413, 48656.124730526164, 39445.96217812643, 11166.58539688349, 19216.916255419008, 78407.3790573978, 98945.11595727553, 53532.17648928008, 73637.58101872224, 15797.835087427691, 124037.75621643047, 81826.24284935328, 22224.689369320808, 117273.67398682135, 58946.91940270497, 41945.90282114487, 39879.06110718455, 38173.4217607286, 25487.052791713148, 22057.16480410707, 22051.52041555087, 20037.962829563727, 18485.648726350988, 14042.992431366243, 13661.228264478334, 12652.505216815222, 10135.082483188677, 9973.363532286194, 9856.088125624341, 9806.155568200676, 9393.904828092773, 8441.405665463288, 8028.501111285112, 7226.035433992977, 6040.206460972287, 6037.631767288612, 4950.31078085582, 4928.786479160627, 4373.1706759810095, 4242.228423995319, 3949.008626015561, 3923.9591596039354, 3913.047133396382, 74753.17677711693, 40255.741046943265, 60545.393072684004, 75296.5875033507, 45202.942141510124, 18566.03458247024, 6143.394069561557, 2269.102081422425, 575240.3619623499, 305983.69195141364, 133013.6797543475, 707474.0125462014, 633100.4274936272, 61855.467400792244, 46304.94897405992, 56879.02266017485, 3.3275545237925086, 3.327798950960209, 3.327401088658015, 3.3267439858325862, 3.327173146059321, 3.3267928970116447, 3.3269979466200894, 3.326646157171103, 3.3270371771600113, 3.326916309275645, 3.3266943892597705, 3.3267478497496974, 3.3265792918851997, 3.32664229696407, 3.3267009873008115, 3.326754482047702, 3.3268525793722223, 3.326587488174143, 3.326754658646434, 21393.279815255435, 3.3269157647739163, 3.3268237569119474, 3.3274109070431312, 3.3270932012911634, 3.3270161013731023, 3.327017077356981, 3.3269551756474423, 3.3269096185818556, 40500.08009868325, 38600.947041928885, 37337.50028520752, 36979.201175283306, 25723.4813356954, 24164.00111218972, 21929.00982488727, 21633.55062282999, 17250.794404758853, 15373.73836136822, 15011.42187363379, 13933.338859793539, 12993.625179459226, 11321.280897220557, 11263.252931747886, 9953.088996872495, 9060.002146982479, 8339.234938485346, 8188.603691653855, 8147.65762650497, 7840.96622720538, 7475.472100039085, 6909.722951600172, 5789.886931632015, 5428.584070646375, 5418.997933915306, 5253.303995574489, 5252.659804215827, 4692.152677843934, 4570.810169730503, 36639.968022999055, 54130.891429387346, 112029.27941400382, 20716.021040518597, 42277.99673104798, 39445.96217812643, 86254.86094307872, 66217.40694318817, 46324.826772650806, 25768.34780792969, 24145.484088813824, 23030.479709067546, 20423.781330647445, 13781.30815969381, 13453.965560161647, 11027.28190515301, 10371.569763756996, 9220.875402743188, 8218.303279159023, 7017.427196835225, 5787.334057339425, 5607.141536443766, 4194.163016116588, 3545.2445315326963, 2547.1367683080284, 2500.1810503702627, 1888.9116811147182, 701.4486011386387, 155.6520815391816, 154622.79064871243, 63851.15681544189, 74688.56772990154, 357631.8235013875, 3.327401088658015, 3.3268698532879863, 3.326966107817738, 3.326850019791638, 3.3275545237925086, 3.327798950960209, 3.3274109070431312, 23632.817430652176, 18811.282422603388, 17665.145926863792, 14990.780756185428, 13926.155863919059, 11439.232025382067, 10197.80977644381, 9976.782824825666, 9491.184835700542, 8269.31299268098, 7077.29104752806, 5902.169536200216, 5346.926251565473, 4744.987095644116, 3554.207149307483, 3385.153105358544, 3359.053624722105, 2615.2737495820866, 2416.6565890812612, 2349.069117272339, 2285.846470742355, 2274.544000334924, 2163.2581382539383, 1711.167968158237, 1397.2631894480612, 1255.3632554740307, 1125.2604735183472, 1031.710104163989, 907.6748982227783, 903.2436183760118, 267652.82340480085, 19933.30120678834, 16551.774104833177, 81972.42320477062, 67575.66984402342, 63483.43787539736, 41176.07125487975, 31432.646367751844, 23468.388880141974, 19761.675752744413, 16519.116238962655, 11923.002720237824, 8941.638784890689, 8070.285184417351, 7957.606551877307, 5922.281904642997, 5083.072422393255, 3681.928670168776, 1128.1591109472834, 478.6139673048294, 399.9897757740984, 208.47157004673045, 170.7117268317487, 150.19566735043173, 146.22904214634153, 99.38029281115931, 87.00555028271609, 64.21185148536462, 13279.941682516672, 3.327401088658015, 3.3269551756474423, 3.3267159972781086, 3.3268698532879863, 3.327798950960209, 3.3275545237925086, 3.327173146059321, 135855.4889572332, 48563.80153261223, 41701.39770351523, 28457.38548616851, 21867.13535416187, 17512.923581040613, 16702.242059852837, 16026.622833379055, 15458.469742910607, 8668.21777223339, 7953.851866170451, 7950.306081518059, 5243.11532885491, 3136.434424031291, 2590.0020256521284, 2136.1680950367004, 1677.2921340698585, 1487.378774070526, 1014.0212167284411, 414.69815919427344, 177.48271101246996, 70.30791181518201, 56.76085377653976, 35.00209536379154, 31.625237168398495, 18.21058638844754, 14.586601673733698, 12.210985834542017, 10.92924839717087, 8.038210866074122, 153915.84666300964, 35451.173316762804, 28814.80957834249, 20915.57774254918, 13263.911781026403, 2761.285281721812, 898.0873938747286, 453.53923718253725, 398.6020552861352, 259.46641949292274, 99775.94889087822, 95726.10780043935, 38691.66472169693, 124037.75621643047, 3.327798950960209, 3.327173146059321, 3.3269979466200894, 3.3274109070431312, 3.3268149907184865, 3.3267398678685174, 3.327401088658015, 3.3268264482682937, 3.3266732743927325, 3.326657078510443, 3.3267928970116447, 3.326763310579121, 3.3268370198632327, 3.3275545237925086, 3.3267404775332317, 3.326754482047702, 3.3270371771600113, 3.3269157647739163, 3.3269551756474423, 3.3270161013731023, 3.3270932012911634, 3.327017077356981, 66252.5211448651, 45084.9757476925, 43218.698436198654, 33838.107051824394, 25049.354953622915, 18606.83318551633, 14924.315536007402, 12891.64219562923, 11729.212486044033, 11527.672826984388, 10321.913245304739, 7382.8741782786565, 7088.546708970017, 5867.867432678751, 4749.075836148028, 4608.771416355469, 3827.6985320376507, 3678.487023356461, 3590.8293967345503, 3421.9643196204033, 3203.0761381370503, 1714.8100759564243, 934.91225194627, 909.809598204521, 771.7035178032262, 706.0199352851432, 655.4734884575666, 446.8337122137967, 446.23561677973396, 438.8386038684095, 22516.112798074024, 68136.60722668275, 66696.99738191465, 47581.9755152128, 14746.787862879853, 13456.642261449937, 13402.932857929229, 9799.199416215366, 9762.020763314324, 9520.551783506893, 7385.560268404084, 6355.49045163884, 5369.318789240898, 4817.953905092735, 4555.378375136318, 4334.722695484323, 4328.509422297438, 4014.377577811855, 3357.825628403143, 3210.161667718408, 1991.3905411934786, 1763.0839838047193, 1638.7981272895813, 1495.061320410005, 1340.2599931312918, 1204.3374390027516, 806.0793603163035, 725.2624645367982, 467.12731627702806, 357631.8235013875, 3.3267255971918512, 77700.90694843022, 82251.64992655725, 53547.31344129431, 23586.435586750173, 14087.895190058787, 13630.723795098638, 13504.37925424843, 13071.337725608526, 11866.043892944695, 11006.789063384087, 8405.297132449119, 4480.535171568373, 3435.9583472822264, 3231.5245845471472, 2872.603337976774, 1722.3544971786375, 1172.0719091543608, 760.9466548290472, 583.0145290247452, 404.1868149498205, 123.23802339365918, 19933.30120678834, 3.3267009873008115, 3.3274109070431312, 3.327173146059321, 3.3267928970116447, 3.327798950960209, 3.326850019791638, 3.3275545237925086, 3.3268264482682937, 3.32675183764484, 3.3270371771600113, 3.3269979466200894, 3.3270161013731023, 3.327062019496148, 3.327401088658015, 67180.93377447085, 43742.89683444199, 11301.131357742252, 7191.205581679407, 3844.726800454201, 2834.41633094841, 1667.1531330351718, 981.1087157808889, 945.3365814270867, 344.62620970264015, 301.92101168185025, 220.08424976387067, 108.17409344389483, 3.326889280091319, 3.3266473407820842, 3.327798950960209, 3.326809468883352, 3.3268329846664826, 3.3267628043706052, 3.3268020900718263, 3.3269404718301714, 3.3267298094233566, 3.326763310579121, 3.326660380865758, 3.3265964523500036, 3.326738668137007, 3.326766182931734, 3.3266600003101146, 3.326658410497181, 3.327062019496148, 3.3268370198632327, 3.3268149907184865, 3.3274109070431312, 3.326826073106316, 3.3270929705912566, 3.3275545237925086, 3.3271377903008283, 3.327087746516372, 3.327652532346041, 3.327401088658015, 3.3270161013731023, 3.3281245737856424, 3.329893746607773, 3.3280043341878307, 3.327173146059321], \"Category\": [\"Default\", \"Default\", \"Default\", \"Default\", \"Default\", \"Default\", \"Default\", \"Default\", \"Default\", \"Default\", \"Default\", \"Default\", \"Default\", \"Default\", \"Default\", \"Default\", \"Default\", \"Default\", \"Default\", \"Default\", \"Default\", \"Default\", \"Default\", \"Default\", \"Default\", \"Default\", \"Default\", \"Default\", \"Default\", \"Default\", \"Topic1\", \"Topic1\", \"Topic1\", \"Topic1\", \"Topic1\", \"Topic1\", \"Topic1\", \"Topic1\", \"Topic1\", \"Topic1\", \"Topic1\", \"Topic1\", \"Topic1\", \"Topic1\", \"Topic1\", \"Topic1\", \"Topic1\", \"Topic1\", \"Topic1\", \"Topic1\", \"Topic1\", \"Topic1\", \"Topic1\", \"Topic1\", \"Topic1\", \"Topic1\", \"Topic1\", \"Topic1\", \"Topic1\", \"Topic1\", \"Topic1\", \"Topic1\", \"Topic1\", \"Topic1\", \"Topic1\", \"Topic1\", \"Topic1\", \"Topic1\", \"Topic1\", \"Topic1\", \"Topic1\", \"Topic1\", \"Topic1\", \"Topic1\", \"Topic1\", \"Topic1\", \"Topic1\", \"Topic1\", \"Topic1\", \"Topic1\", \"Topic1\", \"Topic1\", \"Topic1\", \"Topic1\", \"Topic1\", \"Topic1\", \"Topic1\", \"Topic1\", \"Topic1\", \"Topic2\", \"Topic2\", \"Topic2\", \"Topic2\", \"Topic2\", \"Topic2\", \"Topic2\", \"Topic2\", \"Topic2\", \"Topic2\", \"Topic2\", \"Topic2\", \"Topic2\", \"Topic2\", \"Topic2\", \"Topic2\", \"Topic2\", \"Topic2\", \"Topic2\", \"Topic2\", \"Topic2\", \"Topic2\", \"Topic2\", \"Topic2\", \"Topic2\", \"Topic2\", \"Topic2\", \"Topic2\", \"Topic2\", \"Topic2\", \"Topic2\", \"Topic2\", \"Topic2\", \"Topic2\", \"Topic2\", \"Topic2\", \"Topic2\", \"Topic2\", \"Topic2\", \"Topic2\", \"Topic2\", \"Topic2\", \"Topic2\", \"Topic2\", \"Topic2\", \"Topic2\", \"Topic2\", \"Topic2\", \"Topic2\", \"Topic2\", \"Topic2\", \"Topic2\", \"Topic2\", \"Topic2\", \"Topic2\", \"Topic3\", \"Topic3\", \"Topic3\", \"Topic3\", \"Topic3\", \"Topic3\", \"Topic3\", \"Topic3\", \"Topic3\", \"Topic3\", \"Topic3\", \"Topic3\", \"Topic3\", \"Topic3\", \"Topic3\", \"Topic3\", \"Topic3\", \"Topic3\", \"Topic3\", \"Topic3\", \"Topic3\", \"Topic3\", \"Topic3\", \"Topic3\", \"Topic3\", \"Topic3\", \"Topic3\", \"Topic3\", \"Topic3\", \"Topic3\", \"Topic3\", \"Topic3\", \"Topic3\", \"Topic3\", \"Topic3\", \"Topic3\", \"Topic3\", \"Topic3\", \"Topic3\", \"Topic3\", \"Topic3\", \"Topic3\", \"Topic3\", \"Topic3\", \"Topic3\", \"Topic3\", \"Topic3\", \"Topic3\", \"Topic3\", \"Topic3\", \"Topic3\", \"Topic3\", \"Topic3\", \"Topic4\", \"Topic4\", \"Topic4\", \"Topic4\", \"Topic4\", \"Topic4\", \"Topic4\", \"Topic4\", \"Topic4\", \"Topic4\", \"Topic4\", \"Topic4\", \"Topic4\", \"Topic4\", \"Topic4\", \"Topic4\", \"Topic4\", \"Topic4\", \"Topic4\", \"Topic4\", \"Topic4\", \"Topic4\", \"Topic4\", \"Topic4\", \"Topic4\", \"Topic4\", \"Topic4\", \"Topic4\", \"Topic4\", \"Topic4\", \"Topic4\", \"Topic4\", \"Topic4\", \"Topic4\", \"Topic4\", \"Topic4\", \"Topic4\", \"Topic4\", \"Topic4\", \"Topic4\", \"Topic4\", \"Topic4\", \"Topic4\", \"Topic4\", \"Topic4\", \"Topic4\", \"Topic4\", \"Topic4\", \"Topic5\", \"Topic5\", \"Topic5\", \"Topic5\", \"Topic5\", \"Topic5\", \"Topic5\", \"Topic5\", \"Topic5\", \"Topic5\", \"Topic5\", \"Topic5\", \"Topic5\", \"Topic5\", \"Topic5\", \"Topic5\", \"Topic5\", \"Topic5\", \"Topic5\", \"Topic5\", \"Topic5\", \"Topic5\", \"Topic5\", \"Topic5\", \"Topic5\", \"Topic5\", \"Topic5\", \"Topic5\", \"Topic5\", \"Topic5\", \"Topic5\", \"Topic5\", \"Topic5\", \"Topic5\", \"Topic5\", \"Topic5\", \"Topic5\", \"Topic5\", \"Topic5\", \"Topic5\", \"Topic5\", \"Topic5\", \"Topic5\", \"Topic5\", \"Topic5\", \"Topic5\", \"Topic5\", \"Topic5\", \"Topic5\", \"Topic5\", \"Topic6\", \"Topic6\", \"Topic6\", \"Topic6\", \"Topic6\", \"Topic6\", \"Topic6\", \"Topic6\", \"Topic6\", \"Topic6\", \"Topic6\", \"Topic6\", \"Topic6\", \"Topic6\", \"Topic6\", \"Topic6\", \"Topic6\", \"Topic6\", \"Topic6\", \"Topic6\", \"Topic6\", \"Topic6\", \"Topic6\", \"Topic6\", \"Topic6\", \"Topic6\", \"Topic6\", \"Topic6\", \"Topic6\", \"Topic6\", \"Topic6\", \"Topic6\", \"Topic6\", \"Topic7\", \"Topic7\", \"Topic7\", \"Topic7\", \"Topic7\", \"Topic7\", \"Topic7\", \"Topic7\", \"Topic7\", \"Topic7\", \"Topic7\", \"Topic7\", \"Topic7\", \"Topic7\", \"Topic7\", \"Topic7\", \"Topic7\", \"Topic7\", \"Topic7\", \"Topic7\", \"Topic7\", \"Topic7\", \"Topic7\", \"Topic7\", \"Topic7\", \"Topic7\", \"Topic7\", \"Topic7\", \"Topic7\", \"Topic7\", \"Topic7\", \"Topic7\", \"Topic7\", \"Topic7\", \"Topic8\", \"Topic8\", \"Topic8\", \"Topic8\", \"Topic8\", \"Topic8\", \"Topic8\", \"Topic8\", \"Topic8\", \"Topic8\", \"Topic8\", \"Topic8\", \"Topic8\", \"Topic8\", \"Topic8\", \"Topic8\", \"Topic8\", \"Topic8\", \"Topic8\", \"Topic8\", \"Topic8\", \"Topic8\", \"Topic8\", \"Topic8\", \"Topic8\", \"Topic8\", \"Topic8\", \"Topic8\", \"Topic8\", \"Topic8\", \"Topic8\", \"Topic8\", \"Topic8\", \"Topic8\", \"Topic8\", \"Topic8\", \"Topic8\", \"Topic8\", \"Topic8\", \"Topic8\", \"Topic8\", \"Topic8\", \"Topic8\", \"Topic8\", \"Topic9\", \"Topic9\", \"Topic9\", \"Topic9\", \"Topic9\", \"Topic9\", \"Topic9\", \"Topic9\", \"Topic9\", \"Topic9\", \"Topic9\", \"Topic9\", \"Topic9\", \"Topic9\", \"Topic9\", \"Topic9\", \"Topic9\", \"Topic9\", \"Topic9\", \"Topic9\", \"Topic9\", \"Topic9\", \"Topic9\", \"Topic9\", \"Topic9\", \"Topic9\", \"Topic9\", \"Topic9\", \"Topic9\", \"Topic9\", \"Topic9\", \"Topic9\", \"Topic9\", \"Topic9\", \"Topic10\", \"Topic10\", \"Topic10\", \"Topic10\", \"Topic10\", \"Topic10\", \"Topic10\", \"Topic10\", \"Topic10\", \"Topic10\", \"Topic10\", \"Topic10\", \"Topic10\", \"Topic10\", \"Topic10\", \"Topic10\", \"Topic10\", \"Topic10\", \"Topic10\", \"Topic10\", \"Topic10\", \"Topic10\", \"Topic10\", \"Topic10\", \"Topic10\", \"Topic10\", \"Topic10\", \"Topic10\", \"Topic10\", \"Topic10\", \"Topic10\", \"Topic10\", \"Topic10\", \"Topic10\", \"Topic10\", \"Topic10\", \"Topic10\", \"Topic10\", \"Topic10\", \"Topic10\", \"Topic11\", \"Topic11\", \"Topic11\", \"Topic11\", \"Topic11\", \"Topic11\", \"Topic11\", \"Topic11\", \"Topic11\", \"Topic11\", \"Topic11\", \"Topic11\", \"Topic11\", \"Topic11\", \"Topic11\", \"Topic11\", \"Topic11\", \"Topic11\", \"Topic11\", \"Topic11\", \"Topic11\", \"Topic11\", \"Topic11\", \"Topic11\", \"Topic11\", \"Topic11\", \"Topic11\", \"Topic11\", \"Topic11\", \"Topic11\", \"Topic11\", \"Topic11\", \"Topic11\", \"Topic11\", \"Topic11\", \"Topic11\", \"Topic11\", \"Topic12\", \"Topic12\", \"Topic12\", \"Topic12\", \"Topic12\", \"Topic12\", \"Topic12\", \"Topic12\", \"Topic12\", \"Topic12\", \"Topic12\", \"Topic12\", \"Topic12\", \"Topic12\", \"Topic12\", \"Topic12\", \"Topic12\", \"Topic12\", \"Topic12\", \"Topic12\", \"Topic12\", \"Topic12\", \"Topic12\", \"Topic12\", \"Topic12\", \"Topic12\", \"Topic12\", \"Topic12\", \"Topic12\", \"Topic12\", \"Topic12\", \"Topic12\", \"Topic12\", \"Topic13\", \"Topic13\", \"Topic13\", \"Topic13\", \"Topic13\", \"Topic13\", \"Topic13\", \"Topic13\", \"Topic13\", \"Topic13\", \"Topic13\", \"Topic13\", \"Topic13\", \"Topic13\", \"Topic13\", \"Topic13\", \"Topic13\", \"Topic13\", \"Topic13\", \"Topic13\", \"Topic13\", \"Topic13\", \"Topic13\", \"Topic13\", \"Topic13\", \"Topic13\", \"Topic13\", \"Topic13\", \"Topic13\", \"Topic13\", \"Topic13\", \"Topic13\", \"Topic13\", \"Topic14\", \"Topic14\", \"Topic14\", \"Topic14\", \"Topic14\", \"Topic14\", \"Topic14\", \"Topic14\", \"Topic14\", \"Topic14\", \"Topic14\", \"Topic14\", \"Topic14\", \"Topic14\", \"Topic14\", \"Topic14\", \"Topic14\", \"Topic14\", \"Topic14\", \"Topic14\", \"Topic14\", \"Topic14\", \"Topic14\", \"Topic14\", \"Topic14\", \"Topic14\", \"Topic14\", \"Topic14\", \"Topic14\", \"Topic14\", \"Topic14\", \"Topic14\", \"Topic14\", \"Topic15\", \"Topic15\", \"Topic15\", \"Topic15\", \"Topic15\", \"Topic15\", \"Topic15\", \"Topic15\", \"Topic15\", \"Topic15\", \"Topic15\", \"Topic15\", \"Topic15\", \"Topic15\", \"Topic15\", \"Topic15\", \"Topic15\", \"Topic15\", \"Topic15\", \"Topic15\", \"Topic15\", \"Topic15\", \"Topic15\", \"Topic15\", \"Topic15\", \"Topic15\", \"Topic15\", \"Topic15\", \"Topic15\", \"Topic15\", \"Topic16\", \"Topic16\", \"Topic16\", \"Topic16\", \"Topic16\", \"Topic16\", \"Topic16\", \"Topic16\", \"Topic16\", \"Topic16\", \"Topic16\", \"Topic16\", \"Topic16\", \"Topic16\", \"Topic16\", \"Topic16\", \"Topic16\", \"Topic16\", \"Topic16\", \"Topic16\", \"Topic16\", \"Topic16\", \"Topic16\", \"Topic16\", \"Topic16\", \"Topic16\", \"Topic16\", \"Topic16\", \"Topic16\", \"Topic16\", \"Topic16\", \"Topic16\", \"Topic16\", \"Topic16\", \"Topic16\", \"Topic16\", \"Topic17\", \"Topic17\", \"Topic17\", \"Topic17\", \"Topic17\", \"Topic17\", \"Topic17\", \"Topic17\", \"Topic17\", \"Topic17\", \"Topic17\", \"Topic17\", \"Topic17\", \"Topic17\", \"Topic17\", \"Topic17\", \"Topic17\", \"Topic17\", \"Topic17\", \"Topic17\", \"Topic17\", \"Topic17\", \"Topic17\", \"Topic17\", \"Topic17\", \"Topic17\", \"Topic17\", \"Topic17\", \"Topic17\", \"Topic17\", \"Topic17\", \"Topic18\", \"Topic18\", \"Topic18\", \"Topic18\", \"Topic18\", \"Topic18\", \"Topic18\", \"Topic18\", \"Topic18\", \"Topic18\", \"Topic18\", \"Topic18\", \"Topic18\", \"Topic18\", \"Topic18\", \"Topic18\", \"Topic18\", \"Topic18\", \"Topic18\", \"Topic18\", \"Topic18\", \"Topic18\", \"Topic18\", \"Topic18\", \"Topic18\", \"Topic18\", \"Topic18\", \"Topic18\", \"Topic18\", \"Topic18\", \"Topic18\", \"Topic19\", \"Topic19\", \"Topic19\", \"Topic19\", \"Topic19\", \"Topic19\", \"Topic19\", \"Topic19\", \"Topic19\", \"Topic19\", \"Topic19\", \"Topic19\", \"Topic19\", \"Topic19\", \"Topic19\", \"Topic19\", \"Topic19\", \"Topic19\", \"Topic19\", \"Topic19\", \"Topic19\", \"Topic19\", \"Topic19\", \"Topic19\", \"Topic19\", \"Topic19\", \"Topic19\", \"Topic19\", \"Topic19\", \"Topic19\", \"Topic19\", \"Topic19\", \"Topic19\", \"Topic19\", \"Topic19\", \"Topic20\", \"Topic20\", \"Topic20\", \"Topic20\", \"Topic20\", \"Topic20\", \"Topic20\", \"Topic20\", \"Topic20\", \"Topic20\", \"Topic20\", \"Topic20\", \"Topic20\", \"Topic20\", \"Topic20\", \"Topic20\", \"Topic20\", \"Topic20\", \"Topic20\", \"Topic20\", \"Topic20\", \"Topic20\", \"Topic20\", \"Topic20\", \"Topic20\", \"Topic20\", \"Topic20\", \"Topic20\", \"Topic20\", \"Topic20\", \"Topic20\", \"Topic20\", \"Topic20\", \"Topic20\", \"Topic20\", \"Topic20\", \"Topic20\", \"Topic20\", \"Topic20\", \"Topic20\", \"Topic20\", \"Topic20\", \"Topic20\", \"Topic20\", \"Topic20\"], \"logprob\": [30.0, 29.0, 28.0, 27.0, 26.0, 25.0, 24.0, 23.0, 22.0, 21.0, 20.0, 19.0, 18.0, 17.0, 16.0, 15.0, 14.0, 13.0, 12.0, 11.0, 10.0, 9.0, 8.0, 7.0, 6.0, 5.0, 4.0, 3.0, 2.0, 1.0, -3.137200117111206, -3.3208000659942627, -3.561000108718872, -3.9976000785827637, -4.165299892425537, -4.239500045776367, -4.571700096130371, -4.835899829864502, -4.899199962615967, -5.046800136566162, -5.194499969482422, -5.413899898529053, -5.4359002113342285, -5.527900218963623, -5.70550012588501, -5.71560001373291, -5.836299896240234, -5.842700004577637, -5.911099910736084, -5.947400093078613, -5.981400012969971, -6.233500003814697, -6.3221001625061035, -6.405900001525879, -6.505499839782715, -6.535099983215332, -6.546299934387207, -6.560100078582764, -6.5767998695373535, -6.605999946594238, -4.95359992980957, -4.453199863433838, -3.5143001079559326, -5.30049991607666, -3.707900047302246, -3.571000099182129, -4.038400173187256, -5.120200157165527, -4.3495001792907715, -2.617799997329712, -3.643399953842163, -2.6912999153137207, -4.253399848937988, -4.222099781036377, -4.26039981842041, -5.16540002822876, -3.49429988861084, -3.6145999431610107, -4.123300075531006, -4.13539981842041, -4.129700183868408, -4.091100215911865, -4.553999900817871, -4.240200042724609, -4.301000118255615, -4.617199897766113, -4.627999782562256, -4.44320011138916, -4.551400184631348, -3.275099992752075, -3.956399917602539, -3.9795000553131104, -4.472700119018555, -4.6519999504089355, -4.747700214385986, -5.021599769592285, -5.567399978637695, -5.766300201416016, -5.821499824523926, -5.9618000984191895, -6.265100002288818, -6.421199798583984, -6.510000228881836, -6.626999855041504, -6.832200050354004, -7.515900135040283, -7.839900016784668, -8.220199584960938, -8.264599800109863, -8.533699989318848, -9.055100440979004, -9.205100059509277, -4.988699913024902, -6.400599956512451, -4.337900161743164, -3.5855000019073486, -3.356800079345703, -5.484799861907959, -4.02839994430542, -3.6022000312805176, -4.080999851226807, -3.06469988822937, -3.2214999198913574, -3.187000036239624, -4.03249979019165, -3.287400007247925, -4.161300182342529, -3.734600067138672, -4.825300216674805, -4.033899784088135, -2.8963000774383545, -4.623899936676025, -4.355800151824951, -3.0627999305725098, -4.226900100708008, -2.8345999717712402, -4.364799976348877, -3.3501999378204346, -4.047100067138672, -3.349100112915039, -4.055300235748291, -4.121799945831299, -3.7112998962402344, -4.25029993057251, -4.0467000007629395, -4.073800086975098, -4.247700214385986, -4.364999771118164, -4.450399875640869, -4.484799861907959, -4.509300231933594, -4.574100017547607, -4.582499980926514, -4.622700214385986, -4.727200031280518, -4.734000205993652, -4.75, -4.758600234985352, -4.771500110626221, -4.790800094604492, -4.836299896240234, -4.911600112915039, -4.922599792480469, -4.92549991607666, -4.941999912261963, -4.962699890136719, -4.9899001121521, -5.026700019836426, -5.031400203704834, -5.034999847412109, -5.035399913787842, -5.0416998863220215, -5.0507001876831055, -5.063799858093262, -4.041500091552734, -3.7232000827789307, -4.164899826049805, -3.0520999431610107, -4.013800144195557, -4.34089994430542, -3.637700080871582, -4.231800079345703, -4.133200168609619, -3.0957000255584717, -4.19290018081665, -4.026000022888184, -4.09630012512207, -4.107800006866455, -4.386300086975098, -3.572200059890747, -4.2677001953125, -4.3831000328063965, -4.463200092315674, -4.109600067138672, -4.172699928283691, -4.313300132751465, -4.411900043487549, -3.2709999084472656, -4.6971001625061035, -4.976900100708008, -5.107500076293945, -5.515900135040283, -5.6539998054504395, -5.826399803161621, -6.00600004196167, -6.092400074005127, -6.249199867248535, -6.262800216674805, -6.297399997711182, -6.752799987792969, -6.818600177764893, -6.938899993896484, -7.4994001388549805, -7.609799861907959, -8.278599739074707, -8.381400108337402, -9.341899871826172, -10.230999946594238, -2.5085999965667725, -3.7060999870300293, -3.841599941253662, -2.933300018310547, -4.396699905395508, -4.159599781036377, -4.264699935913086, -4.9303998947143555, -2.9876999855041504, -4.148099899291992, -3.7790000438690186, -2.569700002670288, -2.262500047683716, -4.009799957275391, -2.445499897003174, -2.9358999729156494, -4.569799900054932, -2.7922000885009766, -4.196100234985352, -3.4096999168395996, -3.5176000595092773, -3.8701000213623047, -4.072199821472168, -4.203000068664551, -4.744100093841553, -4.759699821472168, -4.73390007019043, -2.714600086212158, -3.2671000957489014, -3.2769999504089355, -3.5114998817443848, -3.63319993019104, -3.6921000480651855, -3.7788000106811523, -3.786900043487549, -4.0817999839782715, -4.0883002281188965, -4.26200008392334, -4.27839994430542, -4.411399841308594, -4.5258002281188965, -4.714799880981445, -4.80679988861084, -4.916399955749512, -4.966100215911865, -5.017399787902832, -5.041200160980225, -5.102799892425537, -5.109300136566162, -5.132500171661377, -5.191800117492676, -5.257400035858154, -5.360199928283691, -5.402200222015381, -5.484399795532227, -5.6757001876831055, -5.774799823760986, -3.4159998893737793, -4.2245001792907715, -3.935800075531006, -4.891300201416016, -3.300600051879883, -3.3364999294281006, -2.8759000301361084, -4.008399963378906, -4.365099906921387, -4.236599922180176, -4.32450008392334, -3.8085999488830566, -3.7990000247955322, -3.88319993019104, -3.987299919128418, -4.302599906921387, -4.245800018310547, -4.103099822998047, -4.190299987792969, -4.358099937438965, -3.2221999168395996, -4.433199882507324, -4.623000144958496, -4.701000213623047, -4.882999897003174, -4.911600112915039, -5.065800189971924, -5.255799770355225, -5.339300155639648, -5.667099952697754, -5.8734002113342285, -6.511600017547607, -7.28980016708374, -8.286199569702148, -1.5774999856948853, -2.220599889755249, -2.4807000160217285, -4.215799808502197, -4.311399936676025, -2.114500045776367, -5.393400192260742, -3.3375000953674316, -3.9565999507904053, -4.337100028991699, -3.975399971008301, -2.1338000297546387, -5.259799957275391, -3.0748000144958496, -8.463800430297852, -2.8471999168395996, -4.947199821472168, -5.209499835968018, -5.229400157928467, -1.9448000192642212, -2.1033999919891357, -2.4509999752044678, -2.893199920654297, -3.1298999786376953, -3.1656999588012695, -3.476300001144409, -3.5627999305725098, -3.669800043106079, -3.989300012588501, -4.072199821472168, -4.384200096130371, -4.4359002113342285, -4.459099769592285, -4.471399784088135, -4.481500148773193, -4.589200019836426, -4.782100200653076, -4.906099796295166, -4.974699974060059, -4.988699913024902, -5.009099960327148, -5.074699878692627, -5.0954999923706055, -5.1184000968933105, -5.130199909210205, -5.160799980163574, -5.210700035095215, -5.396699905395508, -5.543499946594238, -2.6942999362945557, -3.087599992752075, -3.8517000675201416, -5.029099941253662, -2.56469988822937, -3.012500047683716, -3.133500099182129, -3.3503000736236572, -3.489300012588501, -3.6319000720977783, -3.778899908065796, -3.7869999408721924, -3.837100028991699, -3.850600004196167, -3.867300033569336, -4.204999923706055, -4.319900035858154, -4.401299953460693, -4.451300144195557, -4.6305999755859375, -4.713900089263916, -4.732399940490723, -4.813199996948242, -4.826499938964844, -5.084000110626221, -5.248600006103516, -5.365699768066406, -5.429900169372559, -5.466899871826172, -5.5441999435424805, -5.552000045776367, -5.592400074005127, -5.684199810028076, -5.755000114440918, -3.0969998836517334, -4.135300159454346, -2.990299940109253, -3.214900016784668, -4.3927001953125, -3.95169997215271, -2.9035000801086426, -2.9762001037597656, -3.4159998893737793, -3.308000087738037, -4.4430999755859375, -4.077700138092041, -4.470900058746338, -4.6545000076293945, -1.8396999835968018, -2.527600049972534, -2.8678998947143555, -2.9184000492095947, -2.9621999263763428, -3.3661999702453613, -3.510699987411499, -3.510999917984009, -3.6066999435424805, -3.6874001026153564, -3.9623000621795654, -3.9899001121520996, -4.0665998458862305, -4.28849983215332, -4.304599761962891, -4.316400051116943, -4.321499824523926, -4.364500045776367, -4.471399784088135, -4.521599769592285, -4.6269001960754395, -4.806300163269043, -4.806700229644775, -5.00540018081665, -5.009699821472168, -5.12939977645874, -5.159800052642822, -5.231500148773193, -5.2378997802734375, -5.240699768066406, -2.3638999462127686, -3.4693000316619873, -3.4486000537872314, -4.561100006103516, -2.705899953842163, -3.595900058746338, -4.702199935913086, -5.699100017547607, -0.8664000034332275, -1.8729000091552734, -3.4486000537872314, -1.851099967956543, -2.2320001125335693, -4.716000080108643, -5.421299934387207, -5.513999938964844, -16.39259910583496, -16.392799377441406, -16.39299964904785, -16.393400192260742, -16.393299102783203, -16.393400192260742, -16.393400192260742, -16.39349937438965, -16.393400192260742, -16.393400192260742, -16.39349937438965, -16.39349937438965, -16.393600463867188, -16.39349937438965, -16.39349937438965, -16.39349937438965, -16.39349937438965, -16.393600463867188, -16.39349937438965, -8.406900405883789, -16.39349937438965, -16.39349937438965, -16.393400192260742, -16.39349937438965, -16.39349937438965, -16.39349937438965, -16.39349937438965, -16.39349937438965, -2.7976999282836914, -2.8457999229431152, -2.8791000843048096, -2.888700008392334, -3.251699924468994, -3.314199924468994, -3.41129994392395, -3.4249000549316406, -3.6512999534606934, -3.7664999961853027, -3.7904000282287598, -3.8649001121520996, -3.934799909591675, -4.0725998878479, -4.077700138092041, -4.201399803161621, -4.295400142669678, -4.378399848937988, -4.396599769592285, -4.401599884033203, -4.440000057220459, -4.487800121307373, -4.566500186920166, -4.7434000968933105, -4.8078999519348145, -4.809599876403809, -4.840700149536133, -4.840799808502197, -4.953800201416016, -4.980000019073486, -3.031599998474121, -2.934000015258789, -2.401099920272827, -3.8879001140594482, -3.4811999797821045, -4.226399898529053, -4.452600002288818, -2.088900089263916, -2.446199893951416, -3.0327999591827393, -3.0978000164031982, -3.1451001167297363, -3.2653000354766846, -3.6586999893188477, -3.682800054550171, -3.881700038909912, -3.9430999755859375, -4.060699939727783, -4.17579984664917, -4.333899974822998, -4.526700019836426, -4.558300018310547, -4.848899841308594, -5.017099857330322, -5.348100185394287, -5.366700172424316, -5.647500038146973, -6.640999794006348, -8.162799835205078, -1.613800048828125, -2.585200071334839, -3.020699977874756, -2.4058001041412354, -15.403499603271484, -15.40369987487793, -15.40369987487793, -15.40369987487793, -15.403599739074707, -15.403599739074707, -15.403599739074707, -2.97760009765625, -3.2058000564575195, -3.268699884414673, -3.4328999519348145, -3.5065999031066895, -3.7032999992370605, -3.81820011138916, -3.840100049972534, -3.8901000022888184, -4.027900218963623, -4.183599948883057, -4.365300178527832, -4.464200019836426, -4.583700180053711, -4.872799873352051, -4.921599864959717, -4.9293999671936035, -5.179900169372559, -5.258999824523926, -5.287399768829346, -5.314700126647949, -5.319699764251709, -5.369900226593018, -5.604800224304199, -5.807799816131592, -5.915200233459473, -6.024899959564209, -6.1118998527526855, -6.2403998374938965, -6.245299816131592, -0.6604999899864197, -3.643399953842163, -5.508200168609619, -1.6016000509262085, -1.794800043106079, -1.857300043106079, -2.2901999950408936, -2.5601999759674072, -2.8524999618530273, -3.024399995803833, -3.203700065612793, -3.5297999382019043, -3.8176000118255615, -3.9202001094818115, -3.934299945831299, -4.229800224304199, -4.382699966430664, -4.705399990081787, -5.8902997970581055, -6.7515997886657715, -6.932400226593018, -7.591599941253662, -7.795000076293945, -7.925600051879883, -7.953000068664551, -8.350000381469727, -8.487799644470215, -8.805399894714355, -6.1219000816345215, -15.39900016784668, -15.399800300598145, -15.399800300598145, -15.399800300598145, -15.3996000289917, -15.3996000289917, -15.399700164794922, -1.0679999589920044, -2.0968000888824463, -2.2490999698638916, -2.6312999725341797, -2.894700050354004, -3.11680006980896, -3.1642000675201416, -3.2054998874664307, -3.2416000366210938, -3.8203001022338867, -3.9063000679016113, -3.9068000316619873, -4.323299884796143, -4.837500095367432, -5.029099941253662, -5.2220001220703125, -5.464300155639648, -5.584700107574463, -5.968800067901611, -6.867499828338623, -7.726500034332275, -8.680700302124023, -8.906100273132324, -9.42710018157959, -9.539299964904785, -10.177200317382812, -10.453100204467773, -10.686599731445312, -10.839599609375, -11.306500434875488, -0.9154000282287598, -2.383699893951416, -2.5910000801086426, -2.9114999771118164, -3.367000102996826, -4.937300205230713, -6.062900066375732, -6.74970006942749, -6.879799842834473, -7.313600063323975, -1.9329999685287476, -1.9769999980926514, -4.081399917602539, -3.9983999729156494, -15.532099723815918, -15.532400131225586, -15.532699584960938, -15.532600402832031, -15.532699584960938, -15.53279972076416, -15.532600402832031, -15.53279972076416, -15.53279972076416, -15.532899856567383, -15.53279972076416, -15.53279972076416, -15.53279972076416, -15.532600402832031, -15.53279972076416, -15.53279972076416, -15.53279972076416, -15.53279972076416, -15.53279972076416, -15.53279972076416, -15.53279972076416, -15.53279972076416, -1.7263000011444092, -2.1112000942230225, -2.1535000801086426, -2.398200035095215, -2.6989998817443848, -2.996299982070923, -3.216900110244751, -3.3633999824523926, -3.457900047302246, -3.4751999378204346, -3.585700035095215, -3.9210000038146973, -3.961699962615967, -4.150700092315674, -4.362400054931641, -4.392399787902832, -4.578199863433838, -4.618000030517578, -4.642199993133545, -4.690400123596191, -4.7565999031066895, -5.382199764251709, -5.9903998374938965, -6.0177001953125, -6.1828999519348145, -6.272299766540527, -6.34689998626709, -6.7322998046875, -6.733699798583984, -6.750500202178955, -3.6119000911712646, -1.6294000148773193, -1.6507999897003174, -1.9884999990463257, -3.160099983215332, -3.251699924468994, -3.25570011138916, -3.5689001083374023, -3.572700023651123, -3.5978000164031982, -3.851799964904785, -4.002099990844727, -4.17080020904541, -4.279200077056885, -4.335299968719482, -4.385000228881836, -4.38640022277832, -4.4618000984191895, -4.640600204467773, -4.6855998039245605, -5.163700103759766, -5.285600185394287, -5.35890007019043, -5.450900077819824, -5.560400009155273, -5.667600154876709, -6.070400238037109, -6.176499843597412, -6.618899822235107, -2.6496999263763428, -14.84000015258789, -5.2052001953125, -1.2207000255584717, -1.649899959564209, -2.469899892807007, -2.985300064086914, -3.0183000564575195, -3.027600049972534, -3.0601999759674072, -3.1570000648498535, -3.2321999073028564, -3.5018999576568604, -4.131400108337402, -4.396999835968018, -4.458399772644043, -4.576300144195557, -5.088600158691406, -5.474400043487549, -5.907800197601318, -6.17549991607666, -6.544300079345703, -7.750500202178955, -3.577899932861328, -14.81719970703125, -14.817000389099121, -14.817099571228027, -14.81719970703125, -14.816900253295898, -14.81719970703125, -14.817000389099121, -14.81719970703125, -14.81719970703125, -14.81719970703125, -14.81719970703125, -14.81719970703125, -14.81719970703125, -14.81719970703125, -0.829800009727478, -1.2589000463485718, -2.612499952316284, -3.06469988822937, -3.691200017929077, -3.9964001178741455, -4.527900218963623, -5.0594000816345215, -5.096700191497803, -6.111599922180176, -6.245200157165527, -6.565199851989746, -7.290599822998047, -13.616600036621094, -13.617300033569336, -13.616900444030762, -13.617300033569336, -13.617300033569336, -13.617300033569336, -13.617300033569336, -13.617199897766113, -13.617300033569336, -13.617300033569336, -13.617300033569336, -13.617400169372559, -13.617300033569336, -13.617300033569336, -13.617300033569336, -13.617300033569336, -13.617199897766113, -13.617300033569336, -13.617300033569336, -13.617199897766113, -13.617300033569336, -13.617199897766113, -13.617199897766113, -13.617199897766113, -13.617300033569336, -13.617199897766113, -13.617199897766113, -13.617300033569336, -13.617199897766113, -13.616999626159668, -13.617199897766113, -13.617300033569336], \"loglift\": [30.0, 29.0, 28.0, 27.0, 26.0, 25.0, 24.0, 23.0, 22.0, 21.0, 20.0, 19.0, 18.0, 17.0, 16.0, 15.0, 14.0, 13.0, 12.0, 11.0, 10.0, 9.0, 8.0, 7.0, 6.0, 5.0, 4.0, 3.0, 2.0, 1.0, 1.8886, 1.8886, 1.8886, 1.8886, 1.8886, 1.8886, 1.8885, 1.8885, 1.8885, 1.8885, 1.8884, 1.8884, 1.8884, 1.8884, 1.8883, 1.8883, 1.8883, 1.8883, 1.8882, 1.8882, 1.8882, 1.8881, 1.888, 1.888, 1.8879, 1.8879, 1.8879, 1.8879, 1.8879, 1.8878, 1.8814, 1.7773, 1.7215, 1.7688, 1.5973, 1.5784, 1.5028, 1.6392, 1.4237, 0.8296, 1.1008, 0.6451, 1.1955, 1.0731, 1.0762, 1.5516, 0.3444, 0.404, 0.7751, 0.7217, 0.669, 0.6194, 0.9912, 0.4206, 0.3335, 0.9142, 0.7506, -0.3167, -0.2061, 1.8927, 1.8927, 1.8927, 1.8926, 1.8926, 1.8926, 1.8925, 1.8924, 1.8924, 1.8924, 1.8923, 1.8922, 1.8921, 1.892, 1.8919, 1.8917, 1.8908, 1.89, 1.8888, 1.8886, 1.8873, 1.8836, 1.8822, 1.8146, 1.7925, 1.7777, 1.7314, 1.7207, 1.7117, 1.7096, 1.7047, 1.6829, 1.6336, 1.6259, 1.6138, 1.6377, 1.5689, 1.6274, 1.5465, 1.6392, 1.4591, 1.2302, 1.526, 1.4351, 1.1117, 1.3498, 0.7087, 1.3051, 0.4884, 0.9605, -0.0128, 0.6551, 0.6769, -0.2639, 0.5624, 2.1578, 2.1578, 2.1577, 2.1577, 2.1577, 2.1577, 2.1577, 2.1577, 2.1577, 2.1577, 2.1577, 2.1577, 2.1577, 2.1577, 2.1577, 2.1577, 2.1577, 2.1576, 2.1576, 2.1576, 2.1576, 2.1576, 2.1576, 2.1576, 2.1576, 2.1576, 2.1576, 2.1576, 2.1576, 2.1576, 2.0929, 2.041, 2.0632, 1.9098, 2.0165, 2.0584, 1.9314, 2.0004, 1.9621, 1.5259, 1.8972, 1.7729, 1.4884, 1.4283, 1.6766, 0.5543, 1.3312, 1.4993, 1.5891, 0.6009, 0.4881, 0.8361, -0.1036, 2.3631, 2.363, 2.3629, 2.3629, 2.3628, 2.3627, 2.3626, 2.3625, 2.3624, 2.3623, 2.3623, 2.3623, 2.3617, 2.3616, 2.3614, 2.3601, 2.3597, 2.3564, 2.3556, 2.3435, 2.316, 2.126, 2.0191, 1.98, 1.9651, 1.9331, 1.8931, 1.8012, 1.7643, 1.7565, 1.7482, 1.6699, 1.4489, 1.1849, 1.5216, 0.8908, 0.9027, 1.485, 0.751, 1.2973, 0.7648, 0.6089, 0.8403, 0.9354, 0.5957, 0.4917, 0.0967, -0.0732, 2.4903, 2.4903, 2.4903, 2.4903, 2.4903, 2.4903, 2.4903, 2.4903, 2.4902, 2.4902, 2.4902, 2.4902, 2.4902, 2.4902, 2.4901, 2.4901, 2.4901, 2.4901, 2.4901, 2.49, 2.49, 2.49, 2.49, 2.49, 2.49, 2.4899, 2.4899, 2.4899, 2.4898, 2.4897, 2.4412, 2.3689, 2.3066, 2.4205, 2.0779, 2.0807, 1.7848, 1.9737, 2.0414, 1.7737, 1.8293, 1.0387, 0.8993, 0.9176, 0.9746, 1.4883, 1.3309, 0.9045, 1.1149, 1.4434, 2.8991, 2.899, 2.8989, 2.8989, 2.8988, 2.8988, 2.8987, 2.8986, 2.8986, 2.8983, 2.8982, 2.8972, 2.8949, 2.8875, 2.7678, 2.5921, 2.1408, 2.1064, 1.7514, 1.7242, 1.5489, 1.4612, 1.3469, 1.2618, 1.2039, 1.2026, 0.9724, 0.9437, 0.6553, 0.6003, 0.5941, 0.5792, 0.5439, 3.1975, 3.1975, 3.1975, 3.1975, 3.1974, 3.1974, 3.1974, 3.1974, 3.1974, 3.1974, 3.1973, 3.1973, 3.1973, 3.1973, 3.1973, 3.1972, 3.1972, 3.1972, 3.1971, 3.1971, 3.1971, 3.1971, 3.197, 3.197, 3.197, 3.197, 3.197, 3.197, 3.1969, 3.1968, 2.7464, 2.7071, 2.3511, 0.5548, 3.2907, 3.2906, 3.2906, 3.2906, 3.2906, 3.2906, 3.2905, 3.2905, 3.2905, 3.2905, 3.2905, 3.2904, 3.2904, 3.2904, 3.2904, 3.2903, 3.2902, 3.2902, 3.2902, 3.2902, 3.29, 3.2899, 3.2898, 3.2897, 3.2897, 3.2896, 3.2896, 3.2896, 3.2895, 3.2894, 3.164, 3.1381, 3.023, 3.0083, 3.0925, 2.9905, 2.6326, 2.3273, 2.5018, 2.291, 2.6951, 0.9998, 1.0225, 2.1424, 3.2938, 3.2938, 3.2938, 3.2938, 3.2938, 3.2937, 3.2937, 3.2937, 3.2937, 3.2937, 3.2936, 3.2936, 3.2936, 3.2936, 3.2935, 3.2935, 3.2935, 3.2935, 3.2935, 3.2935, 3.2934, 3.2934, 3.2934, 3.2932, 3.2932, 3.2932, 3.2931, 3.2931, 3.2931, 3.2931, 3.22, 2.7335, 2.3461, 1.0155, 3.381, 3.3809, 3.3805, 3.3796, 2.6768, 2.3017, 1.559, 1.4852, 1.2154, 1.0572, 0.6415, 0.3432, -0.789, -0.7893, -0.7894, -0.7896, -0.7896, -0.7896, -0.7896, -0.7897, -0.7897, -0.7897, -0.7897, -0.7897, -0.7897, -0.7897, -0.7897, -0.7897, -0.7897, -0.7897, -0.7897, -1.5719, -0.7897, -0.7897, -0.7898, -0.7898, -0.7897, -0.7898, -0.7897, -0.7897, 3.399, 3.399, 3.399, 3.399, 3.399, 3.399, 3.399, 3.3989, 3.3989, 3.3989, 3.3989, 3.3989, 3.3989, 3.3988, 3.3988, 3.3988, 3.3987, 3.3987, 3.3987, 3.3987, 3.3987, 3.3987, 3.3986, 3.3985, 3.3985, 3.3985, 3.3985, 3.3985, 3.3984, 3.3984, 3.2653, 2.9726, 2.7782, 2.9792, 2.6726, 1.9967, 0.9881, 3.6162, 3.6162, 3.6161, 3.6161, 3.6161, 3.6161, 3.616, 3.616, 3.616, 3.6159, 3.6159, 3.6159, 3.6158, 3.6157, 3.6157, 3.6155, 3.6153, 3.615, 3.615, 3.6145, 3.6117, 3.5954, 3.2433, 3.1563, 2.564, 1.6127, 0.2001, 0.2001, 0.2, 0.2, 0.2, 0.2, 0.2, 3.7578, 3.7578, 3.7578, 3.7578, 3.7577, 3.7577, 3.7577, 3.7577, 3.7576, 3.7576, 3.7575, 3.7574, 3.7574, 3.7573, 3.7571, 3.757, 3.757, 3.7568, 3.7567, 3.7566, 3.7566, 3.7566, 3.7565, 3.7561, 3.7557, 3.7555, 3.7552, 3.7549, 3.7545, 3.7545, 3.6479, 3.2623, 1.5834, 3.89, 3.89, 3.89, 3.89, 3.89, 3.8899, 3.8899, 3.8899, 3.8898, 3.8897, 3.8897, 3.8897, 3.8895, 3.8894, 3.8892, 3.8872, 3.8833, 3.8819, 3.8744, 3.8709, 3.8682, 3.8676, 3.8569, 3.8521, 3.8382, 1.1899, 0.2046, 0.204, 0.204, 0.204, 0.2039, 0.2039, 0.204, 3.9185, 3.9184, 3.9184, 3.9184, 3.9183, 3.9183, 3.9183, 3.9183, 3.9183, 3.9181, 3.9181, 3.9181, 3.9179, 3.9175, 3.9173, 3.917, 3.9166, 3.9163, 3.9153, 3.9108, 3.9004, 3.8722, 3.8608, 3.8233, 3.8125, 3.7266, 3.6726, 3.6169, 3.5747, 3.4151, 3.9462, 3.9462, 3.9461, 3.9461, 3.946, 3.9451, 3.9426, 3.939, 3.9381, 3.9336, 3.3621, 3.3596, 2.1611, 1.0791, 0.0714, 0.0713, 0.0711, 0.0711, 0.0711, 0.071, 0.071, 0.071, 0.071, 0.071, 0.071, 0.071, 0.071, 0.071, 0.071, 0.071, 0.071, 0.071, 0.071, 0.071, 0.0709, 0.0709, 3.9783, 3.9783, 3.9783, 3.9783, 3.9782, 3.9782, 3.9782, 3.9781, 3.9781, 3.9781, 3.9781, 3.9779, 3.9779, 3.9778, 3.9777, 3.9777, 3.9775, 3.9775, 3.9775, 3.9775, 3.9774, 3.9765, 3.975, 3.9749, 3.9743, 3.9739, 3.9736, 3.9713, 3.9713, 3.9712, 3.1719, 4.0471, 4.0471, 4.0471, 4.047, 4.0469, 4.0469, 4.0468, 4.0468, 4.0468, 4.0467, 4.0467, 4.0466, 4.0465, 4.0465, 4.0464, 4.0464, 4.0464, 4.0462, 4.0462, 4.0456, 4.0454, 4.0452, 4.045, 4.0448, 4.0445, 4.0432, 4.0427, 4.0403, 1.3688, 0.7638, 0.34, 4.2676, 4.2676, 4.2675, 4.2674, 4.2674, 4.2674, 4.2674, 4.2674, 4.2674, 4.2673, 4.2669, 4.2667, 4.2667, 4.2665, 4.2658, 4.2649, 4.2634, 4.2621, 4.2597, 4.2411, 3.3278, 0.7867, 0.7866, 0.7866, 0.7866, 0.7866, 0.7866, 0.7866, 0.7866, 0.7866, 0.7866, 0.7866, 0.7866, 0.7866, 0.7865, 4.8609, 4.8609, 4.8607, 4.8605, 4.8601, 4.8598, 4.859, 4.8577, 4.8576, 4.8518, 4.8505, 4.8466, 4.8315, 1.9872, 1.9866, 1.9866, 1.9865, 1.9865, 1.9865, 1.9865, 1.9865, 1.9865, 1.9865, 1.9865, 1.9865, 1.9865, 1.9865, 1.9865, 1.9865, 1.9865, 1.9865, 1.9865, 1.9865, 1.9865, 1.9865, 1.9864, 1.9865, 1.9865, 1.9864, 1.9864, 1.9865, 1.9863, 1.9858, 1.9863, 1.9864]}, \"token.table\": {\"Topic\": [3, 7, 5, 7, 8, 11, 7, 2, 7, 8, 7, 19, 1, 3, 4, 7, 7, 11, 7, 17, 7, 14, 7, 19, 2, 7, 2, 7, 3, 6, 7, 7, 18, 5, 7, 7, 17, 7, 6, 7, 7, 7, 14, 3, 7, 7, 15, 5, 7, 7, 12, 7, 15, 7, 9, 1, 4, 7, 7, 19, 7, 13, 7, 9, 7, 13, 4, 5, 7, 7, 16, 5, 7, 7, 16, 7, 18, 1, 2, 3, 4, 7, 7, 7, 12, 1, 3, 6, 7, 8, 7, 12, 1, 7, 11, 7, 15, 5, 7, 16, 7, 8, 4, 7, 7, 7, 12, 1, 5, 7, 2, 5, 7, 7, 8, 7, 1, 3, 5, 7, 7, 18, 7, 20, 7, 14, 7, 4, 7, 7, 17, 7, 7, 13, 2, 7, 7, 14, 3, 6, 7, 8, 1, 7, 16, 7, 1, 2, 6, 7, 11, 7, 8, 7, 8, 7, 15, 7, 9, 2, 4, 5, 7, 7, 11, 3, 7, 7, 9, 2, 5, 7, 3, 5, 7, 1, 7, 7, 17, 7, 16, 7, 19, 2, 7, 3, 7, 7, 17, 1, 5, 7, 8, 2, 7, 7, 17, 7, 18, 7, 7, 3, 5, 7, 8, 2, 7, 7, 18, 7, 15, 2, 7, 1, 7, 7, 12, 5, 7, 14, 7, 15, 7, 17, 7, 9, 7, 18, 5, 7, 5, 7, 7, 11, 7, 13, 7, 15, 7, 4, 7, 7, 15, 3, 7, 13, 7, 8, 7, 7, 11, 1, 2, 7, 1, 2, 3, 4, 6, 7, 7, 7, 13, 2, 4, 5, 7, 7, 7, 13, 7, 16, 3, 7, 2, 7, 1, 5, 7, 7, 13, 1, 2, 4, 6, 7, 7, 11, 6, 7, 1, 7, 7, 10, 7, 16, 7, 18, 7, 12, 7, 9, 7, 8, 7, 7, 9, 1, 7, 7, 17, 7, 8, 7, 12, 7, 17, 2, 7, 8, 1, 2, 7, 7, 8, 7, 7, 7, 1, 7, 7, 18, 7, 20, 7, 15, 7, 7, 12, 7, 14, 5, 7, 1, 3, 7, 12, 7, 7, 19, 5, 7, 7, 7, 11, 7, 4, 7, 1, 4, 7, 7, 9, 7, 9, 7, 5, 7, 8, 5, 7, 7, 7, 8, 1, 3, 7, 7, 8, 7, 11, 7, 8, 2, 7, 4, 7, 7, 7, 18, 7, 8, 11, 7, 17, 7, 13, 4, 7, 3, 7, 7, 19, 1, 2, 4, 7, 7, 11, 7, 12, 5, 7, 7, 3, 7, 1, 7, 1, 2, 4, 7, 7, 14, 7, 8, 7, 17, 7, 13, 1, 3, 7, 8, 7, 9, 7, 20, 7, 13, 7, 9, 7, 9, 3, 7, 11, 17, 5, 7, 7, 7, 13, 7, 18, 1, 7, 7, 18, 1, 4, 6, 7, 10, 1, 2, 7, 3, 7, 3, 4, 7, 7, 1, 7, 7, 16, 7, 16, 3, 7, 7, 7, 10, 1, 7, 1, 7, 7, 13, 7, 20, 7, 16, 7, 15, 7, 8, 7, 11, 2, 7, 7, 12, 7, 13, 3, 7, 3, 7, 6, 7, 7, 18, 7, 8, 1, 4, 7, 1, 2, 4, 7, 7, 13, 7, 8, 1, 7, 7, 12, 2, 7, 1, 7, 10, 7, 4, 7, 7, 15, 7, 18, 1, 3, 7, 7, 7, 15, 7, 11, 1, 3, 7, 2, 6, 7, 1, 7, 7, 9, 7, 18, 2, 4, 7, 10, 7, 11, 3, 7, 5, 7, 3, 6, 7, 7, 20, 7, 17, 6, 7, 6, 7, 1, 7, 6, 7, 1, 7, 7, 11, 1, 7, 3, 7, 7, 12, 7, 17, 2, 4, 7, 7, 18, 7, 14, 7, 15, 3, 7, 8, 4, 7, 7, 13, 7, 18, 1, 7, 7, 11, 4, 7, 7, 11, 1, 2, 4, 6, 7, 12, 18, 7, 5, 7, 10, 3, 7, 6, 7, 3, 7, 1, 7, 7, 15, 7, 11, 7, 9, 7, 5, 7, 6, 7, 7, 11, 7, 7, 13, 1, 7, 7, 13, 2, 7, 4, 7, 7, 14, 5, 7, 7, 7, 3, 7, 6, 7, 1, 6, 7, 3, 7, 8, 3, 7, 2, 7, 7, 13, 7, 7, 15, 7, 20, 7, 18, 3, 7, 7, 8, 7, 1, 3, 7, 7, 3, 7, 7, 12, 4, 7, 7, 20, 1, 3, 7, 7, 7, 9, 7, 14, 1, 7, 1, 2, 3, 7, 1, 3, 7, 7, 13, 2, 7, 1, 2, 4, 7, 2, 4, 7, 10, 7, 14, 1, 3, 4, 6, 7, 7, 9, 1, 2, 3, 7, 1, 7, 16, 1, 2, 4, 7, 7, 7, 7, 13, 7, 12, 7, 14, 7, 14, 7, 18, 1, 7, 2, 5, 7, 9, 17, 7, 12, 1, 3, 5, 7, 13, 7, 20, 7, 7, 7, 17, 7, 14, 7, 13, 19, 7, 11, 5, 7, 5, 7, 2, 5, 7, 5, 7, 7, 7, 7, 9, 7, 17, 7, 4, 7, 3, 7, 7, 13, 7, 9, 7, 2, 7, 2, 7, 1, 7, 8, 7, 17, 6, 7, 1, 2, 3, 4, 7, 7, 19, 7, 19, 1, 2, 7, 2, 7, 5, 7, 7, 18, 1, 6, 7, 7, 11, 1, 2, 3, 7, 3, 7, 7, 12, 7, 13, 7, 15, 7, 7, 7, 19, 7, 13, 7, 7, 15, 1, 2, 5, 7, 18, 7, 19, 7, 17, 3, 7, 3, 7, 7, 14, 4, 7, 2, 7, 7, 7, 8, 7, 19, 1, 7, 11, 7, 19, 7, 9, 7, 12, 2, 5, 7, 5, 7, 7, 7, 1, 7, 7, 13, 3, 6, 7, 10, 2, 4, 5, 7, 10, 7, 9, 7, 9, 7, 9, 5, 7, 11, 7, 11, 7, 8, 7, 19, 1, 7, 7, 18, 1, 2, 4, 6, 7, 10, 5, 7, 7, 6, 7, 5, 7, 4, 7, 2, 3, 7, 4, 7, 5, 7, 7, 15, 7, 9, 7, 12, 7, 1, 7, 7, 8, 7, 7, 7, 8, 7, 19, 3, 7, 7, 15, 7, 7, 7, 13, 4, 7, 7, 7, 11, 7, 7, 19, 7, 20, 7, 7, 9, 1, 4, 5, 7, 7, 7, 14, 7, 14, 2, 7, 8, 16, 7, 18, 7, 17, 7, 9, 7, 7, 17, 1, 4, 7, 7, 8, 7, 8, 7, 3, 7, 2, 7, 7, 17, 7, 10, 7, 12, 7, 14, 7, 4, 7, 7, 14, 2, 7, 7, 5, 7, 1, 2, 3, 7, 4, 7, 3, 6, 7, 2, 3, 6, 7, 2, 7, 7, 7, 19, 7, 9, 7, 11, 7, 17, 7, 20, 7, 14, 5, 7, 7, 11, 6, 7, 8, 7, 11, 7, 2, 3, 5, 7, 7, 11, 7, 15, 7, 20, 7, 9, 7, 20, 7, 17, 7, 13, 7, 17, 7, 19, 7, 7, 11, 7, 1, 3, 7, 7, 1, 7, 12, 7, 12, 7, 11, 7, 11, 7, 15, 7, 9, 7, 7, 7, 17, 5, 7, 7, 8, 7, 16, 7, 14, 1, 2, 4, 7, 8, 7, 7, 19, 5, 7, 7, 3, 7, 5, 7, 7, 15, 7, 11, 1, 2, 3, 4, 6, 7, 10, 7, 15, 5, 7, 7, 8, 11, 3, 7, 7, 18, 2, 3, 7, 7, 12, 7, 8, 7, 16, 2, 5, 7, 7, 19, 7, 17, 7, 17, 7, 15, 2, 7, 1, 7, 12, 5, 7, 7, 1, 7, 7, 8, 7, 8, 7, 14, 7, 14, 7, 7, 15, 7, 18, 7, 3, 7, 7, 18, 7, 7, 14, 1, 4, 7, 11, 4, 7, 1, 3, 7, 11, 7, 17, 7, 20, 7, 17, 6, 7, 7, 13, 7, 18, 1, 3, 4, 5, 7, 7, 9, 7, 9, 7, 10, 7, 1, 7, 1, 7, 7, 14, 7, 11, 1, 7, 2, 5, 7, 7, 15, 7, 19, 7, 18, 7, 17, 7, 8, 7, 8, 4, 7, 5, 7, 11, 7, 1, 7, 7, 7, 15, 7, 9, 7, 9, 7, 7, 7, 13, 7, 7, 9, 7, 12, 5, 7, 7, 17, 2, 7, 8, 7, 13, 7, 14, 7, 7, 1, 5, 7, 7, 15, 7, 13, 7, 1, 7, 2, 3, 5, 7, 7, 2, 3, 5, 7, 8, 1, 4, 7, 8, 7, 7, 1, 4, 7, 1, 2, 7, 1, 4, 7, 6, 7, 2, 7, 7, 8, 3, 7, 7, 8, 7, 18, 3, 7, 7, 11, 1, 4, 7, 1, 3, 7, 1, 7, 4, 7, 7, 18, 7, 15, 6, 7, 5, 7, 7, 15], \"Freq\": [0.9997561751491745, 6.686884991968259e-05, 0.21421401412023997, 0.6369496095559877, 0.059080728254410506, 0.0897224795841607, 0.30055544334516904, 0.8913815268672347, 2.2766039915902196e-05, 0.10854847831902167, 8.427408570387805e-05, 0.9997434787051053, 0.2472095430703832, 0.12776305711222088, 0.6249400807308113, 2.137936029320965e-05, 0.00010047132104557937, 0.9996896444035147, 0.0022379690087518055, 0.9936582398858016, 0.00012391135841529705, 0.9995929283362013, 0.0005806005683720075, 0.9980523770314808, 0.9993309708587019, 0.0002049909683812722, 0.9993545480221256, 0.00022402029769606044, 0.8925224560659113, 0.10600138167158123, 0.0004588804401367153, 0.0005671879554154925, 0.9982508015312668, 0.9997654552081077, 6.766602065706312e-05, 0.00027185089784210873, 0.9990520495697497, 0.3005942159236306, 0.9883003345093172, 0.003580798313439555, 0.9995411791736463, 0.011493519628927086, 0.9654556488298753, 0.9998496894891783, 4.426072109292512e-05, 7.360762584386975e-06, 0.9999743186141393, 0.9997736796606519, 8.278328058794833e-05, 0.0005294053766504648, 0.9984585403627766, 0.014223150342292828, 0.9529510729336195, 0.00011846368242807547, 0.9995965523281009, 0.328391114470264, 0.6715905308738045, 6.740237566352578e-06, 1.8675073233997686e-05, 0.9999381212411722, 0.0004257005435247332, 0.9986934751090241, 0.00010146013177379685, 0.9996866783672204, 0.0004374747004225697, 0.9987547410647266, 0.5494092441305739, 0.4504473305915264, 4.062475925248254e-05, 0.0011134773818454095, 0.9965622567516417, 0.9995706063194225, 0.00014605064382224175, 0.0038540632809220855, 0.9866401999160539, 0.00020755698782069443, 0.9993868963566437, 0.11021123187411377, 0.5155806147486063, 0.2011755245771759, 0.17301998433326335, 3.114895480021304e-06, 0.9998960249876644, 4.1415611976207275e-05, 0.999855704329596, 0.2223960201279844, 0.1842334492575791, 0.21176386320116597, 1.0106613048306495e-05, 0.3815751756388117, 4.896252970058113e-05, 0.9998638190155673, 0.3427299087075199, 4.82718181278197e-05, 0.6571242601740096, 0.09149760016972976, 0.731980801357838, 0.8321688981747144, 2.5845359903556567e-05, 0.1677622311339857, 0.00036199212029352807, 0.9987362598898439, 0.99912076794609, 0.0002898522680435422, 0.3005751346816372, 0.00017279113147647187, 0.9994239044599132, 0.36160019058967413, 0.6383275724229542, 3.0453106837600986e-05, 0.9047573161509311, 0.09471138471260501, 0.0001817876865884933, 0.0003077752742419061, 0.9990385401892272, 0.9995882280714514, 0.3204383531155611, 0.017474692088442528, 0.6620555101088855, 1.0894446439178632e-05, 1.4676398498579678e-05, 0.9999470589037291, 0.0029016945660135583, 0.9894778470106235, 0.00011183632263134692, 0.9995930516789788, 0.3005846353310001, 0.9992817892974498, 0.00021662297621882718, 0.0003121998843841448, 0.9990396300292632, 0.300594532922958, 0.0009692645210742758, 0.9973731921854299, 0.9998722501422179, 3.8472902002470966e-05, 0.00019673140905774694, 0.9993955580133544, 0.4375211618074285, 0.19447950084561996, 1.3580022403855874e-05, 0.36796428705487877, 0.44377653052143656, 1.0446470905144337e-05, 0.5561910039316947, 0.30059221027633015, 0.10141991503856566, 0.17756072433965395, 0.18355022997166218, 8.926237901651616e-06, 0.5374487840584438, 1.7551090415772124e-05, 0.9999382742577851, 0.0001504840083634179, 0.9995147835498217, 0.06855606414485933, 0.7541167055934527, 0.4289574493204171, 0.5709993010238075, 0.2608884866361164, 0.1425563538766073, 0.5965015237740711, 1.9921234471297834e-05, 0.00021877959549104629, 0.9993851922030994, 0.9998958120265653, 3.420786219728242e-05, 0.000255555316843842, 0.9992212888594222, 0.6328213500596261, 0.36712458113215246, 1.6454868949493634e-05, 0.7803290908185324, 0.21964845452833112, 7.18204409405e-06, 0.9994948333083755, 0.00016923380177927115, 8.674777771790715e-05, 0.9997681381988799, 0.002508767796699275, 0.9909632796962136, 9.085301755501668e-05, 0.9997466051754035, 0.9973431067598307, 0.0008452060226778227, 0.9998277644283492, 6.218221061187569e-05, 0.00029222981498267913, 0.99913373742578, 0.3616329704785434, 0.18398280521944183, 1.868035386531037e-05, 0.4543248863582135, 0.9994369168675642, 0.00017537057674461558, 0.0012958344453925196, 0.9964966885068476, 0.0002310264117362672, 0.9991892307593557, 0.3004803779031258, 0.30058679895648477, 0.680515844730824, 0.2564914080600773, 1.6587428575313803e-05, 0.06294929144331589, 0.9998342320918894, 5.059377755752907e-05, 0.00010503592887676623, 0.9996269351201843, 0.00012572524819744614, 0.9996414484178942, 0.9996224867189246, 0.00011257009985573475, 0.9995218187210689, 0.00013153333579695603, 7.432752785997061e-05, 0.9997795772444648, 0.9326095171265035, 7.530153549668983e-05, 0.06716896966304732, 3.514026263888656e-05, 0.9998810331268783, 0.00021697756509494703, 0.999398664827326, 9.866717924187848e-05, 0.9996958600787128, 0.0001353993419129035, 0.9995179420010537, 0.9996694753221833, 9.156998033545693e-05, 0.9999179093863076, 2.2947581341770498e-05, 0.00021312179476212285, 0.999328095639594, 7.180732499130473e-05, 0.9997733858539358, 0.0001153639682661488, 0.9996287850261794, 0.9996887268477154, 0.9995015800232225, 0.00015238627535039221, 0.002411392425620897, 0.9934936793558097, 0.104202151298882, 3.7361832663636427e-06, 0.8957835637600805, 0.00016839983731115475, 0.9994530344417035, 0.30059810118713765, 0.00011991507702763317, 0.9996120821023501, 0.3517679304287354, 0.648198010987969, 1.2215860898344748e-05, 0.21346478544282105, 0.24554278229670903, 3.970916380369153e-05, 0.2321327640968859, 0.30881115940181425, 2.335833164923031e-06, 0.30058700823040546, 0.0007965821810057644, 0.997320890619217, 0.7717731908873157, 0.024495042895080074, 0.2037133360120908, 5.51814437825638e-06, 0.3005861744815695, 0.0002107487290993893, 0.9993704733893042, 4.781125399972435e-05, 0.9998289436422355, 0.9997610745820366, 6.729225783011622e-05, 0.9977732729346782, 0.000611755532148791, 0.7472400864585164, 0.2527313577882455, 1.0123832630517765e-05, 0.0008886831302918729, 0.9971024721874814, 0.2953315384164496, 0.2964784570122416, 0.17076275752561124, 0.23741214932895172, 6.100630828681049e-06, 2.6782724937699777e-05, 0.9999062528240835, 0.9993776231812727, 0.0001901041702836737, 0.999860201427847, 4.458486584445943e-05, 2.2122453818812254e-05, 0.9999349126103139, 7.539254003713049e-05, 0.9997804734323875, 0.00021952073299950093, 0.9992583766137282, 0.00028206799026291013, 0.9990848215112277, 7.319986026440836e-05, 0.9997636914912894, 0.00042585268384751274, 0.9986245436224174, 0.30059386679253114, 1.6964414936908677e-05, 0.999950474041145, 0.9992207323844927, 0.0002345588573672518, 0.00027848719321207124, 0.9992120492449117, 0.0003967842302427586, 0.9987059075210234, 1.5101769250160448e-05, 0.9999485491301239, 2.2180337982131022e-05, 0.9999339969104308, 0.11897784470636733, 2.632835687239817e-05, 0.8809468209504427, 0.07499204440901609, 0.9248565959935601, 4.528505097162807e-05, 0.0003193428940110036, 0.9989045724664192, 0.30056954225026433, 0.30056772640382967, 0.9996249107967545, 0.9999572759190011, 1.1696774779728636e-05, 0.000502161670106498, 0.9982974001717179, 0.0005998249232087207, 0.9981086722193112, 0.031620316226410775, 0.8853688543395016, 0.3005967449034398, 2.158669701902434e-05, 0.9999389793152454, 0.0008863997908595785, 0.9971997647170259, 0.9995823427266864, 0.0001164064682341547, 0.13880303659712, 0.5119926805704513, 1.3388929931235653e-05, 0.34915651474676335, 0.3006018047852137, 0.0008531899725516763, 0.9973790779129097, 0.9995269349771063, 0.00012900450890256923, 0.30058780028042126, 4.1383874936818396e-05, 0.9998758023484693, 0.30060305567646395, 0.947343876660423, 0.014139460845677956, 0.454833692155459, 0.5451499088695415, 5.777279902391258e-06, 4.534834701442146e-05, 0.9998857033209786, 0.00012455625105343372, 0.999688470954859, 0.999733669860323, 0.885640553284523, 3.6712010996705476e-05, 0.11424777822174745, 0.999707335255449, 9.973137821782213e-05, 0.3005924698099188, 6.348780393415015e-05, 0.9998059363549965, 0.06279825188435803, 0.9371252985299324, 2.319846763367493e-05, 6.263784589397375e-05, 0.999825296159609, 0.0001221209424287121, 0.9995599137790088, 0.00015329363595381404, 0.9994745064188676, 0.9999426311926571, 1.7846876281794378e-05, 0.9985161326617706, 0.00048779488649817814, 0.3005882991957611, 2.101636153547854e-05, 0.9999374654965335, 2.535113722120131e-05, 0.7539174698213058, 0.2460074355945375, 5.374369673923911e-05, 0.9998477341368043, 0.00028135670150650736, 0.9990976470496077, 0.9967754305683897, 0.0009621384464945847, 0.9997761668127688, 6.389570951701725e-05, 7.4050053036344e-05, 0.9997497660436805, 0.1728864271704037, 0.7234137873469829, 0.10367627620154822, 6.462802406280278e-06, 4.5601694193465054e-05, 0.9998627468859148, 0.00012167961755998007, 0.9995980582552362, 0.9995995242323373, 0.0001345356021847022, 0.3005954968652343, 0.9997620999482872, 6.789555857034209e-05, 0.99933683694017, 0.00023132797151392823, 0.37739125034225557, 0.19155801550284143, 0.4310087082631357, 1.2693526969905336e-05, 8.3871489713126e-05, 0.999748157380462, 5.957552286666431e-05, 0.9997964247483605, 0.0022787420960346067, 0.9935315538710886, 0.00041379482898733634, 0.9989007171754298, 0.28742808926805796, 0.3952811152504523, 4.499500458172479e-05, 0.3171697872965781, 0.6123669881123857, 0.3876100031562592, 0.00035280632173940194, 0.9987946968442469, 0.000297702898411671, 0.9990909270695678, 0.00016562785518287436, 0.9995641060286468, 0.00010645200460297065, 0.9996907752264973, 0.36023091875316043, 4.4412639471478294e-05, 0.19319498170093058, 0.44643585196729985, 0.9999484907243887, 1.607091642250026e-05, 0.3005958774730678, 4.231404075855055e-05, 0.9998807831245494, 1.4993178692496235e-05, 0.9999550597173439, 0.9999336188217849, 2.1403605009242366e-05, 7.431274314728281e-05, 0.9997293335603956, 0.6281740585392833, 0.17901408663283622, 0.09486631087884792, 1.6166719645338774e-05, 0.0979056541721716, 0.1653451238815941, 0.834442619913808, 6.710435222467294e-05, 0.9998586640991443, 5.070020100903323e-05, 0.34948098314619697, 0.6504221573992776, 2.820442120459987e-05, 0.3005946964147941, 0.9992626049872382, 0.00022210771393359373, 3.4704376486721964e-05, 0.9999024953354333, 0.00036215019383163677, 0.9988102345876542, 0.9998637465220601, 3.725552375445488e-05, 0.30056963042267426, 5.386179776613065e-05, 0.9998365519326832, 0.9995943751517243, 0.00011451419121912297, 0.9999704201559331, 9.199275261091738e-06, 0.0002954076134450301, 0.9990685486710917, 8.848671591759825e-05, 0.999722916437025, 0.002204880896771291, 0.9921964035470809, 6.239617731049829e-05, 0.999773949046114, 0.000288655206560108, 0.9990356699045339, 0.00012273466140095548, 0.9995510824493814, 0.999640317664247, 0.0001295206423509001, 0.001425621204998816, 0.9950836010891737, 5.315958675940207e-05, 0.9998255077708341, 0.9999016096965403, 3.0421735721569315e-05, 0.9999298642343217, 2.4882542781922107e-05, 0.999694352061709, 0.00010044151030460253, 0.0006102032845582429, 0.9982925735372854, 0.00034769348028626957, 0.9989233688624525, 0.7792299637014147, 0.22063736068987222, 4.333870765858814e-05, 0.18646392330602593, 0.27282096486067986, 0.5406685832672276, 1.8284361963720918e-05, 9.806027195270168e-05, 0.9997244725577937, 9.048002540546262e-05, 0.9997138007049564, 0.9996566694572575, 0.0001137783598289617, 0.0002384265933768852, 0.9992458528425259, 0.999684061664267, 8.731627754950362e-05, 0.992788398198512, 4.6743650746198595e-05, 0.007058291262675987, 0.3006083572294285, 0.9995947233565704, 0.00013273067631875852, 0.0001907263024516378, 0.999405824846582, 0.00023069526478400692, 0.999371887044318, 0.1776791232045542, 0.8222456159849127, 2.2310286690677323e-05, 0.3005897965269401, 0.05491311365099048, 0.8236967047648572, 2.70422282855692e-05, 0.9999134330872067, 0.43370595911479154, 0.566215352713078, 2.136903621968819e-05, 0.26440614192807305, 0.7355758204458974, 6.186820364744204e-06, 0.9996704558333391, 9.983725714904015e-05, 0.00010026707607345885, 0.9996627484523847, 0.000102437807114486, 0.9996905596302688, 0.3060442410533123, 0.19945401537646185, 1.7384037458509408e-06, 0.4944958991222835, 0.00018453596258847163, 0.9994467733791623, 0.9998335476741838, 5.990973381713606e-05, 0.9997207265172275, 8.700032429877535e-05, 0.8543169950854691, 0.14561378457932295, 2.558218281435751e-05, 0.00013905874177031437, 0.9995542358450197, 9.688126379621364e-05, 0.9997177611131285, 0.9992216060824728, 0.00026378606285176157, 0.9995426301476628, 0.0001446306800966087, 0.9993692799206009, 0.0001848971840741167, 0.9997792148395932, 7.684698038736304e-05, 0.9998198203120948, 5.1672945387983605e-05, 0.0001103752497821493, 0.9996686372769262, 0.9997077898912987, 8.359459736527292e-05, 0.9998100000295733, 6.660071942643041e-05, 0.0003925976855433107, 0.9987685120221824, 1.509376522915166e-05, 0.9999468526660684, 0.29108647776878344, 0.7088636029471767, 1.540873843463996e-05, 0.00015734426911807222, 0.9994507974379948, 0.002500063903045283, 0.9925253695089773, 5.987220137371252e-05, 0.9998058907396253, 0.44860577166298, 6.329981256709185e-05, 0.5512147678342358, 0.9999560341811243, 1.4067838581071234e-05, 0.00018702333882148086, 0.9994527226619937, 0.001378811187531493, 0.9955016773977379, 0.999971408601188, 7.65581099253681e-06, 7.177030646154958e-05, 0.9997603690093856, 0.9996756947588824, 8.824041793264034e-05, 2.590610015121614e-05, 0.9999236536366405, 0.22657659267194835, 0.027598215123497555, 0.40078088855938715, 0.14149747498576193, 2.796171745035213e-06, 0.13486215943479335, 0.06867677422980988, 0.30060340449365747, 0.9520029963157869, 1.7581174099536223e-05, 0.04794386176943528, 0.9998289659895411, 5.973764509706286e-05, 0.999916531805007, 2.2896579693732845e-05, 0.9997568889056481, 6.684207320356007e-05, 0.9995297362040899, 0.00012715045620202136, 6.468945611247252e-05, 0.9997755442182628, 6.504598793699015e-05, 0.9998218805794756, 0.00025322811234498925, 0.9992381313133275, 0.30058580989372014, 0.999847596550943, 5.6020147722486725e-05, 0.9962613440835771, 0.0013319001926251032, 0.00018421009732671068, 0.9993397779974055, 0.9999798485469082, 0.0007156847811864379, 0.9976645849738944, 0.9992636421618316, 0.00023848774275938702, 5.660864643519741e-05, 0.9998219133384566, 0.9885904499550102, 0.003284353654335582, 0.9991863716628232, 0.00023615844284160322, 2.428594981318162e-05, 0.9999254116581269, 0.9994798534650792, 0.00017683649212050232, 0.9997549428007672, 0.30060060532471283, 0.9998527187976635, 5.23592751779254e-05, 0.9994980317908356, 0.00017489029427661165, 0.547331292730952, 0.45258257503154153, 2.7990758552263067e-05, 0.48213574352901745, 1.2753901635558486e-05, 0.5178211603053101, 0.9998784881017089, 3.951620314198747e-05, 0.9964022461596733, 0.0012906764846627892, 0.00010536092356336354, 0.9996644427691933, 0.30060754718041355, 0.0003188333836467366, 0.9989049909652258, 2.2860854501355902e-05, 0.9999337758893071, 0.00010204915294868228, 0.9996735022852916, 0.9997581733532993, 6.628816956327405e-05, 0.00021782661645470842, 0.9993885162942023, 0.3006019484430764, 0.09021627178447637, 0.9096786173580144, 2.547762546864625e-05, 0.9999299147366666, 0.9998099376614594, 5.479611628090866e-05, 0.006424584818342275, 0.9765368923880258, 0.9924861601749869, 0.0020894445477368144, 1.4885175656489699e-05, 0.999956330251665, 0.7333067665503671, 0.2666688197767928, 8.66342288349283e-06, 0.3004695220475265, 0.0002548446503456817, 0.999245874005418, 4.2610509187793485e-05, 0.9998555980915741, 0.9997252503442855, 7.624506180173013e-05, 0.21035651630053254, 0.27197045562840155, 0.5176147914386325, 1.8031588916555164e-05, 0.13172048728480304, 0.8682138196972606, 2.0904695649072057e-05, 0.0011017160460843345, 0.9970530217063227, 0.9998876919672787, 3.4962330569854844e-05, 0.1023440783561366, 0.8107765155781451, 0.08684031186963578, 1.6016287692666135e-05, 0.4579525108228652, 0.20222646378757156, 3.2681480297936514e-06, 0.3398089595458247, 0.002089366521481183, 0.9924490977035619, 0.6798970937781447, 0.14403762930956188, 0.07627482150159248, 0.0997469556477128, 1.2819297731360081e-05, 5.409601874423355e-05, 0.9998567144496686, 0.09630030257608373, 0.7073353573926034, 0.19633600939780724, 9.88202181386185e-06, 0.4423811598952912, 1.0022455422535426e-05, 0.557589284977336, 0.3302255233952227, 0.2541712475386611, 0.4155562785323171, 2.142373967790468e-05, 0.30059350646002675, 0.30030988256568825, 0.0004396485624603222, 0.9984418853473918, 0.00017834399105149626, 0.999439725852585, 0.010062357150629276, 0.9659862864604104, 0.000271596787874264, 0.9992045825894172, 0.0008303320710747375, 0.9972288173607596, 0.9998540301978169, 4.184890466255722e-05, 0.5810356279167781, 0.3136529925602411, 1.3280814352383499e-05, 0.1024482019142863, 0.002828813457057685, 0.00014250236902364844, 0.9995116163318701, 0.3968758852310477, 0.328665674479662, 0.16064743169879067, 6.041648427934963e-05, 0.11364340692945667, 0.00026009650409539214, 0.9992907687344965, 0.30059326752134546, 0.9994809119158629, 0.0010991310731096559, 0.9969118833104579, 6.053592610731557e-05, 0.9998113555884239, 5.0167304934891935e-05, 0.6091815838243928, 0.39065280352800347, 0.00013377081562444351, 0.999535534345842, 0.9996829344319087, 0.00010038993115403783, 0.9999139349867631, 2.6542629406104348e-05, 0.33607162754750913, 0.6638883874619398, 1.132354956526531e-05, 0.9997332586578813, 9.378360775402264e-05, 0.30055863719115267, 0.30057127057018596, 7.90357310954511e-05, 0.9998019983574563, 0.0014163906003534104, 0.9957225920484476, 0.30057414701345775, 0.9997674806694413, 7.744132305727663e-05, 0.9998030977067608, 6.879536900204781e-05, 0.0001694292232486081, 0.9994629879435392, 8.527062946048532e-06, 0.9999771987460575, 0.300581088160695, 0.9999510086239651, 1.7439890622529346e-05, 0.999907636432125, 2.9224247740234543e-05, 0.17955354557710904, 8.955289056214914e-05, 0.8201253717681618, 0.00013544860387058007, 0.9996106965648809, 0.9990889753007284, 0.0003241690380599378, 0.28103278210047156, 0.290086644485893, 0.21078017193154455, 0.21808023247302868, 5.58535619088305e-06, 0.0003094514597790491, 0.9989093121667706, 7.098292445458114e-05, 0.9997944909427755, 0.14890442441673393, 0.8510711915466171, 1.0243132999706537e-05, 0.9991506115066897, 0.00025180206943212945, 0.9999690221829157, 9.15806412842674e-06, 0.0021407440009501687, 0.9933052164408783, 0.1231020417074425, 0.8768883350737846, 3.876863342280809e-06, 8.832922785667354e-05, 0.9997102008818312, 0.12214626553314584, 0.08044228537269764, 0.7973711377390371, 1.3180777547549998e-05, 0.9998521835456688, 4.913519993835908e-05, 9.641742019558668e-05, 0.9996558125878428, 0.00010023271204337095, 0.9997210699205819, 0.12440579336137794, 0.6220289668068897, 0.9994598933294112, 0.9998080792352934, 0.008114378764463791, 0.973725451735655, 0.0005843961660153791, 0.9981486515542675, 0.9993977755625228, 0.00012578132083803452, 0.9995841566998603, 0.4076271596291822, 0.3780136056776542, 0.18977899459766745, 1.2869862647339446e-05, 0.02454282806847632, 0.0024741034665471443, 0.9921154900854049, 2.9552480535287052e-05, 0.9999081789114375, 0.999850996503741, 5.026902948736757e-05, 0.9998164678542237, 5.9083823889269806e-05, 0.006838586817789798, 0.9779179149439412, 0.9994562563332228, 0.0001810281210529293, 0.9952905032314893, 0.0016869330563245581, 0.30059458801048733, 4.4237704294834126e-05, 0.999860592471841, 7.650326393455998e-05, 0.9997446530968298, 0.34712156965881813, 1.8473739737031298e-05, 0.652806541087475, 0.00034811628420104734, 0.9987456193728048, 2.5075816035695024e-05, 0.9999232402393747, 0.00039997103403847717, 0.9987276719940775, 0.7657871375639774, 0.23419653974529397, 6.404937501580582e-06, 0.999404893940024, 0.0001952344000664239, 0.9998280049201478, 0.9999242243257407, 0.9997552572395287, 7.458633670841008e-05, 0.00038236914975336604, 0.9987482191557921, 0.6179900989855472, 0.31733109150453, 2.159596376102695e-05, 0.06459352760923161, 0.3936888303271561, 0.2398324748169921, 0.204768412168597, 7.518023723926902e-06, 0.16169013623049588, 0.00020200751917783997, 0.9993311973727743, 0.00016555725478281598, 0.99946914712386, 7.120989382337152e-05, 0.9997869092801361, 0.12513657209313003, 2.72926002384144e-05, 0.8747824228416583, 0.0001275353025409488, 0.9996217013159566, 0.00025677273367467613, 0.9991027067281649, 4.2397249737970424e-05, 0.9998543405705564, 0.9999457033254704, 1.8098892347833814e-05, 0.00029781177186248434, 0.9991584945986349, 0.28836394889724265, 0.14875316708983344, 0.2293780366800433, 0.1833014325618515, 1.4134794808942828e-06, 0.15019915659878827, 0.9998583862938751, 4.303242463068109e-05, 0.3006017703976598, 0.9997271690238267, 9.291144693529988e-05, 0.9997157507531602, 0.00010274570922437411, 0.9926423930118281, 0.0023138517319623033, 0.7761002407784425, 0.22380369952174722, 3.227162213723825e-05, 0.9982991272654828, 0.0005500270673639023, 0.999871966364878, 3.6168275144325485e-05, 5.7100688835449156e-05, 0.9998330615087148, 4.533674245448803e-05, 0.9998565180912788, 0.00010844957298766909, 0.9996881638003338, 0.9998868816747917, 0.9994381863674194, 0.00020105374901778706, 3.099407582675438e-05, 0.9998998802469232, 0.30052099607980925, 0.3005986973821518, 2.7462660087741142e-05, 0.999915453794655, 0.00011897259362068762, 0.9996077316010173, 0.9998354853646044, 4.947231496113827e-05, 0.000986172659410739, 0.997020558664257, 0.30057925060983914, 0.9993686273933874, 6.670766628265073e-05, 0.9998145022443691, 0.9991178582941292, 0.0002762283268714762, 0.999709001645845, 2.469130919157151e-05, 0.9999239483310713, 0.9994561560123137, 7.336367569560627e-05, 0.9997268087040266, 0.0033121245667186343, 0.9903252454488717, 0.999506741653868, 0.07116754403444339, 0.9288033364389924, 0.12330298178091335, 0.5700704969336816, 0.306546116511192, 2.1662505583435235e-05, 0.999699010654098, 1.2199224579490072e-05, 0.9999582395562217, 3.181405689805185e-05, 0.9998839942488716, 0.8419452526840085, 8.06206134731367e-06, 0.10117080784743925, 0.05686171868260331, 0.0007461238902339152, 0.9975676412427447, 0.0002612535944589284, 0.9992949988054012, 0.00022866704139684087, 0.9992749709041945, 0.300512144906844, 0.001069619098389429, 0.9968849996989478, 0.21117093306569232, 0.7888170638298122, 5.17715396468882e-06, 0.00011009903911033264, 0.9996992751218203, 0.0003449792997708587, 0.9990600521364068, 0.30058284336301516, 0.9998677124705715, 3.8560266581973446e-05, 0.9996229779220238, 0.00010652418775810144, 8.52572157926073e-05, 0.9997261123841131, 0.00016277646992477046, 0.9994475253380906, 7.256205204994254e-05, 0.9997599531441083, 1.575213998275831e-05, 0.9999458461054975, 0.30053485388601386, 0.996733324297216, 0.0010740660822168276, 1.4798225490153137e-05, 0.9999456928206277, 0.9999725574172871, 8.823780364937632e-06, 0.3005844040701978, 0.9996593736206149, 0.00010901410835557413, 0.2684560918572942, 0.5556772820320084, 0.17581162044401766, 1.4580495973131337e-05, 0.9990034388404798, 0.0002799897530382511, 0.5315559041054739, 0.46842923291957417, 5.110229999668076e-06, 0.7669877816362896, 0.1346969444620383, 0.09826440914252794, 1.6418447642861812e-05, 0.9964876595260767, 0.0012348050303916688, 0.3005626860563173, 0.001715223120893367, 0.9948294101181528, 0.00020288969794656232, 0.999434652084766, 0.00014472360281368696, 0.9996059246341359, 6.70047478952943e-05, 0.9997778433456863, 0.001057824292053094, 0.9964704831140145, 5.060299604709001e-05, 0.9998139958984044, 0.9998720885878724, 4.3742763522087334e-05, 0.00019037973850836334, 0.9993032474303991, 0.25914667753186893, 5.203748544816645e-05, 0.7407015678692013, 6.661594140901536e-05, 0.9997720486665024, 0.30053396708032054, 0.693009497892343, 0.12946512514171568, 0.1774579294936128, 2.3560532327882744e-05, 7.696081626094884e-05, 0.9997210032297256, 2.059146871623026e-05, 0.9999423123288577, 0.0010192550365879433, 0.9968314257830085, 0.00010197676276346177, 0.9996782053702157, 0.009244357573642678, 0.9706575452324813, 3.992118766536816e-05, 0.999866066266811, 0.00014129700096893397, 0.999534984854239, 7.756963657733528e-05, 0.999717476208697, 0.00022318762418060845, 0.999210993456584, 0.9995062097132441, 4.6224497191168204e-05, 0.9998358742449682, 0.3006090978920547, 0.09459884809244587, 0.9052949527900924, 3.0232933235041828e-05, 0.3006029487228133, 0.3686229220252399, 1.56614233770336e-05, 0.6313276377516015, 3.880729984916883e-05, 0.9998700806138351, 8.878429757901346e-05, 0.9997111907396915, 0.00017271494448996546, 0.9995013837634302, 0.028569718172771607, 0.9142309815286914, 4.990527273184748e-05, 0.9998521391825642, 0.9999367640765284, 0.3005932515645361, 0.0015256147160934899, 0.9947007948929555, 0.9998845153001912, 3.593733656687601e-05, 0.000138463676766092, 0.9995692825744181, 6.4970568117618555e-06, 0.9999815050687024, 0.015573449088723495, 0.9499803944121332, 0.16827119907423227, 0.38375219130873467, 0.34443717588119416, 1.2221018162120144e-05, 0.1034998028149955, 0.30058676505969467, 1.2157810826808983e-05, 0.9999556248833852, 0.9999287562871808, 2.433804931939104e-05, 0.3005786461210158, 0.9997959845184606, 6.090375149357095e-05, 0.9999415659874058, 2.0317821111193862e-05, 0.017617775869560953, 0.9513598969562915, 0.00019035639301331588, 0.9993710633199083, 0.34679490088041376, 0.11571465887335454, 0.014634329085322348, 0.30781214407245305, 0.10036322396992789, 1.5795282337099132e-06, 0.11467374976733971, 0.000468127954126578, 0.9985169261519908, 0.9998406681656343, 4.9964552904184416e-05, 7.246414058554122e-05, 0.8584102093763213, 0.14130507414180538, 0.9999280147434148, 2.5565760246047627e-05, 0.00031151079089133244, 0.9990151063885032, 0.8326847225571694, 0.1672642482314662, 1.56073759663587e-05, 4.34207195261452e-05, 0.9998489085285455, 0.0001157400492062562, 0.9996468049944348, 2.8207811094567015e-05, 0.9999104876802116, 0.8286343480302087, 0.17133283535840188, 1.014103790224338e-05, 0.0013141525672711683, 0.9961276459915456, 0.00014107264028246806, 0.9994996564012862, 0.0022409685878875267, 0.9927490844341744, 0.000672323699539754, 0.9977283701169949, 0.9989895907486575, 0.00030909331396926284, 0.31130598405352755, 6.467351907209464e-06, 0.6886695004872926, 0.9998006044798006, 7.418569447798476e-05, 0.9995822564740161, 0.9999255912718921, 2.3052508098300723e-05, 0.00010149438893100024, 0.9997197309703524, 5.909466430971958e-05, 0.9998226254561455, 0.004796817138067519, 0.9833475133038415, 0.00585782839034595, 0.9782573411877736, 0.9995378688327853, 2.398001158401712e-05, 0.9999185230303458, 0.0006688688860773687, 0.9979523780274341, 0.9999641013723486, 0.999868480451067, 4.216185875821493e-05, 0.00018624336517396051, 0.9993818975234721, 0.999977779286005, 0.00016885383304972567, 0.9994458378213263, 0.4999905579206491, 0.49994380470673316, 1.1688303478987519e-05, 3.506491043696256e-05, 0.9796716048851265, 0.005973607346860527, 0.22225511623582428, 0.7705361848051977, 2.2192223288649452e-05, 0.007145895898945123, 2.3138133173451394e-05, 0.9999375632238755, 0.004543714514204921, 0.9859860495824677, 0.00058315495926991, 0.998361290270086, 0.9996468442558791, 0.00012048292687186683, 0.0011071210243344442, 0.9964089219009998, 0.0002491046197366111, 0.999158629763547, 0.23036949463912956, 0.1882889433079503, 0.08747737748310316, 0.49384859205588566, 5.314542981962525e-06, 2.384023069580711e-05, 0.9999307960742377, 0.00013838847167781159, 0.999579930928833, 0.00044070295831430075, 0.9986329035402055, 0.30058896589740025, 0.9995449304543115, 0.00012261346055622075, 0.9998859236936903, 3.2134140753750175e-05, 0.0066579816691172055, 0.9787233053602292, 3.887498690203887e-05, 0.9998646631204398, 0.9996914727576341, 0.0001008465119295505, 0.7749352770919663, 0.2250103785706865, 1.4584546186847713e-05, 0.08189346982708262, 0.7370412284437436, 0.0002910396165864408, 0.9991390037412513, 0.001240572639904342, 0.9961798298431868, 0.0001704196646350424, 0.9995113330845237, 5.101583457256912e-05, 0.9998593417877821, 3.849645272820234e-05, 0.9998683667095992, 0.9984946446610429, 0.00045676790698126387, 0.5163205848864, 2.36529655452105e-05, 0.4835848805718287, 0.9994529104032067, 0.9998036471574355, 5.989717512325878e-05, 0.30059251554881783, 0.0056343516182246044, 0.9803771815710812, 3.923560751304834e-05, 0.9998802218625239, 2.6196236907134245e-05, 0.9999103627453141, 0.9997765907285796, 0.999884527740072, 8.741845587021391e-05, 0.9997174613317663, 0.30056548214013773, 0.00023572516612818382, 0.9992389792173713, 9.068417844044629e-05, 0.9997023831274798, 0.9999272948700464, 2.6757487151994818e-05, 0.00021056728393099302, 0.9993523295364929, 0.23481113761680483, 2.0552397165584667e-05, 0.765124641680386, 0.00046226568263699885, 0.9984938744959174, 0.0001256659264919408, 0.9995467793168971, 0.300602068803486, 0.30049892278241697, 0.5115379424687184, 0.48840172193161463, 2.0492666551907635e-05, 0.0005961990637692637, 0.9980372327497474, 0.00012092903012439872, 0.9995993630082799, 0.30057869531540604, 0.9992890351099699, 0.000228774962250451, 0.7566071698285959, 0.035898201381966165, 0.2074783989273106, 6.113453913822576e-06, 0.30057646310993164, 0.21983827109678034, 0.38471281680019814, 0.3510028405907138, 1.6630476669701213e-05, 0.04438674223143254, 0.7138748149839876, 0.09080770122519621, 4.154057695571648e-05, 0.195157630537956, 0.3005631579891604, 0.3005626652153671, 0.8870283807640931, 0.11279139271822113, 5.9084019234269836e-05, 0.8946405695591289, 0.10527286405146244, 2.5539268328836107e-05, 0.8460747788539514, 0.15390047050745487, 9.445223426258431e-06, 0.9980945490433891, 0.0006130801898300916, 0.9908864676641047, 0.0028311041933260133, 0.00016619015667631716, 0.9994676022513714, 0.9998356089188422, 5.136053880509797e-05, 6.455772422376261e-05, 0.9998054750534116, 6.781137758936428e-05, 0.9998109511775869, 0.9998424168729318, 4.251753771359635e-05, 5.79683449084604e-05, 0.999838012981125, 0.3182517438071072, 0.681703820583353, 1.6967091955382374e-05, 0.11022216980280908, 0.8897236078733729, 1.6020664215524574e-05, 0.9991345658942716, 0.0002455479395169014, 0.9998004787109387, 5.85466111559957e-05, 7.461053566409504e-05, 0.9997811778988736, 4.57307271301851e-05, 0.999856617974367, 0.9996219532918457, 0.00012397642977698693, 0.9999506333569239, 1.5911885704961952e-05, 0.0003861000841295532, 0.9988409176431542], \"Term\": [\"2\", \"2\", \"able\", \"able\", \"able\", \"able\", \"absolutely\", \"access\", \"access\", \"access\", \"accessible\", \"accessible\", \"accommodate\", \"accommodate\", \"accommodate\", \"accommodate\", \"accommodation\", \"accommodation\", \"accueil\", \"accueil\", \"accurate\", \"accurate\", \"accurately\", \"accurately\", \"addition\", \"addition\", \"additional\", \"additional\", \"adult\", \"adult\", \"adult\", \"advance\", \"advance\", \"advertise\", \"advertise\", \"advice\", \"advice\", \"affordable\", \"ago\", \"ago\", \"agr\", \"aider\", \"aider\", \"air\", \"air\", \"airbnb\", \"airbnb\", \"airport\", \"airport\", \"airy\", \"airy\", \"alla\", \"alla\", \"alojamiento\", \"alojamiento\", \"amaze\", \"amaze\", \"amaze\", \"amenity\", \"amenity\", \"amos\", \"amos\", \"anfitri\", \"anfitri\", \"anfitriona\", \"anfitriona\", \"answer\", \"answer\", \"answer\", \"anticipate\", \"anticipate\", \"anytime\", \"anytime\", \"apartament\", \"apartament\", \"apartamento\", \"apartamento\", \"apartment\", \"apartment\", \"apartment\", \"apartment\", \"apartment\", \"appartement\", \"apt\", \"apt\", \"area\", \"area\", \"area\", \"area\", \"area\", \"arrival\", \"arrival\", \"arrive\", \"arrive\", \"arrive\", \"arrivo\", \"arrivo\", \"ask\", \"ask\", \"ask\", \"assist\", \"assist\", \"attention\", \"attention\", \"attentive\", \"automate\", \"automate\", \"available\", \"available\", \"available\", \"ave\", \"ave\", \"ave\", \"avenue\", \"avenue\", \"avons\", \"away\", \"away\", \"away\", \"away\", \"awesome\", \"awesome\", \"ayudar\", \"ayudar\", \"backyard\", \"backyard\", \"bad\", \"bag\", \"bag\", \"bagel\", \"bagel\", \"balcony\", \"bamos\", \"bamos\", \"bar\", \"bar\", \"bath\", \"bath\", \"bathroom\", \"bathroom\", \"bathroom\", \"bathroom\", \"beautiful\", \"beautiful\", \"beautiful\", \"beautifully\", \"bed\", \"bed\", \"bed\", \"bed\", \"bed\", \"bedroom\", \"bedroom\", \"begin\", \"begin\", \"bene\", \"bene\", \"bien\", \"bien\", \"big\", \"big\", \"big\", \"big\", \"bike\", \"bike\", \"bite\", \"bite\", \"ble\", \"ble\", \"block\", \"block\", \"block\", \"book\", \"book\", \"book\", \"boyfriend\", \"boyfriend\", \"breakfast\", \"breakfast\", \"brief\", \"brief\", \"bright\", \"bright\", \"brilliant\", \"brilliant\", \"bring\", \"bring\", \"broadway\", \"broadway\", \"brooklyn\", \"brooklyn\", \"brooklyn\", \"brooklyn\", \"brownstone\", \"brownstone\", \"brunch\", \"brunch\", \"buen\", \"buen\", \"buena\", \"bueno\", \"build\", \"build\", \"build\", \"build\", \"bus\", \"bus\", \"business\", \"business\", \"busy\", \"busy\", \"cafe\", \"cafe\", \"calm\", \"calm\", \"cancel\", \"cancel\", \"car\", \"car\", \"car\", \"care\", \"care\", \"careful\", \"careful\", \"casa\", \"casa\", \"case\", \"case\", \"center\", \"center\", \"central\", \"central\", \"centrally\", \"centrally\", \"cerca\", \"cerca\", \"chair\", \"chair\", \"chambre\", \"charm\", \"charm\", \"che\", \"che\", \"check\", \"check\", \"check\", \"child\", \"child\", \"chill\", \"choice\", \"choice\", \"city\", \"city\", \"city\", \"clean\", \"clean\", \"clean\", \"clean\", \"clean\", \"clean\", \"cleanliness\", \"clinton\", \"clinton\", \"close\", \"close\", \"close\", \"close\", \"closet\", \"cocina\", \"cocina\", \"coffee\", \"coffee\", \"cold\", \"cold\", \"college\", \"college\", \"come\", \"come\", \"come\", \"comer\", \"comer\", \"comfortable\", \"comfortable\", \"comfortable\", \"comfortable\", \"comfortable\", \"comfy\", \"comfy\", \"common\", \"common\", \"communicate\", \"communicate\", \"communication\", \"communication\", \"communicative\", \"communicative\", \"communicator\", \"communicator\", \"commute\", \"commute\", \"como\", \"como\", \"compare\", \"compare\", \"complaint\", \"con\", \"con\", \"condition\", \"condition\", \"confortable\", \"confortable\", \"connection\", \"connection\", \"convenient\", \"convenient\", \"cook\", \"cook\", \"cool\", \"cool\", \"cool\", \"corner\", \"corner\", \"corner\", \"cosy\", \"cosy\", \"couldn\", \"couple\", \"court\", \"cozy\", \"cozy\", \"cual\", \"cual\", \"cuando\", \"cuando\", \"cucina\", \"cucina\", \"customer\", \"cute\", \"cute\", \"dans\", \"dans\", \"daughter\", \"daughter\", \"day\", \"day\", \"day\", \"day\", \"deben\", \"december\", \"december\", \"decide\", \"decide\", \"decor\", \"decorate\", \"decorate\", \"def\", \"definetely\", \"definetely\", \"definitely\", \"definitely\", \"definitely\", \"del\", \"del\", \"departamento\", \"departamento\", \"des\", \"describe\", \"describe\", \"describe\", \"description\", \"description\", \"design\", \"detail\", \"detail\", \"didn\", \"didn\", \"didn\", \"different\", \"different\", \"dine\", \"dine\", \"dinner\", \"dinner\", \"distance\", \"distance\", \"district\", \"district\", \"doesn\", \"don\", \"don\", \"door\", \"door\", \"door\", \"dry\", \"dry\", \"duda\", \"duda\", \"ear\", \"ear\", \"early\", \"early\", \"easily\", \"easily\", \"easy\", \"easy\", \"easy\", \"easy\", \"eat\", \"eat\", \"elevator\", \"elevator\", \"empire\", \"empire\", \"encanto\", \"end\", \"end\", \"energy\", \"energy\", \"enjoy\", \"enjoy\", \"enjoy\", \"enjoy\", \"entire\", \"entire\", \"equip\", \"equip\", \"esp\", \"esp\", \"espacio\", \"espacio\", \"especially\", \"especially\", \"especially\", \"especially\", \"est\", \"est\", \"estaba\", \"estaba\", \"estad\", \"estad\", \"estancia\", \"estancia\", \"estuvo\", \"estuvo\", \"etc\", \"etc\", \"etc\", \"etc\", \"exactly\", \"exactly\", \"exceed\", \"excelente\", \"excelente\", \"excellent\", \"excellent\", \"expect\", \"expect\", \"expectation\", \"expectation\", \"experience\", \"experience\", \"experience\", \"experience\", \"experience\", \"explore\", \"explore\", \"explore\", \"extra\", \"extra\", \"extremely\", \"extremely\", \"extremely\", \"face\", \"fall\", \"fall\", \"family\", \"family\", \"fan\", \"fan\", \"fantastic\", \"fantastic\", \"far\", \"fast\", \"fast\", \"favorite\", \"favorite\", \"feel\", \"feel\", \"figure\", \"figure\", \"fill\", \"fill\", \"filter\", \"filter\", \"fine\", \"fine\", \"finish\", \"finish\", \"fit\", \"fit\", \"flat\", \"flat\", \"flexibility\", \"flexibility\", \"flexible\", \"flexible\", \"floor\", \"floor\", \"food\", \"food\", \"forward\", \"forward\", \"fotos\", \"fotos\", \"freeze\", \"freeze\", \"friend\", \"friend\", \"friend\", \"friendly\", \"friendly\", \"friendly\", \"friendly\", \"fue\", \"fue\", \"fully\", \"fully\", \"fun\", \"fun\", \"functional\", \"functional\", \"furnish\", \"furnish\", \"future\", \"future\", \"future\", \"gather\", \"gem\", \"gem\", \"general\", \"general\", \"generous\", \"generous\", \"get\", \"get\", \"get\", \"getaway\", \"giorno\", \"giorno\", \"give\", \"give\", \"go\", \"go\", \"go\", \"good\", \"good\", \"good\", \"gorgeous\", \"gorgeous\", \"gracias\", \"gracias\", \"gracious\", \"gracious\", \"great\", \"great\", \"great\", \"great\", \"greet\", \"greet\", \"grocery\", \"grocery\", \"group\", \"group\", \"guest\", \"guest\", \"guest\", \"habitaci\", \"habitaci\", \"hair\", \"hair\", \"half\", \"half\", \"hand\", \"hand\", \"hang\", \"hang\", \"happy\", \"happy\", \"have\", \"have\", \"head\", \"head\", \"hear\", \"hear\", \"heat\", \"heat\", \"heavy\", \"heavy\", \"help\", \"help\", \"helpful\", \"helpful\", \"helpful\", \"hesitate\", \"hesitate\", \"hesitation\", \"hesitation\", \"hide\", \"hide\", \"high\", \"high\", \"high\", \"highly\", \"highly\", \"hill\", \"hill\", \"history\", \"history\", \"home\", \"home\", \"hope\", \"hope\", \"hospitable\", \"hospitable\", \"hospitality\", \"hospitality\", \"host\", \"host\", \"host\", \"host\", \"host\", \"host\", \"host\", \"hostess\", \"hotel\", \"hotel\", \"hotel\", \"hour\", \"hour\", \"house\", \"house\", \"huge\", \"huge\", \"husband\", \"husband\", \"ideal\", \"ideal\", \"include\", \"include\", \"incre\", \"incre\", \"incredible\", \"incredibly\", \"incredibly\", \"indicate\", \"indicate\", \"information\", \"information\", \"instruction\", \"interaction\", \"interaction\", \"interest\", \"interest\", \"internet\", \"internet\", \"intrusive\", \"intrusive\", \"invite\", \"invite\", \"issue\", \"issue\", \"jfk\", \"jfk\", \"jour\", \"justice\", \"keep\", \"keep\", \"kid\", \"kid\", \"kind\", \"kind\", \"kind\", \"kitchen\", \"kitchen\", \"kitchen\", \"know\", \"know\", \"knowledge\", \"knowledge\", \"lady\", \"lady\", \"lamp\", \"landlord\", \"landlord\", \"large\", \"large\", \"las\", \"las\", \"late\", \"late\", \"layout\", \"layout\", \"lead\", \"leave\", \"leave\", \"leave\", \"les\", \"let\", \"let\", \"library\", \"library\", \"lift\", \"lift\", \"light\", \"light\", \"like\", \"like\", \"like\", \"limpio\", \"lindo\", \"lindo\", \"list\", \"list\", \"literally\", \"literally\", \"little\", \"little\", \"little\", \"little\", \"live\", \"live\", \"live\", \"llegada\", \"llegada\", \"local\", \"local\", \"locate\", \"locate\", \"locate\", \"locate\", \"location\", \"location\", \"location\", \"location\", \"logement\", \"logement\", \"look\", \"look\", \"look\", \"look\", \"look\", \"los\", \"los\", \"lot\", \"lot\", \"lot\", \"lot\", \"love\", \"love\", \"love\", \"lovely\", \"lovely\", \"lovely\", \"lovely\", \"low\", \"lugar\", \"lugares\", \"lugares\", \"luggage\", \"luggage\", \"lumineux\", \"lumineux\", \"maintain\", \"maintain\", \"majority\", \"majority\", \"make\", \"make\", \"manhattan\", \"manhattan\", \"manhattan\", \"manhattan\", \"manhattan\", \"mattress\", \"mattress\", \"meet\", \"meet\", \"meet\", \"meet\", \"meet\", \"mejor\", \"mejor\", \"melissa\", \"merci\", \"mes\", \"mes\", \"message\", \"message\", \"metro\", \"metro\", \"metro\", \"microwave\", \"microwave\", \"midtown\", \"midtown\", \"min\", \"min\", \"minute\", \"minute\", \"minute\", \"miss\", \"miss\", \"moda\", \"modern\", \"modo\", \"modo\", \"mon\", \"mon\", \"money\", \"month\", \"month\", \"morning\", \"morning\", \"mucho\", \"mucho\", \"muy\", \"muy\", \"natural\", \"near\", \"near\", \"nearby\", \"nearby\", \"neat\", \"neat\", \"neat\", \"necessary\", \"necessary\", \"necessity\", \"necessity\", \"need\", \"need\", \"need\", \"need\", \"need\", \"negative\", \"negative\", \"neighbor\", \"neighbor\", \"neighborhood\", \"neighborhood\", \"neighborhood\", \"neighbourhood\", \"neighbourhood\", \"new\", \"new\", \"news\", \"news\", \"nice\", \"nice\", \"nice\", \"nicely\", \"nicely\", \"night\", \"night\", \"night\", \"night\", \"noise\", \"noise\", \"noisy\", \"noisy\", \"nos\", \"nos\", \"nostro\", \"nostro\", \"notre\", \"nous\", \"november\", \"november\", \"nuestra\", \"nuestra\", \"nuit\", \"numb\", \"numb\", \"nyc\", \"nyc\", \"nyc\", \"nyc\", \"nyc\", \"occasionally\", \"occasionally\", \"offer\", \"offer\", \"open\", \"open\", \"option\", \"option\", \"organise\", \"organise\", \"organize\", \"organize\", \"orient\", \"orient\", \"outdoor\", \"outside\", \"outside\", \"outstanding\", \"outstanding\", \"overall\", \"overall\", \"overall\", \"overnight\", \"overnight\", \"para\", \"para\", \"parent\", \"parent\", \"park\", \"park\", \"park\", \"part\", \"part\", \"pas\", \"pass\", \"peaceful\", \"peaceful\", \"pendiente\", \"pendiente\", \"people\", \"people\", \"people\", \"people\", \"perfect\", \"perfect\", \"perfect\", \"perfect\", \"perfect\", \"perfecta\", \"perfecta\", \"perfecto\", \"perfecto\", \"pero\", \"pero\", \"person\", \"person\", \"person\", \"personal\", \"personal\", \"personally\", \"personally\", \"photo\", \"photo\", \"picture\", \"picture\", \"pizza\", \"pizza\", \"place\", \"place\", \"place\", \"place\", \"place\", \"place\", \"plan\", \"plan\", \"plant\", \"pleasant\", \"pleasant\", \"pleasure\", \"pleasure\", \"plentiful\", \"plentiful\", \"plenty\", \"plenty\", \"plenty\", \"plug\", \"plug\", \"plus\", \"plus\", \"point\", \"point\", \"por\", \"por\", \"post\", \"post\", \"pour\", \"prepare\", \"prepare\", \"pretty\", \"pretty\", \"price\", \"prime\", \"private\", \"private\", \"probably\", \"probably\", \"problem\", \"problem\", \"problema\", \"problema\", \"process\", \"profit\", \"prompt\", \"prompt\", \"promptly\", \"promptly\", \"propre\", \"provide\", \"provide\", \"proximit\", \"public\", \"public\", \"punto\", \"punto\", \"quartier\", \"que\", \"que\", \"question\", \"question\", \"question\", \"question\", \"qui\", \"quick\", \"quick\", \"quickly\", \"quickly\", \"quiet\", \"quiet\", \"quiet\", \"quiet\", \"rain\", \"rain\", \"recently\", \"recently\", \"recomendable\", \"recomendable\", \"recomiendo\", \"recommande\", \"recommande\", \"recommend\", \"recommend\", \"recommend\", \"recommendation\", \"recommendation\", \"red\", \"red\", \"refund\", \"relax\", \"relax\", \"rend\", \"rend\", \"renovate\", \"renovate\", \"reply\", \"reply\", \"reservation\", \"reservation\", \"respond\", \"respond\", \"response\", \"responsible\", \"responsible\", \"responsive\", \"responsive\", \"restaurant\", \"restaurant\", \"return\", \"ride\", \"ride\", \"right\", \"right\", \"right\", \"right\", \"roof\", \"roof\", \"room\", \"room\", \"room\", \"safe\", \"safe\", \"safe\", \"safe\", \"saturday\", \"saturday\", \"say\", \"scene\", \"scene\", \"seguro\", \"seguro\", \"self\", \"self\", \"send\", \"send\", \"ser\", \"ser\", \"service\", \"service\", \"set\", \"set\", \"shampoo\", \"shampoo\", \"share\", \"share\", \"share\", \"sheet\", \"sheet\", \"shop\", \"short\", \"short\", \"short\", \"short\", \"show\", \"show\", \"shower\", \"shower\", \"sido\", \"sido\", \"siempre\", \"siempre\", \"simp\", \"simp\", \"simple\", \"simple\", \"sin\", \"sin\", \"sit\", \"sit\", \"site\", \"site\", \"situ\", \"size\", \"size\", \"skill\", \"sleep\", \"sleep\", \"sleep\", \"sleeper\", \"small\", \"small\", \"small\", \"smell\", \"smell\", \"smooth\", \"smooth\", \"soap\", \"soap\", \"soggiorno\", \"soggiorno\", \"solo\", \"solo\", \"son\", \"sonder\", \"sont\", \"sont\", \"soon\", \"soon\", \"sound\", \"sound\", \"space\", \"space\", \"spacieux\", \"spacieux\", \"spacious\", \"spacious\", \"spacious\", \"spacious\", \"spacious\", \"sparkle\", \"spot\", \"spot\", \"square\", \"square\", \"staff\", \"star\", \"star\", \"station\", \"station\", \"stato\", \"stato\", \"stave\", \"stave\", \"stay\", \"stay\", \"stay\", \"stay\", \"stay\", \"stay\", \"stay\", \"steep\", \"steep\", \"step\", \"step\", \"stop\", \"stop\", \"stop\", \"store\", \"store\", \"story\", \"story\", \"street\", \"street\", \"street\", \"studio\", \"studio\", \"style\", \"style\", \"stylish\", \"stylish\", \"subway\", \"subway\", \"subway\", \"sufficient\", \"sufficient\", \"suggestion\", \"suggestion\", \"suis\", \"suis\", \"suitcase\", \"suitcase\", \"sunny\", \"sunny\", \"super\", \"super\", \"super\", \"supply\", \"supply\", \"sur\", \"sure\", \"sure\", \"surprise\", \"surprise\", \"sweet\", \"sweet\", \"sympa\", \"sympa\", \"tage\", \"tage\", \"tait\", \"take\", \"take\", \"tal\", \"tal\", \"talk\", \"tell\", \"tell\", \"temperature\", \"temperature\", \"term\", \"text\", \"text\", \"thank\", \"thank\", \"thank\", \"thank\", \"theatre\", \"theatre\", \"thing\", \"thing\", \"thing\", \"thing\", \"thoughtful\", \"thoughtful\", \"tica\", \"tica\", \"ticket\", \"ticket\", \"tidy\", \"tidy\", \"tiempo\", \"tiempo\", \"tiene\", \"tiene\", \"time\", \"time\", \"time\", \"time\", \"time\", \"todo\", \"todo\", \"todos\", \"todos\", \"toiletry\", \"toiletry\", \"ton\", \"totally\", \"totally\", \"touch\", \"touch\", \"toujours\", \"toujours\", \"towel\", \"towel\", \"town\", \"town\", \"train\", \"train\", \"train\", \"tranquilla\", \"tranquilla\", \"transit\", \"transit\", \"transition\", \"transition\", \"transport\", \"transport\", \"transportation\", \"transportation\", \"travel\", \"travel\", \"treat\", \"treat\", \"trip\", \"trip\", \"trip\", \"tro\", \"truly\", \"truly\", \"turn\", \"tutto\", \"tutto\", \"ubicaci\", \"ubicaci\", \"una\", \"una\", \"une\", \"union\", \"unique\", \"unique\", \"unit\", \"unos\", \"unos\", \"upstairs\", \"upstairs\", \"use\", \"use\", \"useful\", \"useful\", \"value\", \"value\", \"value\", \"van\", \"van\", \"vibe\", \"vibe\", \"vibes\", \"view\", \"visit\", \"visit\", \"visit\", \"vista\", \"vista\", \"volver\", \"volver\", \"wait\", \"wake\", \"wake\", \"walk\", \"walk\", \"walk\", \"walk\", \"wall\", \"want\", \"want\", \"want\", \"want\", \"want\", \"warm\", \"warm\", \"warm\", \"warm\", \"water\", \"week\", \"weekend\", \"weekend\", \"weekend\", \"welcome\", \"welcome\", \"welcome\", \"well\", \"well\", \"well\", \"whatsoever\", \"whatsoever\", \"whilst\", \"whilst\", \"wife\", \"wife\", \"wifi\", \"wifi\", \"williamsburg\", \"williamsburg\", \"win\", \"win\", \"window\", \"window\", \"wish\", \"wish\", \"wonderful\", \"wonderful\", \"wonderful\", \"work\", \"work\", \"work\", \"worry\", \"worry\", \"worth\", \"worth\", \"wouldn\", \"wouldn\", \"wrong\", \"wrong\", \"year\", \"year\", \"york\", \"york\", \"zona\", \"zona\"]}, \"R\": 30, \"lambda.step\": 0.01, \"plot.opts\": {\"xlab\": \"PC1\", \"ylab\": \"PC2\"}, \"topic.order\": [2, 13, 7, 10, 14, 15, 11, 5, 4, 17, 8, 18, 9, 1, 3, 16, 19, 6, 12, 20]};\n",
       "\n",
       "function LDAvis_load_lib(url, callback){\n",
       "  var s = document.createElement('script');\n",
       "  s.src = url;\n",
       "  s.async = true;\n",
       "  s.onreadystatechange = s.onload = callback;\n",
       "  s.onerror = function(){console.warn(\"failed to load library \" + url);};\n",
       "  document.getElementsByTagName(\"head\")[0].appendChild(s);\n",
       "}\n",
       "\n",
       "if(typeof(LDAvis) !== \"undefined\"){\n",
       "   // already loaded: just create the visualization\n",
       "   !function(LDAvis){\n",
       "       new LDAvis(\"#\" + \"ldavis_el108661402835175375202932859437\", ldavis_el108661402835175375202932859437_data);\n",
       "   }(LDAvis);\n",
       "}else if(typeof define === \"function\" && define.amd){\n",
       "   // require.js is available: use it to load d3/LDAvis\n",
       "   require.config({paths: {d3: \"https://cdnjs.cloudflare.com/ajax/libs/d3/3.5.5/d3.min\"}});\n",
       "   require([\"d3\"], function(d3){\n",
       "      window.d3 = d3;\n",
       "      LDAvis_load_lib(\"https://cdn.rawgit.com/bmabey/pyLDAvis/files/ldavis.v1.0.0.js\", function(){\n",
       "        new LDAvis(\"#\" + \"ldavis_el108661402835175375202932859437\", ldavis_el108661402835175375202932859437_data);\n",
       "      });\n",
       "    });\n",
       "}else{\n",
       "    // require.js not available: dynamically load d3 & LDAvis\n",
       "    LDAvis_load_lib(\"https://cdnjs.cloudflare.com/ajax/libs/d3/3.5.5/d3.min.js\", function(){\n",
       "         LDAvis_load_lib(\"https://cdn.rawgit.com/bmabey/pyLDAvis/files/ldavis.v1.0.0.js\", function(){\n",
       "                 new LDAvis(\"#\" + \"ldavis_el108661402835175375202932859437\", ldavis_el108661402835175375202932859437_data);\n",
       "            })\n",
       "         });\n",
       "}\n",
       "</script>"
      ],
      "text/plain": [
       "PreparedData(topic_coordinates=              x         y  topics  cluster       Freq\n",
       "topic                                                \n",
       "1     -0.290499 -0.008020       1        1  15.127698\n",
       "12    -0.285610 -0.081646       2        1  15.066296\n",
       "6     -0.068809 -0.252881       3        1  11.557452\n",
       "9     -0.349404  0.109697       4        1   9.411896\n",
       "13    -0.016623 -0.272665       5        1   8.288113\n",
       "14    -0.247871  0.074604       6        1   5.506691\n",
       "10     0.172669  0.039406       7        1   4.086380\n",
       "4      0.060812 -0.217703       8        1   3.722654\n",
       "3      0.151977  0.051850       9        1   3.711077\n",
       "16    -0.264822  0.119460      10        1   3.401202\n",
       "7      0.101144 -0.088937      11        1   3.340338\n",
       "17     0.035662  0.153813      12        1   2.688337\n",
       "8      0.138364 -0.005930      13        1   2.333116\n",
       "0      0.125754  0.028922      14        1   2.044388\n",
       "2      0.136159  0.052437      15        1   1.987111\n",
       "15     0.092307 -0.042674      16        1   1.932692\n",
       "18     0.140963  0.038066      17        1   1.871608\n",
       "5      0.069925  0.173252      18        1   1.747173\n",
       "11     0.140212  0.051040      19        1   1.401453\n",
       "19     0.157690  0.077909      20        1   0.774325, topic_info=            Term           Freq          Total Category  logprob  loglift\n",
       "65         great  575240.000000  575240.000000  Default  30.0000  30.0000\n",
       "284        check  267652.000000  267652.000000  Default  29.0000  29.0000\n",
       "84         place  707474.000000  707474.000000  Default  28.0000  28.0000\n",
       "223         nice  257940.000000  257940.000000  Default  27.0000  27.0000\n",
       "90          stay  633100.000000  633100.000000  Default  26.0000  26.0000\n",
       "...          ...            ...            ...      ...      ...      ...\n",
       "2421         far       0.187799       3.327016  Topic20 -13.6173   1.9865\n",
       "1874      limpio       0.187820       3.328125  Topic20 -13.6172   1.9863\n",
       "2007       lugar       0.187842       3.329894  Topic20 -13.6170   1.9858\n",
       "1715       buena       0.187813       3.328004  Topic20 -13.6172   1.9863\n",
       "1109  absolutely       0.187799       3.327173  Topic20 -13.6173   1.9864\n",
       "\n",
       "[824 rows x 6 columns], token_table=      Topic      Freq  Term\n",
       "term                       \n",
       "415       3  0.999756     2\n",
       "415       7  0.000067     2\n",
       "0         5  0.214214  able\n",
       "0         7  0.636950  able\n",
       "0         8  0.059081  able\n",
       "...     ...       ...   ...\n",
       "742       7  0.000124  year\n",
       "97        5  0.999951  york\n",
       "97        7  0.000016  york\n",
       "791       7  0.000386  zona\n",
       "791      15  0.998841  zona\n",
       "\n",
       "[1415 rows x 3 columns], R=30, lambda_step=0.01, plot_opts={'xlab': 'PC1', 'ylab': 'PC2'}, topic_order=[2, 13, 7, 10, 14, 15, 11, 5, 4, 17, 8, 18, 9, 1, 3, 16, 19, 6, 12, 20])"
      ]
     },
     "execution_count": 33,
     "metadata": {},
     "output_type": "execute_result"
    }
   ],
   "source": [
    "pyLDAvis.enable_notebook()\n",
    "vis = pyLDAvis.gensim.prepare(comment_lda, corpus, id2word)\n",
    "vis"
   ]
  },
  {
   "cell_type": "code",
   "execution_count": 34,
   "metadata": {},
   "outputs": [],
   "source": [
    "def compute_coherence_values(dictionary, corpus, texts, limit, start=2, step=3):\n",
    "    coherence_values = []\n",
    "    model_list = []\n",
    "    for num_topics in range(start, limit, step):\n",
    "        model = gensim.models.ldamulticore.LdaMulticore(corpus=corpus,\n",
    "                                                        id2word=id2word,\n",
    "                                                        num_topics=num_topics, \n",
    "                                                        chunksize=100,\n",
    "                                                        passes=10,\n",
    "                                                        per_word_topics=True,\n",
    "                                                        workers=6)\n",
    "        model_list.append(model)\n",
    "        coherencemodel = CoherenceModel(model=model, texts=texts, dictionary=dictionary, coherence='c_v')\n",
    "        coherence_values.append(coherencemodel.get_coherence())\n",
    "\n",
    "    return model_list, coherence_values"
   ]
  },
  {
   "cell_type": "code",
   "execution_count": 36,
   "metadata": {},
   "outputs": [],
   "source": [
    "#model_list, coherence_values = compute_coherence_values(dictionary=id2word, corpus=corpus, texts=df['lemmas'], start=2, limit=22, step=4)"
   ]
  },
  {
   "cell_type": "code",
   "execution_count": 38,
   "metadata": {},
   "outputs": [],
   "source": [
    "# use these values for the plot if compute_coherence_values takes too long to run \n",
    "coherence_values = [0.5054, 0.5332, 0.5452, 0.564, 0.5678, 0.5518, 0.519]"
   ]
  },
  {
   "cell_type": "code",
   "execution_count": 39,
   "metadata": {},
   "outputs": [
    {
     "name": "stderr",
     "output_type": "stream",
     "text": [
      "Traceback (most recent call last):\n",
      "  File \"/opt/anaconda3/envs/NNs/lib/python3.8/multiprocessing/queues.py\", line 245, in _feed\n",
      "    send_bytes(obj)\n",
      "  File \"/opt/anaconda3/envs/NNs/lib/python3.8/multiprocessing/connection.py\", line 200, in send_bytes\n",
      "    self._send_bytes(m[offset:offset + size])\n",
      "  File \"/opt/anaconda3/envs/NNs/lib/python3.8/multiprocessing/connection.py\", line 405, in _send_bytes\n",
      "    self._send(buf)\n",
      "  File \"/opt/anaconda3/envs/NNs/lib/python3.8/multiprocessing/connection.py\", line 368, in _send\n",
      "    n = write(self._handle, buf)\n",
      "BrokenPipeError: [Errno 32] Broken pipe\n",
      "Traceback (most recent call last):\n",
      "  File \"/opt/anaconda3/envs/NNs/lib/python3.8/multiprocessing/queues.py\", line 245, in _feed\n",
      "    send_bytes(obj)\n",
      "  File \"/opt/anaconda3/envs/NNs/lib/python3.8/multiprocessing/connection.py\", line 200, in send_bytes\n",
      "    self._send_bytes(m[offset:offset + size])\n",
      "  File \"/opt/anaconda3/envs/NNs/lib/python3.8/multiprocessing/connection.py\", line 404, in _send_bytes\n",
      "    self._send(header)\n",
      "  File \"/opt/anaconda3/envs/NNs/lib/python3.8/multiprocessing/connection.py\", line 368, in _send\n",
      "    n = write(self._handle, buf)\n",
      "BrokenPipeError: [Errno 32] Broken pipe\n",
      "Traceback (most recent call last):\n",
      "  File \"/opt/anaconda3/envs/NNs/lib/python3.8/multiprocessing/queues.py\", line 245, in _feed\n",
      "    send_bytes(obj)\n",
      "  File \"/opt/anaconda3/envs/NNs/lib/python3.8/multiprocessing/connection.py\", line 200, in send_bytes\n",
      "    self._send_bytes(m[offset:offset + size])\n",
      "  File \"/opt/anaconda3/envs/NNs/lib/python3.8/multiprocessing/connection.py\", line 404, in _send_bytes\n",
      "    self._send(header)\n",
      "  File \"/opt/anaconda3/envs/NNs/lib/python3.8/multiprocessing/connection.py\", line 368, in _send\n",
      "    n = write(self._handle, buf)\n",
      "BrokenPipeError: [Errno 32] Broken pipe\n",
      "Traceback (most recent call last):\n",
      "  File \"/opt/anaconda3/envs/NNs/lib/python3.8/multiprocessing/queues.py\", line 245, in _feed\n",
      "    send_bytes(obj)\n",
      "  File \"/opt/anaconda3/envs/NNs/lib/python3.8/multiprocessing/connection.py\", line 200, in send_bytes\n",
      "    self._send_bytes(m[offset:offset + size])\n",
      "  File \"/opt/anaconda3/envs/NNs/lib/python3.8/multiprocessing/connection.py\", line 404, in _send_bytes\n",
      "    self._send(header)\n",
      "  File \"/opt/anaconda3/envs/NNs/lib/python3.8/multiprocessing/connection.py\", line 368, in _send\n",
      "    n = write(self._handle, buf)\n",
      "BrokenPipeError: [Errno 32] Broken pipe\n",
      "Traceback (most recent call last):\n",
      "  File \"/opt/anaconda3/envs/NNs/lib/python3.8/multiprocessing/queues.py\", line 245, in _feed\n",
      "    send_bytes(obj)\n",
      "  File \"/opt/anaconda3/envs/NNs/lib/python3.8/multiprocessing/connection.py\", line 200, in send_bytes\n",
      "    self._send_bytes(m[offset:offset + size])\n",
      "  File \"/opt/anaconda3/envs/NNs/lib/python3.8/multiprocessing/connection.py\", line 404, in _send_bytes\n",
      "    self._send(header)\n",
      "  File \"/opt/anaconda3/envs/NNs/lib/python3.8/multiprocessing/connection.py\", line 368, in _send\n",
      "    n = write(self._handle, buf)\n",
      "BrokenPipeError: [Errno 32] Broken pipe\n",
      "Traceback (most recent call last):\n",
      "  File \"/opt/anaconda3/envs/NNs/lib/python3.8/multiprocessing/queues.py\", line 245, in _feed\n",
      "    send_bytes(obj)\n",
      "  File \"/opt/anaconda3/envs/NNs/lib/python3.8/multiprocessing/connection.py\", line 200, in send_bytes\n",
      "    self._send_bytes(m[offset:offset + size])\n",
      "  File \"/opt/anaconda3/envs/NNs/lib/python3.8/multiprocessing/connection.py\", line 404, in _send_bytes\n",
      "    self._send(header)\n",
      "  File \"/opt/anaconda3/envs/NNs/lib/python3.8/multiprocessing/connection.py\", line 368, in _send\n",
      "    n = write(self._handle, buf)\n",
      "BrokenPipeError: [Errno 32] Broken pipe\n",
      "Traceback (most recent call last):\n",
      "  File \"/opt/anaconda3/envs/NNs/lib/python3.8/multiprocessing/queues.py\", line 245, in _feed\n",
      "    send_bytes(obj)\n",
      "  File \"/opt/anaconda3/envs/NNs/lib/python3.8/multiprocessing/connection.py\", line 200, in send_bytes\n",
      "    self._send_bytes(m[offset:offset + size])\n",
      "  File \"/opt/anaconda3/envs/NNs/lib/python3.8/multiprocessing/connection.py\", line 404, in _send_bytes\n",
      "    self._send(header)\n",
      "  File \"/opt/anaconda3/envs/NNs/lib/python3.8/multiprocessing/connection.py\", line 368, in _send\n",
      "    n = write(self._handle, buf)\n",
      "BrokenPipeError: [Errno 32] Broken pipe\n",
      "Traceback (most recent call last):\n",
      "  File \"/opt/anaconda3/envs/NNs/lib/python3.8/multiprocessing/queues.py\", line 245, in _feed\n",
      "    send_bytes(obj)\n",
      "  File \"/opt/anaconda3/envs/NNs/lib/python3.8/multiprocessing/connection.py\", line 200, in send_bytes\n",
      "    self._send_bytes(m[offset:offset + size])\n",
      "  File \"/opt/anaconda3/envs/NNs/lib/python3.8/multiprocessing/connection.py\", line 404, in _send_bytes\n",
      "    self._send(header)\n",
      "  File \"/opt/anaconda3/envs/NNs/lib/python3.8/multiprocessing/connection.py\", line 368, in _send\n",
      "    n = write(self._handle, buf)\n",
      "BrokenPipeError: [Errno 32] Broken pipe\n",
      "Traceback (most recent call last):\n",
      "  File \"/opt/anaconda3/envs/NNs/lib/python3.8/multiprocessing/queues.py\", line 245, in _feed\n",
      "    send_bytes(obj)\n",
      "  File \"/opt/anaconda3/envs/NNs/lib/python3.8/multiprocessing/connection.py\", line 200, in send_bytes\n",
      "    self._send_bytes(m[offset:offset + size])\n",
      "  File \"/opt/anaconda3/envs/NNs/lib/python3.8/multiprocessing/connection.py\", line 404, in _send_bytes\n",
      "    self._send(header)\n",
      "  File \"/opt/anaconda3/envs/NNs/lib/python3.8/multiprocessing/connection.py\", line 368, in _send\n",
      "    n = write(self._handle, buf)\n",
      "BrokenPipeError: [Errno 32] Broken pipe\n",
      "Traceback (most recent call last):\n",
      "  File \"/opt/anaconda3/envs/NNs/lib/python3.8/multiprocessing/queues.py\", line 245, in _feed\n",
      "    send_bytes(obj)\n",
      "  File \"/opt/anaconda3/envs/NNs/lib/python3.8/multiprocessing/connection.py\", line 200, in send_bytes\n",
      "    self._send_bytes(m[offset:offset + size])\n",
      "  File \"/opt/anaconda3/envs/NNs/lib/python3.8/multiprocessing/connection.py\", line 404, in _send_bytes\n",
      "    self._send(header)\n",
      "  File \"/opt/anaconda3/envs/NNs/lib/python3.8/multiprocessing/connection.py\", line 368, in _send\n",
      "    n = write(self._handle, buf)\n",
      "BrokenPipeError: [Errno 32] Broken pipe\n",
      "Traceback (most recent call last):\n",
      "  File \"/opt/anaconda3/envs/NNs/lib/python3.8/multiprocessing/queues.py\", line 245, in _feed\n",
      "    send_bytes(obj)\n",
      "  File \"/opt/anaconda3/envs/NNs/lib/python3.8/multiprocessing/connection.py\", line 200, in send_bytes\n",
      "    self._send_bytes(m[offset:offset + size])\n",
      "  File \"/opt/anaconda3/envs/NNs/lib/python3.8/multiprocessing/connection.py\", line 404, in _send_bytes\n",
      "    self._send(header)\n",
      "  File \"/opt/anaconda3/envs/NNs/lib/python3.8/multiprocessing/connection.py\", line 368, in _send\n",
      "    n = write(self._handle, buf)\n",
      "BrokenPipeError: [Errno 32] Broken pipe\n",
      "Traceback (most recent call last):\n",
      "  File \"/opt/anaconda3/envs/NNs/lib/python3.8/multiprocessing/queues.py\", line 245, in _feed\n",
      "    send_bytes(obj)\n",
      "  File \"/opt/anaconda3/envs/NNs/lib/python3.8/multiprocessing/connection.py\", line 200, in send_bytes\n",
      "    self._send_bytes(m[offset:offset + size])\n",
      "  File \"/opt/anaconda3/envs/NNs/lib/python3.8/multiprocessing/connection.py\", line 404, in _send_bytes\n",
      "    self._send(header)\n",
      "  File \"/opt/anaconda3/envs/NNs/lib/python3.8/multiprocessing/connection.py\", line 368, in _send\n",
      "    n = write(self._handle, buf)\n",
      "BrokenPipeError: [Errno 32] Broken pipe\n"
     ]
    },
    {
     "data": {
      "image/png": "[encoded data removed]",
      "text/plain": [
       "<Figure size 432x288 with 1 Axes>"
      ]
     },
     "metadata": {
      "needs_background": "light"
     },
     "output_type": "display_data"
    }
   ],
   "source": [
    "limit=40; start=2; step=6;\n",
    "x = range(start, limit, step)\n",
    "plt.plot(x, coherence_values)\n",
    "plt.xlabel(\"Num Topics\")\n",
    "plt.ylabel(\"Coherence score\")\n",
    "plt.legend((\"coherence_values\"), loc='best')\n",
    "plt.show()"
   ]
  },
  {
   "cell_type": "code",
   "execution_count": 40,
   "metadata": {},
   "outputs": [
    {
     "name": "stdout",
     "output_type": "stream",
     "text": [
      "Num Topics = 2  has Coherence Value of 0.5054\n",
      "Num Topics = 8  has Coherence Value of 0.5332\n",
      "Num Topics = 14  has Coherence Value of 0.5452\n",
      "Num Topics = 20  has Coherence Value of 0.564\n",
      "Num Topics = 26  has Coherence Value of 0.5678\n",
      "Num Topics = 32  has Coherence Value of 0.5518\n",
      "Num Topics = 38  has Coherence Value of 0.519\n"
     ]
    }
   ],
   "source": [
    "for m, cv in zip(x, coherence_values):\n",
    "    print(\"Num Topics =\", m, \" has Coherence Value of\", round(cv, 4))"
   ]
  },
  {
   "cell_type": "code",
   "execution_count": 46,
   "metadata": {},
   "outputs": [
    {
     "name": "stdout",
     "output_type": "stream",
     "text": [
      "[(0,\n",
      "  '0.202*\"quick\" + 0.166*\"responsive\" + 0.156*\"respond\" + 0.101*\"issue\" + '\n",
      "  '0.077*\"quickly\" + 0.058*\"list\" + 0.049*\"service\" + 0.041*\"message\" + '\n",
      "  '0.029*\"entire\" + 0.022*\"backyard\"'),\n",
      " (1,\n",
      "  '0.073*\"stay\" + 0.068*\"place\" + 0.043*\"home\" + 0.036*\"feel\" + 0.030*\"clean\" '\n",
      "  '+ 0.030*\"well\" + 0.028*\"cozy\" + 0.028*\"like\" + 0.027*\"host\" + '\n",
      "  '0.026*\"definitely\"'),\n",
      " (2,\n",
      "  '0.344*\"airbnb\" + 0.123*\"shower\" + 0.105*\"take\" + 0.072*\"care\" + '\n",
      "  '0.055*\"wrong\" + 0.044*\"point\" + 0.042*\"hide\" + 0.041*\"fine\" + 0.039*\"ideal\" '\n",
      "  '+ 0.022*\"chair\"'),\n",
      " (3,\n",
      "  '0.159*\"muy\" + 0.094*\"que\" + 0.080*\"con\" + 0.057*\"todo\" + 0.054*\"para\" + '\n",
      "  '0.052*\"una\" + 0.035*\"ubicaci\" + 0.032*\"est\" + 0.031*\"bien\" + 0.030*\"por\"'),\n",
      " (4,\n",
      "  '0.077*\"bedroom\" + 0.055*\"kitchen\" + 0.051*\"area\" + 0.050*\"value\" + '\n",
      "  '0.049*\"private\" + 0.045*\"cool\" + 0.044*\"pretty\" + 0.040*\"door\" + '\n",
      "  '0.037*\"bathroom\" + 0.035*\"travel\"'),\n",
      " (5,\n",
      "  '0.196*\"awesome\" + 0.192*\"excellent\" + 0.137*\"don\" + 0.071*\"host\" + '\n",
      "  '0.042*\"win\" + 0.039*\"expectation\" + 0.039*\"wouldn\" + 0.028*\"las\" + '\n",
      "  '0.028*\"gracious\" + 0.027*\"business\"'),\n",
      " (6,\n",
      "  '0.047*\"book\" + 0.045*\"room\" + 0.028*\"apartment\" + 0.026*\"night\" + '\n",
      "  '0.024*\"work\" + 0.018*\"live\" + 0.018*\"build\" + 0.018*\"didn\" + 0.017*\"food\" + '\n",
      "  '0.017*\"store\"'),\n",
      " (7,\n",
      "  '0.091*\"bed\" + 0.061*\"provide\" + 0.058*\"hospitality\" + 0.056*\"comfy\" + '\n",
      "  '0.056*\"give\" + 0.053*\"overall\" + 0.048*\"person\" + 0.039*\"towel\" + '\n",
      "  '0.036*\"decorate\" + 0.033*\"eat\"'),\n",
      " (8,\n",
      "  '0.517*\"check\" + 0.051*\"excelente\" + 0.041*\"flexible\" + 0.038*\"internet\" + '\n",
      "  '0.032*\"prompt\" + 0.030*\"cerca\" + 0.026*\"metro\" + 0.025*\"unique\" + '\n",
      "  '0.022*\"fue\" + 0.021*\"nos\"'),\n",
      " (9,\n",
      "  '0.104*\"stay\" + 0.087*\"place\" + 0.081*\"recommend\" + 0.077*\"host\" + '\n",
      "  '0.061*\"great\" + 0.053*\"amaze\" + 0.053*\"clean\" + 0.050*\"definitely\" + '\n",
      "  '0.038*\"highly\" + 0.033*\"location\"'),\n",
      " (10,\n",
      "  '0.143*\"term\" + 0.122*\"instruction\" + 0.086*\"talk\" + 0.068*\"able\" + '\n",
      "  '0.055*\"son\" + 0.046*\"est\" + 0.044*\"pass\" + 0.042*\"les\" + 0.031*\"pour\" + '\n",
      "  '0.028*\"union\"'),\n",
      " (11,\n",
      "  '0.295*\"spot\" + 0.192*\"amenity\" + 0.085*\"photo\" + 0.051*\"neighbor\" + '\n",
      "  '0.049*\"public\" + 0.048*\"easily\" + 0.047*\"outstanding\" + 0.043*\"accessible\" '\n",
      "  '+ 0.039*\"bright\" + 0.030*\"probably\"'),\n",
      " (12,\n",
      "  '0.059*\"great\" + 0.055*\"apartment\" + 0.047*\"location\" + 0.047*\"close\" + '\n",
      "  '0.041*\"walk\" + 0.040*\"park\" + 0.038*\"restaurant\" + 0.037*\"easy\" + '\n",
      "  '0.035*\"place\" + 0.035*\"clean\"'),\n",
      " (13,\n",
      "  '0.066*\"new\" + 0.056*\"time\" + 0.038*\"york\" + 0.038*\"exactly\" + 0.037*\"away\" '\n",
      "  '+ 0.036*\"minute\" + 0.033*\"hotel\" + 0.030*\"station\" + 0.026*\"central\" + '\n",
      "  '0.025*\"square\"'),\n",
      " (14,\n",
      "  '0.206*\"nice\" + 0.121*\"clean\" + 0.118*\"place\" + 0.109*\"good\" + 0.084*\"room\" '\n",
      "  '+ 0.058*\"stay\" + 0.046*\"host\" + 0.040*\"house\" + 0.036*\"comfortable\" + '\n",
      "  '0.019*\"area\"'),\n",
      " (15,\n",
      "  '0.400*\"space\" + 0.145*\"love\" + 0.138*\"beautiful\" + 0.092*\"stylish\" + '\n",
      "  '0.075*\"family\" + 0.054*\"coffee\" + 0.034*\"communicative\" + 0.018*\"quiet\" + '\n",
      "  '0.017*\"ask\" + 0.007*\"fan\"'),\n",
      " (16,\n",
      "  '0.420*\"great\" + 0.157*\"place\" + 0.154*\"location\" + 0.107*\"stay\" + '\n",
      "  '0.067*\"communication\" + 0.032*\"perfect\" + 0.027*\"fast\" + 0.009*\"reply\" + '\n",
      "  '0.009*\"experience\" + 0.004*\"people\"'),\n",
      " (17,\n",
      "  '0.199*\"super\" + 0.124*\"convenient\" + 0.090*\"host\" + 0.087*\"cute\" + '\n",
      "  '0.075*\"small\" + 0.049*\"day\" + 0.048*\"smell\" + 0.045*\"apt\" + 0.043*\"studio\" '\n",
      "  '+ 0.038*\"arrival\"'),\n",
      " (18,\n",
      "  '0.178*\"help\" + 0.121*\"cook\" + 0.116*\"thoughtful\" + 0.091*\"offer\" + '\n",
      "  '0.067*\"simple\" + 0.050*\"dry\" + 0.040*\"send\" + 0.035*\"sit\" + '\n",
      "  '0.031*\"renovate\" + 0.031*\"breakfast\"'),\n",
      " (19,\n",
      "  '0.436*\"light\" + 0.284*\"large\" + 0.073*\"fill\" + 0.047*\"habitaci\" + '\n",
      "  '0.025*\"mejor\" + 0.018*\"estaba\" + 0.011*\"cuando\" + 0.006*\"sido\" + '\n",
      "  '0.006*\"ser\" + 0.002*\"ayudar\"')]\n"
     ]
    }
   ],
   "source": [
    "optimal_model =  gensim.models.LdaModel.load('comment_lda2.model')\n",
    "model_topics = optimal_model.show_topics(formatted=False)\n",
    "pprint(optimal_model.print_topics(num_words=10))"
   ]
  },
  {
   "cell_type": "code",
   "execution_count": null,
   "metadata": {},
   "outputs": [],
   "source": []
  }
 ],
 "metadata": {
  "kernelspec": {
   "display_name": "NNse",
   "language": "python",
   "name": "u4-s1-nns"
  },
  "language_info": {
   "codemirror_mode": {
    "name": "ipython",
    "version": 3
   },
   "file_extension": ".py",
   "mimetype": "text/x-python",
   "name": "python",
   "nbconvert_exporter": "python",
   "pygments_lexer": "ipython3",
   "version": "3.8.5"
  }
 },
 "nbformat": 4,
 "nbformat_minor": 4
}
