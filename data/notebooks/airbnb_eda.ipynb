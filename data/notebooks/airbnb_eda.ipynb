{
 "cells": [
  {
   "cell_type": "code",
   "execution_count": null,
   "metadata": {},
   "outputs": [],
   "source": [
    "wget 'https://www.kaggle.com/stevezhenghp/airbnb-price-prediction/download'"
   ]
  },
  {
   "cell_type": "code",
   "execution_count": null,
   "metadata": {},
   "outputs": [],
   "source": [
    "!unzip 'download.ZIP'"
   ]
  },
  {
   "cell_type": "code",
   "execution_count": null,
   "metadata": {},
   "outputs": [],
   "source": [
    "\n",
    "\n",
    "# %%\n",
    "import pandas as pd\n",
    "import numpy as np\n",
    "!pip install pandas-profiling==2.*\n",
    "!pip install category_encoders==2.*\n",
    "\n",
    "# %%\n",
    "# Use jupyter instead of colab\n",
    "#from google.colab import drive\n",
    "#drive.mount('/content/drive')\n",
    "\n",
    "# %%\n",
    "df = pd.read_csv('train.csv', skiprows=[26044])\n",
    "df.head()\n",
    "\n",
    "# %%\n",
    "import matplotlib.pyplot as plt\n",
    "import datetime as dt\n",
    "from pandas_profiling import ProfileReport\n",
    "profile = ProfileReport(df, minimal=True).to_notebook_iframe()\n",
    "profile\n",
    "\n",
    "# %%\n",
    "df['neighbourhood'].value_counts()[:10]\n",
    "\n",
    "# %%\n",
    "df_trainable = df.drop(['id', 'thumbnail_url', 'amenities','description', 'name',],axis = 1)\n",
    "df_trainable['first_review'] = pd.to_datetime(df_trainable['first_review']).map(dt.datetime.toordinal)\n",
    "df_trainable['host_since'] = pd.to_datetime(df_trainable['host_since']).map(dt.datetime.toordinal)\n",
    "df_trainable['last_review'] = pd.to_datetime(df_trainable['last_review']).map(dt.datetime.toordinal)\n",
    "df_trainable.head()\n",
    "\n",
    "# %%\n",
    "from sklearn.model_selection import train_test_split\n",
    "from sklearn.pipeline import Pipeline\n",
    "from sklearn.impute import SimpleImputer\n",
    "from sklearn.preprocessing import MinMaxScaler\n",
    "from category_encoders import OrdinalEncoder\n",
    "from xgboost import XGBRegressor\n",
    "\n",
    "# %%\n",
    "X = df_trainable.drop('log_price',axis=1)\n",
    "y = df_trainable.log_price\n",
    "X_train,X_val,y_train,y_val = train_test_split(X,y,test_size = 0.25,random_state=42)\n",
    "\n",
    "# %%\n",
    "pipe = Pipeline([\n",
    "                ('encode',OrdinalEncoder()),\n",
    "                ('impute', SimpleImputer()),\n",
    "                ('scale',MinMaxScaler()),\n",
    "                ('model',XGBRegressor(random_state=41))\n",
    "                ])\n",
    "pipe.fit(X_train,y_train)\n",
    "\n",
    "# %%\n",
    "pipe['model'].feature_importances_\n",
    "\n",
    "# %%\n",
    "from xgboost import plot_importance\n",
    "plot_importance(pipe['model'], max_num_features=10)\n",
    "\n",
    "# %%\n",
    "X_train.columns[[16,15,2,14,1,3,21,0,19,17]]\n",
    "\n",
    "# %%\n",
    "X_train.columns\n",
    "\n",
    "# %%\n",
    "y_pred = pipe.predict(X_val)\n",
    "\n",
    "# %%\n",
    "from sklearn.metrics import mean_squared_error as MSE\n",
    "MSE(y_pred,y_val)\n",
    "\n",
    "# %%\n",
    "from sklearn.linear_model import LinearRegression\n",
    "pipe = Pipeline([\n",
    "                ('encode',OrdinalEncoder()),\n",
    "                ('impute', SimpleImputer()),\n",
    "                ('scale',MinMaxScaler()),\n",
    "                ('model',LinearRegression())\n",
    "                ])\n",
    "pipe.fit(X_train,y_train)\n",
    "\n",
    "# %%\n",
    "features = X_train.columns\n",
    "coefficients = np.absolute(pipe.named_steps['model'].coef_)\n",
    "pd.Series(coefficients, features).sort_values(ascending=False)\n",
    "\n",
    "\n"
   ]
  },
  {
   "cell_type": "code",
   "execution_count": null,
   "metadata": {},
   "outputs": [],
   "source": []
  },
  {
   "cell_type": "code",
   "execution_count": null,
   "metadata": {},
   "outputs": [],
   "source": []
  },
  {
   "cell_type": "code",
   "execution_count": null,
   "metadata": {},
   "outputs": [],
   "source": []
  },
  {
   "cell_type": "code",
   "execution_count": null,
   "metadata": {},
   "outputs": [],
   "source": []
  },
  {
   "cell_type": "code",
   "execution_count": null,
   "metadata": {},
   "outputs": [],
   "source": []
  },
  {
   "cell_type": "code",
   "execution_count": null,
   "metadata": {},
   "outputs": [],
   "source": []
  },
  {
   "cell_type": "code",
   "execution_count": null,
   "metadata": {},
   "outputs": [],
   "source": []
  },
  {
   "cell_type": "code",
   "execution_count": null,
   "metadata": {},
   "outputs": [],
   "source": []
  },
  {
   "cell_type": "code",
   "execution_count": null,
   "metadata": {},
   "outputs": [],
   "source": []
  },
  {
   "cell_type": "code",
   "execution_count": null,
   "metadata": {},
   "outputs": [],
   "source": []
  },
  {
   "cell_type": "code",
   "execution_count": null,
   "metadata": {},
   "outputs": [],
   "source": []
  },
  {
   "cell_type": "code",
   "execution_count": null,
   "metadata": {},
   "outputs": [],
   "source": []
  },
  {
   "cell_type": "code",
   "execution_count": null,
   "metadata": {},
   "outputs": [],
   "source": []
  },
  {
   "cell_type": "code",
   "execution_count": null,
   "metadata": {},
   "outputs": [],
   "source": []
  },
  {
   "cell_type": "code",
   "execution_count": null,
   "metadata": {},
   "outputs": [],
   "source": []
  },
  {
   "cell_type": "code",
   "execution_count": null,
   "metadata": {},
   "outputs": [],
   "source": []
  },
  {
   "cell_type": "code",
   "execution_count": null,
   "metadata": {},
   "outputs": [],
   "source": []
  },
  {
   "cell_type": "code",
   "execution_count": null,
   "metadata": {},
   "outputs": [],
   "source": []
  },
  {
   "cell_type": "code",
   "execution_count": null,
   "metadata": {},
   "outputs": [],
   "source": []
  },
  {
   "cell_type": "code",
   "execution_count": null,
   "metadata": {},
   "outputs": [],
   "source": []
  },
  {
   "cell_type": "code",
   "execution_count": null,
   "metadata": {},
   "outputs": [],
   "source": []
  },
  {
   "cell_type": "code",
   "execution_count": null,
   "metadata": {},
   "outputs": [],
   "source": []
  }
 ],
 "metadata": {
  "language_info": {
   "name": "python"
  },
  "orig_nbformat": 4
 },
 "nbformat": 4,
 "nbformat_minor": 2
}
